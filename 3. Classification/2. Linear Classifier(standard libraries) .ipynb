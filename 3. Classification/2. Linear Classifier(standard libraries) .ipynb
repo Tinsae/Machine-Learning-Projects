{
 "cells": [
  {
   "cell_type": "markdown",
   "metadata": {},
   "source": [
    "# Predicting sentiment from product reviews\n",
    "\n",
    "\n",
    "The goal of this first notebook is to explore logistic regression and feature engineering with existing Scikit-Learn functions.\n",
    "\n",
    "In this notebook you will use product review data from Amazon.com to predict whether the sentiments about a product (from its reviews) are positive or negative.\n",
    "\n",
    "* Use Pandas to do some feature engineering\n",
    "* Train a logistic regression model to predict the sentiment of product reviews.\n",
    "* Inspect the weights (coefficients) of a trained logistic regression model.\n",
    "* Make a prediction (both class and probability) of sentiment for a new product review.\n",
    "* Given the logistic regression weights, predictors and ground truth labels, write a function to compute the **accuracy** of the model.\n",
    "* Inspect the coefficients of the logistic regression model and interpret their meanings.\n",
    "* Compare multiple logistic regression models.\n",
    "\n",
    "Let's get started!"
   ]
  },
  {
   "cell_type": "code",
   "execution_count": 1,
   "metadata": {},
   "outputs": [],
   "source": [
    "import pandas as pd\n",
    "import numpy as np\n",
    "import matplotlib.pyplot as plt\n",
    "import seaborn as sns\n",
    "from sklearn.linear_model import LinearRegression\n",
    "from sklearn.linear_model import Ridge\n",
    "from sklearn.linear_model import LogisticRegression"
   ]
  },
  {
   "cell_type": "markdown",
   "metadata": {},
   "source": [
    "### 1. Load and Explore Data"
   ]
  },
  {
   "cell_type": "code",
   "execution_count": 2,
   "metadata": {},
   "outputs": [
    {
     "data": {
      "text/html": [
       "<div>\n",
       "<style scoped>\n",
       "    .dataframe tbody tr th:only-of-type {\n",
       "        vertical-align: middle;\n",
       "    }\n",
       "\n",
       "    .dataframe tbody tr th {\n",
       "        vertical-align: top;\n",
       "    }\n",
       "\n",
       "    .dataframe thead th {\n",
       "        text-align: right;\n",
       "    }\n",
       "</style>\n",
       "<table border=\"1\" class=\"dataframe\">\n",
       "  <thead>\n",
       "    <tr style=\"text-align: right;\">\n",
       "      <th></th>\n",
       "      <th>name</th>\n",
       "      <th>review</th>\n",
       "      <th>rating</th>\n",
       "    </tr>\n",
       "  </thead>\n",
       "  <tbody>\n",
       "    <tr>\n",
       "      <th>0</th>\n",
       "      <td>Planetwise Flannel Wipes</td>\n",
       "      <td>These flannel wipes are OK, but in my opinion ...</td>\n",
       "      <td>3</td>\n",
       "    </tr>\n",
       "    <tr>\n",
       "      <th>1</th>\n",
       "      <td>Planetwise Wipe Pouch</td>\n",
       "      <td>it came early and was not disappointed. i love...</td>\n",
       "      <td>5</td>\n",
       "    </tr>\n",
       "    <tr>\n",
       "      <th>2</th>\n",
       "      <td>Annas Dream Full Quilt with 2 Shams</td>\n",
       "      <td>Very soft and comfortable and warmer than it l...</td>\n",
       "      <td>5</td>\n",
       "    </tr>\n",
       "    <tr>\n",
       "      <th>3</th>\n",
       "      <td>Stop Pacifier Sucking without tears with Thumb...</td>\n",
       "      <td>This is a product well worth the purchase.  I ...</td>\n",
       "      <td>5</td>\n",
       "    </tr>\n",
       "    <tr>\n",
       "      <th>4</th>\n",
       "      <td>Stop Pacifier Sucking without tears with Thumb...</td>\n",
       "      <td>All of my kids have cried non-stop when I trie...</td>\n",
       "      <td>5</td>\n",
       "    </tr>\n",
       "  </tbody>\n",
       "</table>\n",
       "</div>"
      ],
      "text/plain": [
       "                                                name  \\\n",
       "0                           Planetwise Flannel Wipes   \n",
       "1                              Planetwise Wipe Pouch   \n",
       "2                Annas Dream Full Quilt with 2 Shams   \n",
       "3  Stop Pacifier Sucking without tears with Thumb...   \n",
       "4  Stop Pacifier Sucking without tears with Thumb...   \n",
       "\n",
       "                                              review  rating  \n",
       "0  These flannel wipes are OK, but in my opinion ...       3  \n",
       "1  it came early and was not disappointed. i love...       5  \n",
       "2  Very soft and comfortable and warmer than it l...       5  \n",
       "3  This is a product well worth the purchase.  I ...       5  \n",
       "4  All of my kids have cried non-stop when I trie...       5  "
      ]
     },
     "execution_count": 2,
     "metadata": {},
     "output_type": "execute_result"
    }
   ],
   "source": [
    "products = pd.read_csv(\"../../ML Data & Script/amazon_baby.csv\")\n",
    "products.head(5)"
   ]
  },
  {
   "cell_type": "code",
   "execution_count": 3,
   "metadata": {},
   "outputs": [
    {
     "data": {
      "text/plain": [
       "(183531, 3)"
      ]
     },
     "execution_count": 3,
     "metadata": {},
     "output_type": "execute_result"
    }
   ],
   "source": [
    "# how many rows\n",
    "products.shape"
   ]
  },
  {
   "cell_type": "code",
   "execution_count": 4,
   "metadata": {},
   "outputs": [
    {
     "data": {
      "text/plain": [
       "1     15183\n",
       "2     11310\n",
       "3     16779\n",
       "4     33205\n",
       "5    107054\n",
       "Name: rating, dtype: int64"
      ]
     },
     "execution_count": 4,
     "metadata": {},
     "output_type": "execute_result"
    }
   ],
   "source": [
    "# classes\n",
    "count_classes = products.rating.value_counts().sort_index()\n",
    "count_classes"
   ]
  },
  {
   "cell_type": "code",
   "execution_count": 5,
   "metadata": {},
   "outputs": [
    {
     "data": {
      "image/png": "[encoded data removed]",
      "text/plain": [
       "<Figure size 432x288 with 1 Axes>"
      ]
     },
     "metadata": {
      "needs_background": "light"
     },
     "output_type": "display_data"
    }
   ],
   "source": [
    "# plot classes count\n",
    "count_classes.plot(kind = 'bar')\n",
    "plt.title(\"Imbalanced Classes\")\n",
    "plt.xlabel(\"Class\")\n",
    "plt.ylabel(\"Frequency\")\n",
    "plt.show()"
   ]
  },
  {
   "cell_type": "code",
   "execution_count": 6,
   "metadata": {},
   "outputs": [
    {
     "data": {
      "text/plain": [
       "name      318\n",
       "review    829\n",
       "rating      0\n",
       "dtype: int64"
      ]
     },
     "execution_count": 6,
     "metadata": {},
     "output_type": "execute_result"
    }
   ],
   "source": [
    "# nulls?\n",
    "products.isna().sum()"
   ]
  },
  {
   "cell_type": "code",
   "execution_count": 7,
   "metadata": {},
   "outputs": [
    {
     "data": {
      "text/plain": [
       "name      318\n",
       "review      0\n",
       "rating      0\n",
       "dtype: int64"
      ]
     },
     "execution_count": 7,
     "metadata": {},
     "output_type": "execute_result"
    }
   ],
   "source": [
    "# only drop rows if review is missing\n",
    "products = products[pd.notnull(products.review)]\n",
    "products.isna().sum()"
   ]
  },
  {
   "cell_type": "code",
   "execution_count": 8,
   "metadata": {},
   "outputs": [
    {
     "data": {
      "text/plain": [
       "name      0\n",
       "review    0\n",
       "rating    0\n",
       "dtype: int64"
      ]
     },
     "execution_count": 8,
     "metadata": {},
     "output_type": "execute_result"
    }
   ],
   "source": [
    "# replace missing names with empty string\n",
    "products = products.fillna('')\n",
    "products.isna().sum()"
   ]
  },
  {
   "cell_type": "code",
   "execution_count": 9,
   "metadata": {},
   "outputs": [],
   "source": [
    "# see the length of the reviews(word count)\n",
    "products['length'] = products['review'].str.len()\n",
    "products[['review', 'length']].head()\n",
    "products.drop('length',axis=1, inplace=True)"
   ]
  },
  {
   "cell_type": "markdown",
   "metadata": {},
   "source": [
    "### 2. Data Preparation: Cleaning, Scaling, Feature Engineering,"
   ]
  },
  {
   "cell_type": "code",
   "execution_count": 10,
   "metadata": {},
   "outputs": [],
   "source": [
    "# remove rating of 3\n",
    "products = products[products['rating'] != 3]\n",
    "# convert rating to binary sentiment\n",
    "products['sentiment'] = products['rating'].apply(lambda rating : +1 if rating > 3 else -1)"
   ]
  },
  {
   "cell_type": "code",
   "execution_count": 11,
   "metadata": {},
   "outputs": [],
   "source": [
    "# remove punctuation and create word-count vector\n",
    "# regex patterns searches one character which is neither word character nor space\n",
    "products['review'] = products['review'].str.replace('[^\\w\\s]','')"
   ]
  },
  {
   "cell_type": "markdown",
   "metadata": {},
   "source": [
    "See https://machinelearningmastery.com/prepare-text-data-machine-learning-scikit-learn/"
   ]
  },
  {
   "cell_type": "code",
   "execution_count": 12,
   "metadata": {},
   "outputs": [],
   "source": [
    "X = products.iloc[:,:-1]\n",
    "y = products['sentiment']"
   ]
  },
  {
   "cell_type": "code",
   "execution_count": 13,
   "metadata": {},
   "outputs": [],
   "source": [
    "# create train-test split first\n",
    "from sklearn.model_selection import train_test_split\n",
    "X_train, X_test, y_train, y_test = train_test_split(X, y, train_size = 0.8 , test_size=0.2, shuffle=True)"
   ]
  },
  {
   "cell_type": "code",
   "execution_count": 14,
   "metadata": {},
   "outputs": [],
   "source": [
    "X_train = X_train.reset_index(drop=True)\n",
    "X_test = X_test.reset_index(drop=True)\n",
    "y_train = y_train.reset_index(drop=True)\n",
    "y_test = y_test.reset_index(drop=True)"
   ]
  },
  {
   "cell_type": "code",
   "execution_count": 15,
   "metadata": {},
   "outputs": [
    {
     "name": "stdout",
     "output_type": "stream",
     "text": [
      "(132780, 121769)\n",
      "(33195, 121769)\n"
     ]
    }
   ],
   "source": [
    "from sklearn.feature_extraction.text import CountVectorizer\n",
    "# Use this token pattern to keep single-letter words\n",
    "vectorizer = CountVectorizer(token_pattern=r'\\b\\w+\\b')\n",
    "matrix_train = vectorizer.fit_transform(X_train['review'])\n",
    "# the test set is vectorized using the vocabulary learned from the training data\n",
    "matrix_test = vectorizer.transform(X_test['review'])\n",
    "print(matrix_train.shape)\n",
    "print(matrix_test.shape)"
   ]
  },
  {
   "cell_type": "code",
   "execution_count": 16,
   "metadata": {},
   "outputs": [
    {
     "data": {
      "text/html": [
       "<div>\n",
       "<style scoped>\n",
       "    .dataframe tbody tr th:only-of-type {\n",
       "        vertical-align: middle;\n",
       "    }\n",
       "\n",
       "    .dataframe tbody tr th {\n",
       "        vertical-align: top;\n",
       "    }\n",
       "\n",
       "    .dataframe thead th {\n",
       "        text-align: right;\n",
       "    }\n",
       "</style>\n",
       "<table border=\"1\" class=\"dataframe\">\n",
       "  <thead>\n",
       "    <tr style=\"text-align: right;\">\n",
       "      <th></th>\n",
       "      <th>name</th>\n",
       "      <th>review</th>\n",
       "      <th>rating</th>\n",
       "    </tr>\n",
       "  </thead>\n",
       "  <tbody>\n",
       "    <tr>\n",
       "      <th>0</th>\n",
       "      <td>Withings Smart Baby Monitor, White</td>\n",
       "      <td>My wife and I purchased the Wiithings Smart Ba...</td>\n",
       "      <td>1</td>\n",
       "    </tr>\n",
       "    <tr>\n",
       "      <th>1</th>\n",
       "      <td>Infantino Couple a Spoons</td>\n",
       "      <td>I Use them daily they so easy to use with the ...</td>\n",
       "      <td>4</td>\n",
       "    </tr>\n",
       "    <tr>\n",
       "      <th>2</th>\n",
       "      <td>Simple Wishes Hands-Free Breastpump Bra, Pink,...</td>\n",
       "      <td>I recently bought this to use for pumping for ...</td>\n",
       "      <td>5</td>\n",
       "    </tr>\n",
       "    <tr>\n",
       "      <th>3</th>\n",
       "      <td>Thermos Foogo Leak-Proof Stainless Steel 10-Ou...</td>\n",
       "      <td>I bought one in blue and one in pink I followe...</td>\n",
       "      <td>5</td>\n",
       "    </tr>\n",
       "    <tr>\n",
       "      <th>4</th>\n",
       "      <td>Kate Aspen Set of 4 Victorian Style Key Place ...</td>\n",
       "      <td>Beautiful set of place card holders Ordered 24...</td>\n",
       "      <td>5</td>\n",
       "    </tr>\n",
       "  </tbody>\n",
       "</table>\n",
       "</div>"
      ],
      "text/plain": [
       "                                                name  \\\n",
       "0                 Withings Smart Baby Monitor, White   \n",
       "1                          Infantino Couple a Spoons   \n",
       "2  Simple Wishes Hands-Free Breastpump Bra, Pink,...   \n",
       "3  Thermos Foogo Leak-Proof Stainless Steel 10-Ou...   \n",
       "4  Kate Aspen Set of 4 Victorian Style Key Place ...   \n",
       "\n",
       "                                              review  rating  \n",
       "0  My wife and I purchased the Wiithings Smart Ba...       1  \n",
       "1  I Use them daily they so easy to use with the ...       4  \n",
       "2  I recently bought this to use for pumping for ...       5  \n",
       "3  I bought one in blue and one in pink I followe...       5  \n",
       "4  Beautiful set of place card holders Ordered 24...       5  "
      ]
     },
     "execution_count": 16,
     "metadata": {},
     "output_type": "execute_result"
    }
   ],
   "source": [
    "X_train.head()"
   ]
  },
  {
   "cell_type": "code",
   "execution_count": 17,
   "metadata": {},
   "outputs": [
    {
     "data": {
      "text/plain": [
       "{'my': 69984,\n",
       " 'wife': 119029,\n",
       " 'and': 10626,\n",
       " 'i': 54466,\n",
       " 'purchased': 85082,\n",
       " 'the': 106285,\n",
       " 'wiithings': 119086,\n",
       " 'smart': 97301,\n",
       " 'baby': 13700,\n",
       " 'monitor': 68326}"
      ]
     },
     "execution_count": 17,
     "metadata": {},
     "output_type": "execute_result"
    }
   ],
   "source": [
    "# proving that vocabulary_ is a dictioanry, so it is not sorted in memory\n",
    "vocabulary = vectorizer.vocabulary_\n",
    "keys = list(vocabulary.keys())[0:10]\n",
    "{k: vocabulary[k] for k in keys}"
   ]
  },
  {
   "cell_type": "code",
   "execution_count": 18,
   "metadata": {},
   "outputs": [
    {
     "data": {
      "text/plain": [
       "['spunkys',\n",
       " 'spurge',\n",
       " 'spurofthemoment',\n",
       " 'spurred',\n",
       " 'spurs',\n",
       " 'spurt',\n",
       " 'spurt3',\n",
       " 'spurtit',\n",
       " 'spurts',\n",
       " 'sput']"
      ]
     },
     "execution_count": 18,
     "metadata": {},
     "output_type": "execute_result"
    }
   ],
   "source": [
    "# feature names for the sparse matrix(very useful)\n",
    "# showing only samples\n",
    "feature_names = vectorizer.get_feature_names()[100000:100010]\n",
    "feature_names"
   ]
  },
  {
   "cell_type": "markdown",
   "metadata": {},
   "source": [
    "### 3. Train a Model"
   ]
  },
  {
   "cell_type": "code",
   "execution_count": 19,
   "metadata": {},
   "outputs": [
    {
     "name": "stderr",
     "output_type": "stream",
     "text": [
      "C:\\Users\\Tinsae\\Anaconda3\\lib\\site-packages\\sklearn\\linear_model\\logistic.py:758: ConvergenceWarning: lbfgs failed to converge. Increase the number of iterations.\n",
      "  \"of iterations.\", ConvergenceWarning)\n"
     ]
    },
    {
     "data": {
      "text/plain": [
       "LogisticRegression(C=1.0, class_weight=None, dual=False, fit_intercept=True,\n",
       "          intercept_scaling=1, max_iter=100, multi_class='warn',\n",
       "          n_jobs=None, penalty='l2', random_state=None, solver='lbfgs',\n",
       "          tol=0.0001, verbose=0, warm_start=False)"
      ]
     },
     "execution_count": 19,
     "metadata": {},
     "output_type": "execute_result"
    }
   ],
   "source": [
    "from sklearn.linear_model import LogisticRegression\n",
    "sentiment_model = LogisticRegression(C=1.0, penalty='l2', solver='lbfgs')\n",
    "sentiment_model.fit(matrix_train, y_train)"
   ]
  },
  {
   "cell_type": "code",
   "execution_count": 20,
   "metadata": {},
   "outputs": [
    {
     "name": "stdout",
     "output_type": "stream",
     "text": [
      "[[-0.44150305  0.00129059  0.00309939 ...  0.00144408  0.00087786\n",
      "  -0.00045869]]\n",
      "[1.30231945]\n"
     ]
    }
   ],
   "source": [
    "print(sentiment_model.coef_)\n",
    "print(sentiment_model.intercept_)"
   ]
  },
  {
   "cell_type": "code",
   "execution_count": 21,
   "metadata": {},
   "outputs": [
    {
     "name": "stdout",
     "output_type": "stream",
     "text": [
      "(121769,)\n"
     ]
    }
   ],
   "source": [
    "# see cofficients shape\n",
    "print(sentiment_model.coef_[0].shape)"
   ]
  },
  {
   "cell_type": "code",
   "execution_count": 22,
   "metadata": {},
   "outputs": [
    {
     "name": "stdout",
     "output_type": "stream",
     "text": [
      "negative cofficeints  32060\n",
      "zeros 0\n",
      "positive cofficeints  89709\n"
     ]
    }
   ],
   "source": [
    "# count negative and positive cofficients\n",
    "negatives = sum(1 for i in sentiment_model.coef_[0] if i < 0)\n",
    "positives = sum(1 for i in sentiment_model.coef_[0] if i > 0)\n",
    "zeros = sum(1 for i in sentiment_model.coef_[0] if i == 0)\n",
    "print(\"negative cofficeints \", negatives)\n",
    "print(\"zeros\", zeros)\n",
    "print(\"positive cofficeints \", positives)"
   ]
  },
  {
   "cell_type": "code",
   "execution_count": 23,
   "metadata": {},
   "outputs": [
    {
     "data": {
      "text/plain": [
       "True"
      ]
     },
     "execution_count": 23,
     "metadata": {},
     "output_type": "execute_result"
    }
   ],
   "source": [
    "sentiment_model.coef_[0].shape[0] == positives + negatives + zeros"
   ]
  },
  {
   "cell_type": "code",
   "execution_count": 24,
   "metadata": {},
   "outputs": [
    {
     "data": {
      "text/plain": [
       "array([[0, 0, 0, ..., 0, 0, 0],\n",
       "       [0, 0, 0, ..., 0, 0, 0],\n",
       "       [0, 0, 0, ..., 0, 0, 0]], dtype=int64)"
      ]
     },
     "execution_count": 24,
     "metadata": {},
     "output_type": "execute_result"
    }
   ],
   "source": [
    "matrix_test[10:13].toarray()"
   ]
  },
  {
   "cell_type": "markdown",
   "metadata": {},
   "source": [
    "### 4. Predict"
   ]
  },
  {
   "cell_type": "code",
   "execution_count": 25,
   "metadata": {},
   "outputs": [
    {
     "name": "stdout",
     "output_type": "stream",
     "text": [
      "[[0 0 0 ... 0 0 0]\n",
      " [0 0 0 ... 0 0 0]\n",
      " [0 0 0 ... 0 0 0]]\n",
      "true labels for sample test data\n",
      "10    1\n",
      "11    1\n",
      "12   -1\n",
      "Name: sentiment, dtype: int64\n",
      "sample test data\n"
     ]
    },
    {
     "data": {
      "text/html": [
       "<div>\n",
       "<style scoped>\n",
       "    .dataframe tbody tr th:only-of-type {\n",
       "        vertical-align: middle;\n",
       "    }\n",
       "\n",
       "    .dataframe tbody tr th {\n",
       "        vertical-align: top;\n",
       "    }\n",
       "\n",
       "    .dataframe thead th {\n",
       "        text-align: right;\n",
       "    }\n",
       "</style>\n",
       "<table border=\"1\" class=\"dataframe\">\n",
       "  <thead>\n",
       "    <tr style=\"text-align: right;\">\n",
       "      <th></th>\n",
       "      <th>name</th>\n",
       "      <th>review</th>\n",
       "      <th>rating</th>\n",
       "    </tr>\n",
       "  </thead>\n",
       "  <tbody>\n",
       "    <tr>\n",
       "      <th>10</th>\n",
       "      <td>Bumble Bags Kimberly Tote Bag Blue Latte</td>\n",
       "      <td>I feel very stylish carrying this bag Its very...</td>\n",
       "      <td>5</td>\n",
       "    </tr>\n",
       "    <tr>\n",
       "      <th>11</th>\n",
       "      <td>Regalo Easy Step Walk Thru Gate, White</td>\n",
       "      <td>I bought two because I have small dogs They we...</td>\n",
       "      <td>4</td>\n",
       "    </tr>\n",
       "    <tr>\n",
       "      <th>12</th>\n",
       "      <td>Safety 1st Foam Corner Bumpers</td>\n",
       "      <td>Awful  Wouldnt stay affixed to the corners of ...</td>\n",
       "      <td>1</td>\n",
       "    </tr>\n",
       "  </tbody>\n",
       "</table>\n",
       "</div>"
      ],
      "text/plain": [
       "                                        name  \\\n",
       "10  Bumble Bags Kimberly Tote Bag Blue Latte   \n",
       "11    Regalo Easy Step Walk Thru Gate, White   \n",
       "12            Safety 1st Foam Corner Bumpers   \n",
       "\n",
       "                                               review  rating  \n",
       "10  I feel very stylish carrying this bag Its very...       5  \n",
       "11  I bought two because I have small dogs They we...       4  \n",
       "12  Awful  Wouldnt stay affixed to the corners of ...       1  "
      ]
     },
     "execution_count": 25,
     "metadata": {},
     "output_type": "execute_result"
    }
   ],
   "source": [
    "sample_test_matrix = matrix_test[10:13].toarray()\n",
    "print(sample_test_matrix)\n",
    "print(\"true labels for sample test data\")\n",
    "print(y_test[10:13])\n",
    "print(\"sample test data\")\n",
    "X_test[10:13]"
   ]
  },
  {
   "cell_type": "code",
   "execution_count": 26,
   "metadata": {},
   "outputs": [
    {
     "name": "stdout",
     "output_type": "stream",
     "text": [
      "I feel very stylish carrying this bag Its very wellconstructed and beautiful to carry around\n",
      "\n",
      "I bought two because I have small dogs They were easy to install and look much better than the baby gates that I was using\n",
      "\n",
      "Awful  Wouldnt stay affixed to the corners of our counter tops  Lasted less than a week before we abandoned them altogether\n"
     ]
    }
   ],
   "source": [
    "# see all the reviews of the sample data\n",
    "pd.set_option('display.max_colwidth', 300)\n",
    "print(X_test[10:11]['review'].values[0])\n",
    "print()\n",
    "print(X_test[11:12]['review'].values[0])\n",
    "print()\n",
    "print(X_test[12:13]['review'].values[0])"
   ]
  },
  {
   "cell_type": "code",
   "execution_count": 27,
   "metadata": {},
   "outputs": [
    {
     "data": {
      "text/plain": [
       "array([ 3.86476703,  3.89988321, -3.7134911 ])"
      ]
     },
     "execution_count": 27,
     "metadata": {},
     "output_type": "execute_result"
    }
   ],
   "source": [
    "scores = sentiment_model.decision_function(sample_test_matrix)\n",
    "# the scores show the confidence in prediction(or the output of the linear function)\n",
    "scores"
   ]
  },
  {
   "cell_type": "markdown",
   "metadata": {},
   "source": [
    "score (sometimes called margin) for the logistic regression model is defined as:\n",
    "\n",
    "$$\n",
    "\\mbox{score}_i = \\mathbf{w}^T h(\\mathbf{x}_i)\n",
    "$$ \n",
    "\n",
    "These scores can be used to make class predictions as follows:\n",
    "\n",
    "$$\n",
    "\\hat{y} = \n",
    "\\left\\{\n",
    "\\begin{array}{ll}\n",
    "      +1 & \\mathbf{w}^T h(\\mathbf{x}_i) > 0 \\\\\n",
    "      -1 & \\mathbf{w}^T h(\\mathbf{x}_i) \\leq 0 \\\\\n",
    "\\end{array} \n",
    "\\right.\n",
    "$$"
   ]
  },
  {
   "cell_type": "code",
   "execution_count": 28,
   "metadata": {},
   "outputs": [
    {
     "data": {
      "text/plain": [
       "array([ 1,  1, -1])"
      ]
     },
     "execution_count": 28,
     "metadata": {},
     "output_type": "execute_result"
    }
   ],
   "source": [
    "#  make prediction based on this function\n",
    "np.where(scores > 0, 1, -1)"
   ]
  },
  {
   "cell_type": "code",
   "execution_count": 29,
   "metadata": {},
   "outputs": [
    {
     "data": {
      "text/plain": [
       "array([ 1,  1, -1], dtype=int64)"
      ]
     },
     "execution_count": 29,
     "metadata": {},
     "output_type": "execute_result"
    }
   ],
   "source": [
    "sentiment_model.predict(sample_test_matrix)"
   ]
  },
  {
   "cell_type": "markdown",
   "metadata": {},
   "source": [
    "##### Probability Predictions"
   ]
  },
  {
   "cell_type": "code",
   "execution_count": 30,
   "metadata": {},
   "outputs": [
    {
     "name": "stdout",
     "output_type": "stream",
     "text": [
      "probabilities obtained by calculation [0.9794628130308736, 0.9801574228741736, 0.02381140567907209]\n"
     ]
    }
   ],
   "source": [
    "import math\n",
    "\n",
    "prob=[0.,0.,0.]\n",
    "for i in range(3):\n",
    "    prob[i]=1/(1+math.exp(-scores[i]))\n",
    "print(\"probabilities obtained by calculation\" ,prob)"
   ]
  },
  {
   "cell_type": "markdown",
   "metadata": {},
   "source": [
    "##### Find the most positive (and negative) review"
   ]
  },
  {
   "cell_type": "markdown",
   "metadata": {},
   "source": [
    "To calculate these top-20 reviews, use the following steps:\n",
    "\n",
    "Make probability predictions on test_data using the sentiment_model.\n",
    "Sort the data according to those predictions and pick the top 20."
   ]
  },
  {
   "cell_type": "code",
   "execution_count": 31,
   "metadata": {},
   "outputs": [
    {
     "data": {
      "text/plain": [
       "array([[1.13384713e-02, 9.88661529e-01],\n",
       "       [4.91689804e-03, 9.95083102e-01],\n",
       "       [4.69645701e-02, 9.53035430e-01],\n",
       "       ...,\n",
       "       [9.55958869e-01, 4.40411312e-02],\n",
       "       [5.82628791e-07, 9.99999417e-01],\n",
       "       [4.68603009e-02, 9.53139699e-01]])"
      ]
     },
     "execution_count": 31,
     "metadata": {},
     "output_type": "execute_result"
    }
   ],
   "source": [
    "probs_test = sentiment_model.predict_proba(matrix_test)\n",
    "probs_test"
   ]
  },
  {
   "cell_type": "markdown",
   "metadata": {},
   "source": [
    "The probabilities on each row sum up to 1."
   ]
  },
  {
   "cell_type": "code",
   "execution_count": 32,
   "metadata": {},
   "outputs": [
    {
     "data": {
      "text/plain": [
       "array([-1,  1], dtype=int64)"
      ]
     },
     "execution_count": 32,
     "metadata": {},
     "output_type": "execute_result"
    }
   ],
   "source": [
    "# this is the ordering of the classes\n",
    "sentiment_model.classes_"
   ]
  },
  {
   "cell_type": "code",
   "execution_count": 33,
   "metadata": {},
   "outputs": [],
   "source": [
    "# sort in ascending order, reverse, slice top 20\n",
    "top_negative = probs_test[:,0].argsort()[::-1][:20]\n",
    "top_positive = probs_test[:,1].argsort()[::-1][:20]"
   ]
  },
  {
   "cell_type": "code",
   "execution_count": 34,
   "metadata": {},
   "outputs": [
    {
     "data": {
      "text/plain": [
       "29955    First off I did manage to find this product for 20 less at the big box store than the price here Secondly this product is horribly manufactured  Absolute waste of money  The only thing Ill give it credit for is the assembly instruction sheet is as clear cut as Ive come across in assembleathome b...\n",
       "9406     My disappointment with this product prompted me to write to the manufacturer  Below is my correspondenceIm writing you this email to express my deep dissatisfaction with a recently purchased Graco productMy wife and I are new parents and as expected the Graco brand was quite heavily represented ...\n",
       "3734     I received this pump through insurance and I figured that free is always good  I was an idiot  I started pumping when my daughter turned one month old  For the first month or so this pump worked well  I was able to get many ounces in a fairly short period of time  I was pumping about twice a day...\n",
       "13701    I had a frustrating experience with these two similar but different Nuby straw style sippy cups  I first purchased a two pack of the Mega Sipper with Straw cups at TJ Maxx after a friend who is a Speech Therapist recommended straws over traditional sippys  At first I was annoyed at the number of...\n",
       "10442    I purchased this in the black color  For some reason this site is not allowing me to submit this review in the black color so its showing this as a review for the silver bag  Just as a side note the silver bag was the same price as the black and blush One day after this review was initially post...\n",
       "26464    PROSLooks good Sleek blackHigh weight limitsSafe Havent personally tested this but it does seems quite sturdy and protectiveEasily clicks into baseCONSFreaking heavy Just the seat alone weighs just under 10 lbs Add in just a baby or an infant closer to the weight limit either way this thing weig...\n",
       "5495     We registered for this item after reading the good reviews  Our friend purchased it for us for our baby shower and to our dismay when it arrived it was not the product that is advertised on this site  In the pictures it shows Kiddopotomos in the logo  When it arrived it doesnt have any logo and ...\n",
       "15203    I will try to write an objective review of the bottle itself  as much as I can For that let me start out with the premise whether or not your baby takes the bottle or not has nothing to do with the quality of the product itself babies are human beings though small and have their likes and dislik...\n",
       "21045    My husband and I bought this mattress for our second child arriving in February We have used many Safety 1st products so we trust the brand and the reviews were great We have a Serta mattress for our toddlers bed that we also got from Amazon so we were very hopeful this would be a great productW...\n",
       "33072    i never write reviews but i feel obligated to review this product as i am so horrified by it  three times in 100 days so 3 of the time which is pretty high the monitor JUST STOPPED WORKING  now my husband and i are both electronic savvy and so this was not something we did on our end and we can ...\n",
       "23692    I bought a brand new 56 hideaway bed safety rail for my twoyearold son from one step ahead directly and received it two days ago Just got time to open the box this afternoon I felt very disappointed about the condition because its an used item which was returned by somebody else All the parts lo...\n",
       "28774    This walker is very poorly design Okay first it is very hard to assemble and it doesnt just click click click as what its said in the manual The parts are slightly off and it takes me 30 minutes and couple bruises to put it together Second the sitting area is so poorly made and designed that my ...\n",
       "14677    I really wanted to love this seat however I would never recommend it to ANYONE now Please read all the way through SERIOUS DANGERI could not figure out how to get the recline to work on the chair Turns out the bar with the recline button wasnt working I called Baby Trend who sent me postage to r...\n",
       "3326     I initially thought this was a very sturdy longlasting stroller  I had to have it replaced through the retailer who apparently ate the cost once because of a defective wheel  It wasnt long before I realized the basket on the new stroller was defective unusable  I have tried for months to get it ...\n",
       "11993    This pump worked really well for less than a week Then it completely stopped working Now Im stuck with a defective product Here is what Amazon saidWe have confirmed that the seller who fulfilled this order has a posted returns policy stating that the items purchased cannot be returned under thes...\n",
       "2100     Its such a shame this desk It is marketed as a quality productmade with sustainable hard wood with a natural finish and stainedand varnished It is hard wood and it is a natural finish stained and varnished but the problem is the quality I decided the other reviewers with problems were just unluc...\n",
       "10697    Our screen broke after 3 months  It was an accidental drop by the busy mother and the LCD screen cracked  So I called Motorola support  I explained what happened  The rep informed me that the damage wasnt covered under warranty  I said I knew that would be the case and asked how to purchase a re...\n",
       "14187    ahhhh where do I begin  I had such high hopes for this oneInstead of this stroller get the bumbleride twin if you can afford it its totally thin enough dont worry  or the joovy ergo if you have a child willing to sitstandHeres my review of the aria twin 2010 SHADE the canopies look useless in th...\n",
       "16766    Wish I could give this 0 stars I received this thermometer as a shower gift in May My son was born in June Today I went to use it when I suspected he might be running a fever only to discover the batteries are already dead in it Ive used it maybe 2 times before to try it out From a moms stand po...\n",
       "29283    I thought it sounded great to have different tips for different body areas  But its impossible to keep my son still enough to get a reading with the underarm one and Ive gotten more Er 1 readings rectally than I have gotten temps  I know hes a squirmy kid but the tip stays in each time and the t...\n",
       "Name: review, dtype: object"
      ]
     },
     "execution_count": 34,
     "metadata": {},
     "output_type": "execute_result"
    }
   ],
   "source": [
    "X_test.loc[top_negative,:]['review']"
   ]
  },
  {
   "cell_type": "code",
   "execution_count": 35,
   "metadata": {},
   "outputs": [
    {
     "data": {
      "text/plain": [
       "29955    First off I did manage to find this product for 20 less at the big box store than the price here Secondly this product is horribly manufactured  Absolute waste of money  The only thing Ill give it credit for is the assembly instruction sheet is as clear cut as Ive come across in assembleathome b...\n",
       "9406     My disappointment with this product prompted me to write to the manufacturer  Below is my correspondenceIm writing you this email to express my deep dissatisfaction with a recently purchased Graco productMy wife and I are new parents and as expected the Graco brand was quite heavily represented ...\n",
       "3734     I received this pump through insurance and I figured that free is always good  I was an idiot  I started pumping when my daughter turned one month old  For the first month or so this pump worked well  I was able to get many ounces in a fairly short period of time  I was pumping about twice a day...\n",
       "13701    I had a frustrating experience with these two similar but different Nuby straw style sippy cups  I first purchased a two pack of the Mega Sipper with Straw cups at TJ Maxx after a friend who is a Speech Therapist recommended straws over traditional sippys  At first I was annoyed at the number of...\n",
       "10442    I purchased this in the black color  For some reason this site is not allowing me to submit this review in the black color so its showing this as a review for the silver bag  Just as a side note the silver bag was the same price as the black and blush One day after this review was initially post...\n",
       "26464    PROSLooks good Sleek blackHigh weight limitsSafe Havent personally tested this but it does seems quite sturdy and protectiveEasily clicks into baseCONSFreaking heavy Just the seat alone weighs just under 10 lbs Add in just a baby or an infant closer to the weight limit either way this thing weig...\n",
       "5495     We registered for this item after reading the good reviews  Our friend purchased it for us for our baby shower and to our dismay when it arrived it was not the product that is advertised on this site  In the pictures it shows Kiddopotomos in the logo  When it arrived it doesnt have any logo and ...\n",
       "15203    I will try to write an objective review of the bottle itself  as much as I can For that let me start out with the premise whether or not your baby takes the bottle or not has nothing to do with the quality of the product itself babies are human beings though small and have their likes and dislik...\n",
       "21045    My husband and I bought this mattress for our second child arriving in February We have used many Safety 1st products so we trust the brand and the reviews were great We have a Serta mattress for our toddlers bed that we also got from Amazon so we were very hopeful this would be a great productW...\n",
       "33072    i never write reviews but i feel obligated to review this product as i am so horrified by it  three times in 100 days so 3 of the time which is pretty high the monitor JUST STOPPED WORKING  now my husband and i are both electronic savvy and so this was not something we did on our end and we can ...\n",
       "23692    I bought a brand new 56 hideaway bed safety rail for my twoyearold son from one step ahead directly and received it two days ago Just got time to open the box this afternoon I felt very disappointed about the condition because its an used item which was returned by somebody else All the parts lo...\n",
       "28774    This walker is very poorly design Okay first it is very hard to assemble and it doesnt just click click click as what its said in the manual The parts are slightly off and it takes me 30 minutes and couple bruises to put it together Second the sitting area is so poorly made and designed that my ...\n",
       "14677    I really wanted to love this seat however I would never recommend it to ANYONE now Please read all the way through SERIOUS DANGERI could not figure out how to get the recline to work on the chair Turns out the bar with the recline button wasnt working I called Baby Trend who sent me postage to r...\n",
       "3326     I initially thought this was a very sturdy longlasting stroller  I had to have it replaced through the retailer who apparently ate the cost once because of a defective wheel  It wasnt long before I realized the basket on the new stroller was defective unusable  I have tried for months to get it ...\n",
       "11993    This pump worked really well for less than a week Then it completely stopped working Now Im stuck with a defective product Here is what Amazon saidWe have confirmed that the seller who fulfilled this order has a posted returns policy stating that the items purchased cannot be returned under thes...\n",
       "2100     Its such a shame this desk It is marketed as a quality productmade with sustainable hard wood with a natural finish and stainedand varnished It is hard wood and it is a natural finish stained and varnished but the problem is the quality I decided the other reviewers with problems were just unluc...\n",
       "10697    Our screen broke after 3 months  It was an accidental drop by the busy mother and the LCD screen cracked  So I called Motorola support  I explained what happened  The rep informed me that the damage wasnt covered under warranty  I said I knew that would be the case and asked how to purchase a re...\n",
       "14187    ahhhh where do I begin  I had such high hopes for this oneInstead of this stroller get the bumbleride twin if you can afford it its totally thin enough dont worry  or the joovy ergo if you have a child willing to sitstandHeres my review of the aria twin 2010 SHADE the canopies look useless in th...\n",
       "16766    Wish I could give this 0 stars I received this thermometer as a shower gift in May My son was born in June Today I went to use it when I suspected he might be running a fever only to discover the batteries are already dead in it Ive used it maybe 2 times before to try it out From a moms stand po...\n",
       "29283    I thought it sounded great to have different tips for different body areas  But its impossible to keep my son still enough to get a reading with the underarm one and Ive gotten more Er 1 readings rectally than I have gotten temps  I know hes a squirmy kid but the tip stays in each time and the t...\n",
       "Name: review, dtype: object"
      ]
     },
     "execution_count": 35,
     "metadata": {},
     "output_type": "execute_result"
    }
   ],
   "source": [
    "X_test.loc[top_negative,:]['review']"
   ]
  },
  {
   "cell_type": "markdown",
   "metadata": {},
   "source": [
    "### 5: Test Model"
   ]
  },
  {
   "cell_type": "code",
   "execution_count": 36,
   "metadata": {},
   "outputs": [
    {
     "data": {
      "text/plain": [
       "0.9475523422202139"
      ]
     },
     "execution_count": 36,
     "metadata": {},
     "output_type": "execute_result"
    }
   ],
   "source": [
    "sentiment_model.score(matrix_train, y_train)"
   ]
  },
  {
   "cell_type": "code",
   "execution_count": 37,
   "metadata": {},
   "outputs": [
    {
     "data": {
      "text/plain": [
       "0.9325500828438018"
      ]
     },
     "execution_count": 37,
     "metadata": {},
     "output_type": "execute_result"
    }
   ],
   "source": [
    "sentiment_model.score(matrix_test, y_test)"
   ]
  },
  {
   "cell_type": "markdown",
   "metadata": {},
   "source": [
    "### 6. Learn a Simpler Model"
   ]
  },
  {
   "cell_type": "code",
   "execution_count": 38,
   "metadata": {},
   "outputs": [],
   "source": [
    "significant_words = ['love', 'great', 'easy', 'old', 'little', 'perfect', 'loves', \n",
    "      'well', 'able', 'car', 'broke', 'less', 'even', 'waste', 'disappointed', \n",
    "      'work', 'product', 'money', 'would', 'return']\n",
    "# limit to 20 words\n",
    "vectorizer_word_subset = CountVectorizer(vocabulary=significant_words) \n",
    "matrix_train2 = vectorizer_word_subset.fit_transform(X_train['review'])\n",
    "matrix_test2 =  vectorizer_word_subset.transform(X_test['review'])"
   ]
  },
  {
   "cell_type": "code",
   "execution_count": 39,
   "metadata": {},
   "outputs": [
    {
     "data": {
      "text/plain": [
       "LogisticRegression(C=1.0, class_weight=None, dual=False, fit_intercept=True,\n",
       "          intercept_scaling=1, max_iter=100, multi_class='warn',\n",
       "          n_jobs=None, penalty='l2', random_state=None, solver='lbfgs',\n",
       "          tol=0.0001, verbose=0, warm_start=False)"
      ]
     },
     "execution_count": 39,
     "metadata": {},
     "output_type": "execute_result"
    }
   ],
   "source": [
    "simple_model = LogisticRegression(C=1.0, penalty='l2', solver='lbfgs')\n",
    "simple_model.fit(matrix_train2, y_train)"
   ]
  },
  {
   "cell_type": "code",
   "execution_count": 40,
   "metadata": {},
   "outputs": [
    {
     "data": {
      "text/html": [
       "<div>\n",
       "<style scoped>\n",
       "    .dataframe tbody tr th:only-of-type {\n",
       "        vertical-align: middle;\n",
       "    }\n",
       "\n",
       "    .dataframe tbody tr th {\n",
       "        vertical-align: top;\n",
       "    }\n",
       "\n",
       "    .dataframe thead th {\n",
       "        text-align: right;\n",
       "    }\n",
       "</style>\n",
       "<table border=\"1\" class=\"dataframe\">\n",
       "  <thead>\n",
       "    <tr style=\"text-align: right;\">\n",
       "      <th></th>\n",
       "      <th>word feature</th>\n",
       "      <th>coefficeint</th>\n",
       "    </tr>\n",
       "  </thead>\n",
       "  <tbody>\n",
       "    <tr>\n",
       "      <th>0</th>\n",
       "      <td>loves</td>\n",
       "      <td>1.719756</td>\n",
       "    </tr>\n",
       "    <tr>\n",
       "      <th>1</th>\n",
       "      <td>perfect</td>\n",
       "      <td>1.477999</td>\n",
       "    </tr>\n",
       "    <tr>\n",
       "      <th>2</th>\n",
       "      <td>love</td>\n",
       "      <td>1.341562</td>\n",
       "    </tr>\n",
       "    <tr>\n",
       "      <th>3</th>\n",
       "      <td>easy</td>\n",
       "      <td>1.165694</td>\n",
       "    </tr>\n",
       "    <tr>\n",
       "      <th>4</th>\n",
       "      <td>great</td>\n",
       "      <td>0.936116</td>\n",
       "    </tr>\n",
       "    <tr>\n",
       "      <th>5</th>\n",
       "      <td>little</td>\n",
       "      <td>0.506028</td>\n",
       "    </tr>\n",
       "    <tr>\n",
       "      <th>6</th>\n",
       "      <td>well</td>\n",
       "      <td>0.500638</td>\n",
       "    </tr>\n",
       "    <tr>\n",
       "      <th>7</th>\n",
       "      <td>able</td>\n",
       "      <td>0.209443</td>\n",
       "    </tr>\n",
       "    <tr>\n",
       "      <th>8</th>\n",
       "      <td>old</td>\n",
       "      <td>0.073578</td>\n",
       "    </tr>\n",
       "    <tr>\n",
       "      <th>9</th>\n",
       "      <td>car</td>\n",
       "      <td>0.071775</td>\n",
       "    </tr>\n",
       "    <tr>\n",
       "      <th>10</th>\n",
       "      <td>less</td>\n",
       "      <td>-0.151287</td>\n",
       "    </tr>\n",
       "    <tr>\n",
       "      <th>11</th>\n",
       "      <td>product</td>\n",
       "      <td>-0.306860</td>\n",
       "    </tr>\n",
       "    <tr>\n",
       "      <th>12</th>\n",
       "      <td>would</td>\n",
       "      <td>-0.338886</td>\n",
       "    </tr>\n",
       "    <tr>\n",
       "      <th>13</th>\n",
       "      <td>even</td>\n",
       "      <td>-0.517250</td>\n",
       "    </tr>\n",
       "    <tr>\n",
       "      <th>14</th>\n",
       "      <td>work</td>\n",
       "      <td>-0.615153</td>\n",
       "    </tr>\n",
       "    <tr>\n",
       "      <th>15</th>\n",
       "      <td>money</td>\n",
       "      <td>-0.905559</td>\n",
       "    </tr>\n",
       "    <tr>\n",
       "      <th>16</th>\n",
       "      <td>broke</td>\n",
       "      <td>-1.645826</td>\n",
       "    </tr>\n",
       "    <tr>\n",
       "      <th>17</th>\n",
       "      <td>return</td>\n",
       "      <td>-2.048128</td>\n",
       "    </tr>\n",
       "    <tr>\n",
       "      <th>18</th>\n",
       "      <td>waste</td>\n",
       "      <td>-2.076282</td>\n",
       "    </tr>\n",
       "    <tr>\n",
       "      <th>19</th>\n",
       "      <td>disappointed</td>\n",
       "      <td>-2.350220</td>\n",
       "    </tr>\n",
       "  </tbody>\n",
       "</table>\n",
       "</div>"
      ],
      "text/plain": [
       "    word feature  coefficeint\n",
       "0          loves     1.719756\n",
       "1        perfect     1.477999\n",
       "2           love     1.341562\n",
       "3           easy     1.165694\n",
       "4          great     0.936116\n",
       "5         little     0.506028\n",
       "6           well     0.500638\n",
       "7           able     0.209443\n",
       "8            old     0.073578\n",
       "9            car     0.071775\n",
       "10          less    -0.151287\n",
       "11       product    -0.306860\n",
       "12         would    -0.338886\n",
       "13          even    -0.517250\n",
       "14          work    -0.615153\n",
       "15         money    -0.905559\n",
       "16         broke    -1.645826\n",
       "17        return    -2.048128\n",
       "18         waste    -2.076282\n",
       "19  disappointed    -2.350220"
      ]
     },
     "execution_count": 40,
     "metadata": {},
     "output_type": "execute_result"
    }
   ],
   "source": [
    "coffs_df= pd.DataFrame({\"word feature\":vectorizer_word_subset.get_feature_names(), \"coefficeint\":list(simple_model.coef_[0])})\n",
    "coffs_df.sort_values(by=\"coefficeint\", ascending=False).reset_index(drop=True)"
   ]
  },
  {
   "cell_type": "markdown",
   "metadata": {},
   "source": [
    " Are the positive words in the simple_model also positive words in the sentiment_model?\n"
   ]
  },
  {
   "cell_type": "code",
   "execution_count": 41,
   "metadata": {},
   "outputs": [
    {
     "data": {
      "text/plain": [
       "0       love\n",
       "1      great\n",
       "2       easy\n",
       "3        old\n",
       "4     little\n",
       "5    perfect\n",
       "6      loves\n",
       "7       well\n",
       "8       able\n",
       "9        car\n",
       "Name: word feature, dtype: object"
      ]
     },
     "execution_count": 41,
     "metadata": {},
     "output_type": "execute_result"
    }
   ],
   "source": [
    "# These are positive on simple model\n",
    "positives = coffs_df[:10]['word feature'].values\n",
    "feature_names = vectorizer.get_feature_names()\n",
    "coffs_df[:10]['word feature']"
   ]
  },
  {
   "cell_type": "code",
   "execution_count": 42,
   "metadata": {},
   "outputs": [
    {
     "data": {
      "text/plain": [
       "array(['love', 'great', 'easy', 'old', 'little', 'perfect', 'loves',\n",
       "       'well', 'able', 'car'], dtype=object)"
      ]
     },
     "execution_count": 42,
     "metadata": {},
     "output_type": "execute_result"
    }
   ],
   "source": [
    "positives"
   ]
  },
  {
   "cell_type": "code",
   "execution_count": 43,
   "metadata": {},
   "outputs": [
    {
     "data": {
      "text/plain": [
       "121769"
      ]
     },
     "execution_count": 43,
     "metadata": {},
     "output_type": "execute_result"
    }
   ],
   "source": [
    "len(feature_names)"
   ]
  },
  {
   "cell_type": "code",
   "execution_count": 44,
   "metadata": {},
   "outputs": [
    {
     "data": {
      "text/plain": [
       "(1, 121769)"
      ]
     },
     "execution_count": 44,
     "metadata": {},
     "output_type": "execute_result"
    }
   ],
   "source": [
    "sentiment_model.coef_.shape"
   ]
  },
  {
   "cell_type": "code",
   "execution_count": 45,
   "metadata": {},
   "outputs": [
    {
     "data": {
      "text/plain": [
       "(132780, 121769)"
      ]
     },
     "execution_count": 45,
     "metadata": {},
     "output_type": "execute_result"
    }
   ],
   "source": [
    "matrix_train.shape"
   ]
  },
  {
   "cell_type": "markdown",
   "metadata": {},
   "source": [
    "The coefficients of sentiment_model, the columns of the sparse vector(matrix_train) and the feature_names are aligned together. There are 121399 words in the vocabulary(used for sentiment model)."
   ]
  },
  {
   "cell_type": "code",
   "execution_count": 46,
   "metadata": {},
   "outputs": [
    {
     "data": {
      "text/plain": [
       "[63702, 48970, 37732, 74230, 62742, 79032, 63778, 117963, 7519, 22281]"
      ]
     },
     "execution_count": 46,
     "metadata": {},
     "output_type": "execute_result"
    }
   ],
   "source": [
    "# get the indices of words in feature names\n",
    "indices = [feature_names.index(w) for w in positives]\n",
    "indices"
   ]
  },
  {
   "cell_type": "code",
   "execution_count": 47,
   "metadata": {},
   "outputs": [
    {
     "name": "stdout",
     "output_type": "stream",
     "text": [
      "love\n",
      "great\n",
      "easy\n",
      "old\n",
      "little\n",
      "perfect\n",
      "loves\n",
      "well\n",
      "able\n",
      "car\n"
     ]
    }
   ],
   "source": [
    "# check the indices\n",
    "for i in indices:\n",
    "    print(feature_names[i])"
   ]
  },
  {
   "cell_type": "markdown",
   "metadata": {},
   "source": [
    "Perfect!!"
   ]
  },
  {
   "cell_type": "code",
   "execution_count": 48,
   "metadata": {},
   "outputs": [
    {
     "data": {
      "text/html": [
       "<div>\n",
       "<style scoped>\n",
       "    .dataframe tbody tr th:only-of-type {\n",
       "        vertical-align: middle;\n",
       "    }\n",
       "\n",
       "    .dataframe tbody tr th {\n",
       "        vertical-align: top;\n",
       "    }\n",
       "\n",
       "    .dataframe thead th {\n",
       "        text-align: right;\n",
       "    }\n",
       "</style>\n",
       "<table border=\"1\" class=\"dataframe\">\n",
       "  <thead>\n",
       "    <tr style=\"text-align: right;\">\n",
       "      <th></th>\n",
       "      <th>word feature</th>\n",
       "      <th>coefficeint</th>\n",
       "      <th>coeff_simple_model</th>\n",
       "    </tr>\n",
       "  </thead>\n",
       "  <tbody>\n",
       "    <tr>\n",
       "      <th>0</th>\n",
       "      <td>love</td>\n",
       "      <td>1.341562</td>\n",
       "      <td>1.46386</td>\n",
       "    </tr>\n",
       "    <tr>\n",
       "      <th>1</th>\n",
       "      <td>great</td>\n",
       "      <td>0.936116</td>\n",
       "      <td>1.19756</td>\n",
       "    </tr>\n",
       "    <tr>\n",
       "      <th>2</th>\n",
       "      <td>easy</td>\n",
       "      <td>1.165694</td>\n",
       "      <td>1.23236</td>\n",
       "    </tr>\n",
       "    <tr>\n",
       "      <th>3</th>\n",
       "      <td>old</td>\n",
       "      <td>0.073578</td>\n",
       "      <td>0.0279654</td>\n",
       "    </tr>\n",
       "    <tr>\n",
       "      <th>4</th>\n",
       "      <td>little</td>\n",
       "      <td>0.506028</td>\n",
       "      <td>0.599751</td>\n",
       "    </tr>\n",
       "    <tr>\n",
       "      <th>5</th>\n",
       "      <td>perfect</td>\n",
       "      <td>1.477999</td>\n",
       "      <td>1.65043</td>\n",
       "    </tr>\n",
       "    <tr>\n",
       "      <th>6</th>\n",
       "      <td>loves</td>\n",
       "      <td>1.719756</td>\n",
       "      <td>1.52038</td>\n",
       "    </tr>\n",
       "    <tr>\n",
       "      <th>7</th>\n",
       "      <td>well</td>\n",
       "      <td>0.500638</td>\n",
       "      <td>0.525098</td>\n",
       "    </tr>\n",
       "    <tr>\n",
       "      <th>8</th>\n",
       "      <td>able</td>\n",
       "      <td>0.209443</td>\n",
       "      <td>0.354654</td>\n",
       "    </tr>\n",
       "    <tr>\n",
       "      <th>9</th>\n",
       "      <td>car</td>\n",
       "      <td>0.071775</td>\n",
       "      <td>0.184556</td>\n",
       "    </tr>\n",
       "  </tbody>\n",
       "</table>\n",
       "</div>"
      ],
      "text/plain": [
       "  word feature  coefficeint coeff_simple_model\n",
       "0         love     1.341562            1.46386\n",
       "1        great     0.936116            1.19756\n",
       "2         easy     1.165694            1.23236\n",
       "3          old     0.073578          0.0279654\n",
       "4       little     0.506028           0.599751\n",
       "5      perfect     1.477999            1.65043\n",
       "6        loves     1.719756            1.52038\n",
       "7         well     0.500638           0.525098\n",
       "8         able     0.209443           0.354654\n",
       "9          car     0.071775           0.184556"
      ]
     },
     "execution_count": 48,
     "metadata": {},
     "output_type": "execute_result"
    }
   ],
   "source": [
    "# now let us see the coefficents\n",
    "\n",
    "coffs_df['coeff_simple_model'] = list(sentiment_model.coef_[0][indices]) + [\"-\"]*10\n",
    "coffs_df.head(10)"
   ]
  },
  {
   "cell_type": "markdown",
   "metadata": {},
   "source": [
    "These 10 features have positive coefficeints in both"
   ]
  },
  {
   "cell_type": "markdown",
   "metadata": {},
   "source": [
    "### 7 : Compare Models"
   ]
  },
  {
   "cell_type": "code",
   "execution_count": 49,
   "metadata": {},
   "outputs": [
    {
     "name": "stdout",
     "output_type": "stream",
     "text": [
      "sentiment_model 0.9475523422202139\n",
      "simple_model 0.8673218858261786\n"
     ]
    }
   ],
   "source": [
    "# training accuracy\n",
    "print(\"sentiment_model\", sentiment_model.score(matrix_train, y_train ))\n",
    "print(\"simple_model\", simple_model.score(matrix_train2, y_train))"
   ]
  },
  {
   "cell_type": "code",
   "execution_count": 52,
   "metadata": {},
   "outputs": [
    {
     "name": "stdout",
     "output_type": "stream",
     "text": [
      "sentiment_model 0.9325500828438018\n",
      "simple_model 0.867178791986745\n"
     ]
    }
   ],
   "source": [
    "# test accuracy\n",
    "print(\"sentiment_model\", sentiment_model.score(matrix_test, y_test))\n",
    "print(\"simple_model\", simple_model.score(matrix_test2, y_test))"
   ]
  },
  {
   "cell_type": "markdown",
   "metadata": {},
   "source": [
    "##### Majority Class Prediction"
   ]
  },
  {
   "cell_type": "code",
   "execution_count": 61,
   "metadata": {},
   "outputs": [
    {
     "data": {
      "text/plain": [
       "0.8412260882663052"
      ]
     },
     "execution_count": 61,
     "metadata": {},
     "output_type": "execute_result"
    }
   ],
   "source": [
    "y_train.value_counts()[1] / np.sum(y_train.value_counts().values)"
   ]
  },
  {
   "cell_type": "code",
   "execution_count": 63,
   "metadata": {},
   "outputs": [
    {
     "data": {
      "text/plain": [
       " 1    111698\n",
       "-1     21082\n",
       "Name: sentiment, dtype: int64"
      ]
     },
     "execution_count": 63,
     "metadata": {},
     "output_type": "execute_result"
    }
   ],
   "source": [
    "y_train.value_counts()"
   ]
  },
  {
   "cell_type": "markdown",
   "metadata": {},
   "source": [
    "Both models are better than majority class prediction"
   ]
  }
 ],
 "metadata": {
  "kernelspec": {
   "display_name": "Python 3",
   "language": "python",
   "name": "python3"
  },
  "language_info": {
   "codemirror_mode": {
    "name": "ipython",
    "version": 3
   },
   "file_extension": ".py",
   "mimetype": "text/x-python",
   "name": "python",
   "nbconvert_exporter": "python",
   "pygments_lexer": "ipython3",
   "version": "3.7.1"
  }
 },
 "nbformat": 4,
 "nbformat_minor": 2
}
