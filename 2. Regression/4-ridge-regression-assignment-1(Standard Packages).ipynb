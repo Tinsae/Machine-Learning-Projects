{
 "cells": [
  {
   "cell_type": "markdown",
   "metadata": {},
   "source": [
    "### Ridge Regression (interpretation)"
   ]
  },
  {
   "cell_type": "markdown",
   "metadata": {},
   "source": [
    "In this notebook, we will run ridge regression multiple times with different L2 penalties to see which one produces the best fit. We will revisit the example of polynomial regression as a means to see the effect of L2 regularization. In particular, we will:\n",
    "* Use a pre-built implementation of regression (sklearn) to run polynomial regression\n",
    "* Use matplotlib to visualize polynomial regressions\n",
    "* Use a pre-built implementation of regression (sklearn) to run polynomial regression, this time with L2 penalty\n",
    "* Use matplotlib to visualize polynomial regressions under L2 regularization\n",
    "* Choose best L2 penalty using cross-validation.\n",
    "* Assess the final fit using test data.\n",
    "\n",
    "We will continue to use the House data from previous notebooks.  (In the next programming assignment for this module, you will implement your own ridge regression learning algorithm using gradient descent.)"
   ]
  },
  {
   "cell_type": "code",
   "execution_count": 1,
   "metadata": {},
   "outputs": [],
   "source": [
    "import pandas as pd\n",
    "import numpy as np\n",
    "import matplotlib.pyplot as plt\n",
    "import seaborn as sns\n",
    "from sklearn.linear_model import LinearRegression\n",
    "from sklearn.linear_model import Ridge\n",
    "from scipy import stats\n",
    "\n",
    "import sys\n",
    "import warnings\n",
    "\n",
    "if not sys.warnoptions:\n",
    "    warnings.simplefilter(\"ignore\")"
   ]
  },
  {
   "cell_type": "code",
   "execution_count": 2,
   "metadata": {},
   "outputs": [
    {
     "name": "stdout",
     "output_type": "stream",
     "text": [
      "   power_1  power_2  power_3\n",
      "0      1.0      1.0      1.0\n",
      "1      2.0      4.0      8.0\n",
      "2      3.0      9.0     27.0\n"
     ]
    }
   ],
   "source": [
    "from sklearn import preprocessing\n",
    "\n",
    "def polynomial_dataframe(feature, degree):\n",
    "    # assume that degree >= 1\n",
    "    # initialize the SFrame:\n",
    "    poly_df = pd.DataFrame()\n",
    "    # and set poly_sframe['power_1'] equal to the passed feature\n",
    "    #poly_df['power_1'] = feature\n",
    "    #poly_df['power_1'] = pd.Series(preprocessing.scale(feature))\n",
    "    poly_df['power_1'] = feature\n",
    "    # first check if degree > 1\n",
    "    if degree > 1:\n",
    "        # then loop over the remaining degrees:\n",
    "        # range usually starts at 0 and stops at the endpoint - 1. We want it to start at 2 and stop at degree\n",
    "        for power in range(2, degree + 1): \n",
    "            # first we'll give the column a name:\n",
    "            name = 'power_' + str(power)\n",
    "            # then assign poly_sframe[name] to the appropriate power of feature\n",
    "            poly_df[name] = poly_df['power_1'] ** power\n",
    "            #poly_df[name] = pd.Series(preprocessing.scale(feature ** power))\n",
    "    return poly_df\n",
    "# test it\n",
    "tmp = pd.Series([1., 2., 3.])\n",
    "print(polynomial_dataframe(tmp, 3))"
   ]
  },
  {
   "cell_type": "code",
   "execution_count": 3,
   "metadata": {},
   "outputs": [],
   "source": [
    "def get_residual_sum_of_squares(model, data, outcome):\n",
    "    # First get the predictions\n",
    "    predictions = model.predict(data)    \n",
    "    # Then compute the residuals/errors\n",
    "    RSS = outcome-predictions\n",
    "    # Then square and add them up\n",
    "    RSS = (RSS*RSS).sum()\n",
    "\n",
    "    return(RSS)    "
   ]
  },
  {
   "cell_type": "code",
   "execution_count": 4,
   "metadata": {},
   "outputs": [],
   "source": [
    "dtype_dict = {'bathrooms':float, 'waterfront':int, 'sqft_above':int, 'sqft_living15':float, 'grade':int, 'yr_renovated':int, 'price':float, 'bedrooms':float, 'zipcode':str, 'long':float, 'sqft_lot15':float, 'sqft_living':float, 'floors':float, 'condition':int, 'lat':float, 'date':str, 'sqft_basement':int, 'yr_built':int, 'id':str, 'sqft_lot':int, 'view':int}\n",
    "# load data\n",
    "sales = pd.read_csv(\"../../ML Data & Script/kc_house_data.csv\", dtype=dtype_dict)\n",
    "sales.head()\n",
    "\n",
    "# sort by sqft_living and price (for plotting purposes)\n",
    "sales = sales.sort_values(by=['sqft_living', 'price'])"
   ]
  },
  {
   "cell_type": "code",
   "execution_count": 5,
   "metadata": {},
   "outputs": [
    {
     "name": "stdout",
     "output_type": "stream",
     "text": [
      "Intercept:  -1594492414.7448912 \n",
      "\n",
      "Cofficents: \n",
      " ['power_1 : 861481.3533732521', 'power_2 : -1.390040527399869e-35', 'power_3 : 1.2792319517091156e-29', 'power_4 : 9.94792168220548e-25', 'power_5 : 1.5316619899813914e-20', 'power_6 : -1.2847605807214182e-20', 'power_7 : 5.5300474930358614e-17', 'power_8 : -1.7493507114207349e-19', 'power_9 : 6.95362223893089e-23', 'power_10 : -1.2838497947348125e-26', 'power_11 : 1.448857706836129e-30', 'power_12 : -1.129602088227537e-34', 'power_13 : 6.379774618784748e-39', 'power_14 : -2.4581504109166144e-43', 'power_15 : 4.7258274460150575e-48']\n",
      "R2:  -48903116.096076\n"
     ]
    }
   ],
   "source": [
    "# degree 15 polynomial\n",
    "X = polynomial_dataframe(sales['sqft_living'], 15)\n",
    "\n",
    "Y = sales['price']\n",
    "model15_sk = Ridge(alpha=0.2) \n",
    "model15_sk.fit(X, Y)\n",
    "\n",
    "print(\"Intercept: \", model15_sk.intercept_,\"\\n\")\n",
    "print(\"Cofficents: \\n\", [str(k) + \" : \" + str(v) for k, v in zip(X.columns, model15_sk.coef_)])\n",
    "\n",
    "print(\"R2: \", model15_sk.score(X, Y))"
   ]
  },
  {
   "cell_type": "markdown",
   "metadata": {},
   "source": [
    "### Observe Overfitting"
   ]
  },
  {
   "cell_type": "code",
   "execution_count": 6,
   "metadata": {},
   "outputs": [],
   "source": [
    "# randomize data\n",
    "sales = sales.sample(frac=1,random_state=5)\n",
    "amount = sales.shape[0] // 4\n",
    "# create the four sets\n",
    "set_1 = sales[0:amount * 1].sort_values(by=['sqft_living', 'price'])\n",
    "set_2 = sales[amount * 1:amount * 2].sort_values(by=['sqft_living', 'price'])\n",
    "set_3 = sales[amount * 2:amount * 3].sort_values(by=['sqft_living', 'price'])\n",
    "set_4 = sales[amount * 3:].sort_values(by=['sqft_living', 'price'])"
   ]
  },
  {
   "cell_type": "code",
   "execution_count": 7,
   "metadata": {},
   "outputs": [
    {
     "data": {
      "text/html": [
       "<div>\n",
       "<style scoped>\n",
       "    .dataframe tbody tr th:only-of-type {\n",
       "        vertical-align: middle;\n",
       "    }\n",
       "\n",
       "    .dataframe tbody tr th {\n",
       "        vertical-align: top;\n",
       "    }\n",
       "\n",
       "    .dataframe thead th {\n",
       "        text-align: right;\n",
       "    }\n",
       "</style>\n",
       "<table border=\"1\" class=\"dataframe\">\n",
       "  <thead>\n",
       "    <tr style=\"text-align: right;\">\n",
       "      <th></th>\n",
       "      <th>Coefficients1</th>\n",
       "      <th>Coefficients2</th>\n",
       "      <th>Coefficients3</th>\n",
       "      <th>Coefficients4</th>\n",
       "    </tr>\n",
       "  </thead>\n",
       "  <tbody>\n",
       "    <tr>\n",
       "      <th>Intercept</th>\n",
       "      <td>-232725.2781977876</td>\n",
       "      <td>46343.951617450104</td>\n",
       "      <td>143800.06994217297</td>\n",
       "      <td>297117.9724547691</td>\n",
       "    </tr>\n",
       "    <tr>\n",
       "      <th>power_1</th>\n",
       "      <td>1523.4859552562896</td>\n",
       "      <td>542.7430493218848</td>\n",
       "      <td>160.59507685120428</td>\n",
       "      <td>-153.43468092358034</td>\n",
       "    </tr>\n",
       "    <tr>\n",
       "      <th>power_2</th>\n",
       "      <td>-1.7305180272518623</td>\n",
       "      <td>-0.4976364044647639</td>\n",
       "      <td>0.08183110446246875</td>\n",
       "      <td>0.19290613979180216</td>\n",
       "    </tr>\n",
       "    <tr>\n",
       "      <th>power_3</th>\n",
       "      <td>0.0010261247566297424</td>\n",
       "      <td>0.0003194966171417857</td>\n",
       "      <td>-0.0001104517830422312</td>\n",
       "      <td>7.015174500704225e-05</td>\n",
       "    </tr>\n",
       "    <tr>\n",
       "      <th>power_4</th>\n",
       "      <td>-2.85961786766969e-07</td>\n",
       "      <td>-1.1040738876532767e-07</td>\n",
       "      <td>5.14828744448515e-08</td>\n",
       "      <td>-1.2960248913214037e-07</td>\n",
       "    </tr>\n",
       "    <tr>\n",
       "      <th>power_5</th>\n",
       "      <td>2.3834211918165027e-11</td>\n",
       "      <td>1.9562557263734e-11</td>\n",
       "      <td>-8.801129630832139e-12</td>\n",
       "      <td>4.8732010288007015e-11</td>\n",
       "    </tr>\n",
       "    <tr>\n",
       "      <th>power_6</th>\n",
       "      <td>4.258193351738165e-15</td>\n",
       "      <td>-9.286264200049818e-16</td>\n",
       "      <td>3.259985478703545e-16</td>\n",
       "      <td>-3.399576139231945e-15</td>\n",
       "    </tr>\n",
       "    <tr>\n",
       "      <th>power_7</th>\n",
       "      <td>-4.829980274550909e-19</td>\n",
       "      <td>-1.2367706764756137e-19</td>\n",
       "      <td>4.3227418552887437e-20</td>\n",
       "      <td>-1.1309268387276581e-18</td>\n",
       "    </tr>\n",
       "    <tr>\n",
       "      <th>power_8</th>\n",
       "      <td>-8.270100921532085e-23</td>\n",
       "      <td>2.95069798211968e-24</td>\n",
       "      <td>-6.001203901969431e-25</td>\n",
       "      <td>5.940494991449252e-23</td>\n",
       "    </tr>\n",
       "    <tr>\n",
       "      <th>power_9</th>\n",
       "      <td>1.9276199579048747e-27</td>\n",
       "      <td>1.0041560310709776e-27</td>\n",
       "      <td>-2.4786243150617027e-28</td>\n",
       "      <td>2.723821603167674e-26</td>\n",
       "    </tr>\n",
       "    <tr>\n",
       "      <th>power_10</th>\n",
       "      <td>1.2917807902879986e-30</td>\n",
       "      <td>5.937194341602815e-32</td>\n",
       "      <td>-1.3260974242908815e-32</td>\n",
       "      <td>9.807220231871917e-31</td>\n",
       "    </tr>\n",
       "    <tr>\n",
       "      <th>power_11</th>\n",
       "      <td>9.390414202055845e-35</td>\n",
       "      <td>-1.3116242684745358e-36</td>\n",
       "      <td>2.5546840160155456e-37</td>\n",
       "      <td>-4.4880944066158615e-34</td>\n",
       "    </tr>\n",
       "    <tr>\n",
       "      <th>power_12</th>\n",
       "      <td>-7.296957570298597e-39</td>\n",
       "      <td>-5.503466267152354e-40</td>\n",
       "      <td>9.429413792480248e-41</td>\n",
       "      <td>-6.488624132109043e-38</td>\n",
       "    </tr>\n",
       "    <tr>\n",
       "      <th>power_13</th>\n",
       "      <td>-1.8579440668443053e-42</td>\n",
       "      <td>-5.029080722768848e-44</td>\n",
       "      <td>7.417934242714262e-45</td>\n",
       "      <td>3.123687414031705e-42</td>\n",
       "    </tr>\n",
       "    <tr>\n",
       "      <th>power_14</th>\n",
       "      <td>-6.735117437625678e-47</td>\n",
       "      <td>-1.0946049471617326e-48</td>\n",
       "      <td>1.2219447432507271e-49</td>\n",
       "      <td>1.724284915941009e-45</td>\n",
       "    </tr>\n",
       "    <tr>\n",
       "      <th>power_15</th>\n",
       "      <td>1.7503247053280409e-50</td>\n",
       "      <td>4.330986043252014e-52</td>\n",
       "      <td>-5.120856212477187e-53</td>\n",
       "      <td>-1.2895263642198216e-49</td>\n",
       "    </tr>\n",
       "  </tbody>\n",
       "</table>\n",
       "</div>"
      ],
      "text/plain": [
       "                     Coefficients1            Coefficients2  \\\n",
       "Intercept       -232725.2781977876       46343.951617450104   \n",
       "power_1         1523.4859552562896        542.7430493218848   \n",
       "power_2        -1.7305180272518623      -0.4976364044647639   \n",
       "power_3      0.0010261247566297424    0.0003194966171417857   \n",
       "power_4      -2.85961786766969e-07  -1.1040738876532767e-07   \n",
       "power_5     2.3834211918165027e-11      1.9562557263734e-11   \n",
       "power_6      4.258193351738165e-15   -9.286264200049818e-16   \n",
       "power_7     -4.829980274550909e-19  -1.2367706764756137e-19   \n",
       "power_8     -8.270100921532085e-23     2.95069798211968e-24   \n",
       "power_9     1.9276199579048747e-27   1.0041560310709776e-27   \n",
       "power_10    1.2917807902879986e-30    5.937194341602815e-32   \n",
       "power_11     9.390414202055845e-35  -1.3116242684745358e-36   \n",
       "power_12    -7.296957570298597e-39   -5.503466267152354e-40   \n",
       "power_13   -1.8579440668443053e-42   -5.029080722768848e-44   \n",
       "power_14    -6.735117437625678e-47  -1.0946049471617326e-48   \n",
       "power_15    1.7503247053280409e-50    4.330986043252014e-52   \n",
       "\n",
       "                     Coefficients3            Coefficients4  \n",
       "Intercept       143800.06994217297        297117.9724547691  \n",
       "power_1         160.59507685120428      -153.43468092358034  \n",
       "power_2        0.08183110446246875      0.19290613979180216  \n",
       "power_3     -0.0001104517830422312    7.015174500704225e-05  \n",
       "power_4       5.14828744448515e-08  -1.2960248913214037e-07  \n",
       "power_5     -8.801129630832139e-12   4.8732010288007015e-11  \n",
       "power_6      3.259985478703545e-16   -3.399576139231945e-15  \n",
       "power_7     4.3227418552887437e-20  -1.1309268387276581e-18  \n",
       "power_8     -6.001203901969431e-25    5.940494991449252e-23  \n",
       "power_9    -2.4786243150617027e-28    2.723821603167674e-26  \n",
       "power_10   -1.3260974242908815e-32    9.807220231871917e-31  \n",
       "power_11    2.5546840160155456e-37  -4.4880944066158615e-34  \n",
       "power_12     9.429413792480248e-41   -6.488624132109043e-38  \n",
       "power_13     7.417934242714262e-45    3.123687414031705e-42  \n",
       "power_14    1.2219447432507271e-49    1.724284915941009e-45  \n",
       "power_15    -5.120856212477187e-53  -1.2895263642198216e-49  "
      ]
     },
     "execution_count": 7,
     "metadata": {},
     "output_type": "execute_result"
    }
   ],
   "source": [
    "def get_model(dataset, alpha_reg):\n",
    "    X = polynomial_dataframe(dataset['sqft_living'], 15)\n",
    "    Y = dataset['price']\n",
    "    # using sag shows more variance\n",
    "    model = Ridge(alpha=alpha_reg, normalize=True) \n",
    "    model.fit(X, Y)\n",
    "    coeffs = {\"Intercept\": str(model.intercept_)}\n",
    "    for k, v in zip(X.columns, model.coef_):\n",
    "        coeffs[str(k)] = str(v)\n",
    "    return X, Y, model, coeffs\n",
    "\n",
    "set1_X, set1_Y, set1_model, coefficients1 = get_model(set_1, 1e-9)\n",
    "set2_X, set2_Y, set2_model, coefficients2 = get_model(set_2, 1e-9)\n",
    "set3_X, set3_Y, set3_model, coefficients3 = get_model(set_3, 1e-9)\n",
    "set4_X, set4_Y, set4_model, coefficients4 = get_model(set_4, 1e-9)\n",
    "# merge the dictionaries\n",
    "# cofficients = {k:list(v) for k in coeffs1.keys() for v in zip(coeffs1.values(), coeffs2.values(), coeffs3.values(), coeffs4.values())}\n",
    "# convert to dataframe\n",
    "coefficients = pd.DataFrame(index=coefficients1.keys())\n",
    "coefficients['Coefficients1'] = coefficients1.values()\n",
    "coefficients['Coefficients2'] = coefficients2.values()\n",
    "coefficients['Coefficients3'] = coefficients3.values()\n",
    "coefficients['Coefficients4'] = coefficients4.values()\n",
    "coefficients"
   ]
  },
  {
   "cell_type": "code",
   "execution_count": 8,
   "metadata": {},
   "outputs": [
    {
     "data": {
      "image/png": "[encoded data removed]",
      "text/plain": [
       "<Figure size 576x432 with 4 Axes>"
      ]
     },
     "metadata": {
      "needs_background": "light"
     },
     "output_type": "display_data"
    }
   ],
   "source": [
    "fig, ((ax1, ax2), (ax3, ax4)) = plt.subplots(2, 2, sharex=True, sharey=True, figsize=(8,6) )\n",
    "fig.subplots_adjust(hspace = 0.1, wspace = 0.2)\n",
    "fig.suptitle(\"Model Variance\")\n",
    "#sns.regplot(set1_X['power_1'], set1_Y, x_estimator=set1_model.predict ,ax=ax1)\n",
    "ax1.plot(set1_X['power_1'], set1_Y,'.', set1_X['power_1'], set1_model.predict(set1_X),'-')\n",
    "ax2.plot(set2_X['power_1'], set2_Y,'.', set2_X['power_1'], set2_model.predict(set2_X),'-')\n",
    "ax3.plot(set3_X['power_1'], set3_Y,'.', set3_X['power_1'], set3_model.predict(set3_X),'-')\n",
    "ax4.plot(set4_X['power_1'], set4_Y,'.', set4_X['power_1'], set4_model.predict(set4_X),'-')\n",
    "sns.despine()\n",
    "\n",
    "plt.show()"
   ]
  },
  {
   "cell_type": "markdown",
   "metadata": {},
   "source": [
    "* Square feet is in order of thousands therefore these cofficeints are not smal. \n",
    "* They is variation in the cofficeints"
   ]
  },
  {
   "cell_type": "markdown",
   "metadata": {},
   "source": [
    "### Ridge regression comes to rescue"
   ]
  },
  {
   "cell_type": "code",
   "execution_count": 9,
   "metadata": {},
   "outputs": [
    {
     "data": {
      "text/html": [
       "<div>\n",
       "<style scoped>\n",
       "    .dataframe tbody tr th:only-of-type {\n",
       "        vertical-align: middle;\n",
       "    }\n",
       "\n",
       "    .dataframe tbody tr th {\n",
       "        vertical-align: top;\n",
       "    }\n",
       "\n",
       "    .dataframe thead th {\n",
       "        text-align: right;\n",
       "    }\n",
       "</style>\n",
       "<table border=\"1\" class=\"dataframe\">\n",
       "  <thead>\n",
       "    <tr style=\"text-align: right;\">\n",
       "      <th></th>\n",
       "      <th>Coefficients1</th>\n",
       "      <th>Coefficients2</th>\n",
       "      <th>Coefficients3</th>\n",
       "      <th>Coefficients4</th>\n",
       "    </tr>\n",
       "  </thead>\n",
       "  <tbody>\n",
       "    <tr>\n",
       "      <th>Intercept</th>\n",
       "      <td>533015.6212477391</td>\n",
       "      <td>532081.0433437468</td>\n",
       "      <td>530633.024476675</td>\n",
       "      <td>531481.5654561358</td>\n",
       "    </tr>\n",
       "    <tr>\n",
       "      <th>power_1</th>\n",
       "      <td>2.1723445713365317</td>\n",
       "      <td>2.2861988798435786</td>\n",
       "      <td>2.202860214009448</td>\n",
       "      <td>2.168752908036015</td>\n",
       "    </tr>\n",
       "    <tr>\n",
       "      <th>power_2</th>\n",
       "      <td>0.00040019741553006183</td>\n",
       "      <td>0.00040117058823920573</td>\n",
       "      <td>0.0003464349251060673</td>\n",
       "      <td>0.00041059152765918216</td>\n",
       "    </tr>\n",
       "    <tr>\n",
       "      <th>power_3</th>\n",
       "      <td>6.702883857761684e-08</td>\n",
       "      <td>5.260241891363785e-08</td>\n",
       "      <td>3.262513227559605e-08</td>\n",
       "      <td>7.539561860347492e-08</td>\n",
       "    </tr>\n",
       "    <tr>\n",
       "      <th>power_4</th>\n",
       "      <td>9.011042294504203e-12</td>\n",
       "      <td>4.523361645134604e-12</td>\n",
       "      <td>1.925836203722901e-12</td>\n",
       "      <td>1.1880018767678286e-11</td>\n",
       "    </tr>\n",
       "    <tr>\n",
       "      <th>power_5</th>\n",
       "      <td>1.0365738197680357e-15</td>\n",
       "      <td>3.2589068323303414e-16</td>\n",
       "      <td>1.030222669766157e-16</td>\n",
       "      <td>1.641846887056532e-15</td>\n",
       "    </tr>\n",
       "    <tr>\n",
       "      <th>power_6</th>\n",
       "      <td>1.1114019256043014e-19</td>\n",
       "      <td>2.33942131695122e-20</td>\n",
       "      <td>5.687154270894441e-21</td>\n",
       "      <td>2.0929467159919888e-19</td>\n",
       "    </tr>\n",
       "    <tr>\n",
       "      <th>power_7</th>\n",
       "      <td>1.1671473474296266e-23</td>\n",
       "      <td>1.744139939380026e-24</td>\n",
       "      <td>3.2903871625020867e-25</td>\n",
       "      <td>2.5637284494073832e-23</td>\n",
       "    </tr>\n",
       "    <tr>\n",
       "      <th>power_8</th>\n",
       "      <td>1.22486622934493e-27</td>\n",
       "      <td>1.3454723433751196e-28</td>\n",
       "      <td>1.9846808535314657e-29</td>\n",
       "      <td>3.0928963990960133e-27</td>\n",
       "    </tr>\n",
       "    <tr>\n",
       "      <th>power_9</th>\n",
       "      <td>1.2924921832024214e-31</td>\n",
       "      <td>1.0629946751989868e-32</td>\n",
       "      <td>1.2406214778161543e-33</td>\n",
       "      <td>3.7208162356292852e-31</td>\n",
       "    </tr>\n",
       "    <tr>\n",
       "      <th>power_10</th>\n",
       "      <td>1.3728342641506775e-35</td>\n",
       "      <td>8.531556193902798e-37</td>\n",
       "      <td>7.999158293507982e-38</td>\n",
       "      <td>4.4876159789086587e-35</td>\n",
       "    </tr>\n",
       "    <tr>\n",
       "      <th>power_11</th>\n",
       "      <td>1.4673540749638088e-39</td>\n",
       "      <td>6.918741358441658e-41</td>\n",
       "      <td>5.2980260359676575e-42</td>\n",
       "      <td>5.4357482199639336e-39</td>\n",
       "    </tr>\n",
       "    <tr>\n",
       "      <th>power_12</th>\n",
       "      <td>1.5775501641730404e-43</td>\n",
       "      <td>5.649746552001936e-45</td>\n",
       "      <td>3.5903170692738265e-46</td>\n",
       "      <td>6.613307596444292e-43</td>\n",
       "    </tr>\n",
       "    <tr>\n",
       "      <th>power_13</th>\n",
       "      <td>1.7053682129121473e-47</td>\n",
       "      <td>4.635209555339209e-49</td>\n",
       "      <td>2.479944281266132e-50</td>\n",
       "      <td>8.077286401853349e-47</td>\n",
       "    </tr>\n",
       "    <tr>\n",
       "      <th>power_14</th>\n",
       "      <td>1.8532806371423648e-51</td>\n",
       "      <td>3.8151963482779404e-53</td>\n",
       "      <td>1.7397775304222244e-54</td>\n",
       "      <td>9.896872659956357e-51</td>\n",
       "    </tr>\n",
       "    <tr>\n",
       "      <th>power_15</th>\n",
       "      <td>2.024284547849072e-55</td>\n",
       "      <td>3.147385792011386e-57</td>\n",
       "      <td>1.23568889806398e-58</td>\n",
       "      <td>1.2157073811196029e-54</td>\n",
       "    </tr>\n",
       "  </tbody>\n",
       "</table>\n",
       "</div>"
      ],
      "text/plain": [
       "                    Coefficients1           Coefficients2  \\\n",
       "Intercept       533015.6212477391       532081.0433437468   \n",
       "power_1        2.1723445713365317      2.2861988798435786   \n",
       "power_2    0.00040019741553006183  0.00040117058823920573   \n",
       "power_3     6.702883857761684e-08   5.260241891363785e-08   \n",
       "power_4     9.011042294504203e-12   4.523361645134604e-12   \n",
       "power_5    1.0365738197680357e-15  3.2589068323303414e-16   \n",
       "power_6    1.1114019256043014e-19    2.33942131695122e-20   \n",
       "power_7    1.1671473474296266e-23   1.744139939380026e-24   \n",
       "power_8      1.22486622934493e-27  1.3454723433751196e-28   \n",
       "power_9    1.2924921832024214e-31  1.0629946751989868e-32   \n",
       "power_10   1.3728342641506775e-35   8.531556193902798e-37   \n",
       "power_11   1.4673540749638088e-39   6.918741358441658e-41   \n",
       "power_12   1.5775501641730404e-43   5.649746552001936e-45   \n",
       "power_13   1.7053682129121473e-47   4.635209555339209e-49   \n",
       "power_14   1.8532806371423648e-51  3.8151963482779404e-53   \n",
       "power_15    2.024284547849072e-55   3.147385792011386e-57   \n",
       "\n",
       "                    Coefficients3           Coefficients4  \n",
       "Intercept        530633.024476675       531481.5654561358  \n",
       "power_1         2.202860214009448       2.168752908036015  \n",
       "power_2     0.0003464349251060673  0.00041059152765918216  \n",
       "power_3     3.262513227559605e-08   7.539561860347492e-08  \n",
       "power_4     1.925836203722901e-12  1.1880018767678286e-11  \n",
       "power_5     1.030222669766157e-16   1.641846887056532e-15  \n",
       "power_6     5.687154270894441e-21  2.0929467159919888e-19  \n",
       "power_7    3.2903871625020867e-25  2.5637284494073832e-23  \n",
       "power_8    1.9846808535314657e-29  3.0928963990960133e-27  \n",
       "power_9    1.2406214778161543e-33  3.7208162356292852e-31  \n",
       "power_10    7.999158293507982e-38  4.4876159789086587e-35  \n",
       "power_11   5.2980260359676575e-42  5.4357482199639336e-39  \n",
       "power_12   3.5903170692738265e-46   6.613307596444292e-43  \n",
       "power_13    2.479944281266132e-50   8.077286401853349e-47  \n",
       "power_14   1.7397775304222244e-54   9.896872659956357e-51  \n",
       "power_15     1.23568889806398e-58  1.2157073811196029e-54  "
      ]
     },
     "execution_count": 9,
     "metadata": {},
     "output_type": "execute_result"
    }
   ],
   "source": [
    "set1_X, set1_Y, set1_model, coefficients1 = get_model(set_1, 1.23e2)\n",
    "set2_X, set2_Y, set2_model, coefficients2 = get_model(set_2, 1.23e2)\n",
    "set3_X, set3_Y, set3_model, coefficients3 = get_model(set_3, 1.23e2)\n",
    "set4_X, set4_Y, set4_model, coefficients4 = get_model(set_4, 1.23e2)\n",
    "# merge the dictionaries\n",
    "# cofficients = {k:list(v) for k in coeffs1.keys() for v in zip(coeffs1.values(), coeffs2.values(), coeffs3.values(), coeffs4.values())}\n",
    "# convert to dataframe\n",
    "coefficients = pd.DataFrame(index=coefficients1.keys())\n",
    "coefficients['Coefficients1'] = coefficients1.values()\n",
    "coefficients['Coefficients2'] = coefficients2.values()\n",
    "coefficients['Coefficients3'] = coefficients3.values()\n",
    "coefficients['Coefficients4'] = coefficients4.values()\n",
    "coefficients"
   ]
  },
  {
   "cell_type": "code",
   "execution_count": 10,
   "metadata": {},
   "outputs": [
    {
     "data": {
      "image/png": "[encoded data removed]",
      "text/plain": [
       "<Figure size 576x432 with 4 Axes>"
      ]
     },
     "metadata": {
      "needs_background": "light"
     },
     "output_type": "display_data"
    }
   ],
   "source": [
    "fig, ((ax1, ax2), (ax3, ax4)) = plt.subplots(2, 2, sharex=True, sharey=True, figsize=(8,6) )\n",
    "fig.subplots_adjust(hspace = 0.1, wspace = 0.2 )\n",
    "fig.suptitle(\"Model Variance\")\n",
    "#sns.regplot(set1_X['power_1'], set1_Y, x_estimator=set1_model.predict ,ax=ax1)\n",
    "ax1.plot(set1_X['power_1'], set1_Y,'.', set1_X['power_1'], set1_model.predict(set1_X),'-')\n",
    "ax2.plot(set2_X['power_1'], set2_Y,'.', set2_X['power_1'], set2_model.predict(set2_X),'-')\n",
    "ax3.plot(set3_X['power_1'], set3_Y,'.', set3_X['power_1'], set3_model.predict(set3_X),'-')\n",
    "ax4.plot(set4_X['power_1'], set4_Y,'.', set4_X['power_1'], set4_model.predict(set4_X),'-')\n",
    "sns.despine()\n",
    "plt.show()"
   ]
  },
  {
   "cell_type": "markdown",
   "metadata": {},
   "source": [
    "### Selecting an L2 penalty via cross-validation"
   ]
  },
  {
   "cell_type": "markdown",
   "metadata": {},
   "source": [
    "Just like the polynomial degree, the L2 penalty is a \"magic\" parameter we need to select. We could use the validation set approach as we did in the last module, but that approach has a major disadvantage: it leaves fewer observations available for training. **Cross-validation** seeks to overcome this issue by using all of the training set in a smart way.\n",
    "\n",
    "We will implement a kind of cross-validation called **k-fold cross-validation**. The method gets its name because it involves dividing the training set into k segments of roughtly equal size. Similar to the validation set method, we measure the validation error with one of the segments designated as the validation set. The major difference is that we repeat the process k times as follows:\n",
    "\n",
    "Set aside segment 0 as the validation set, and fit a model on rest of data, and evalutate it on this validation set<br>\n",
    "Set aside segment 1 as the validation set, and fit a model on rest of data, and evalutate it on this validation set<br>\n",
    "...<br>\n",
    "Set aside segment k-1 as the validation set, and fit a model on rest of data, and evalutate it on this validation set\n",
    "\n",
    "After this process, we compute the average of the k validation errors, and use it as an estimate of the generalization error. Notice that  all observations are used for both training and validation, as we iterate over segments of data. \n",
    "\n",
    "To estimate the generalization error well, it is crucial to shuffle the training data before dividing them into segments. We reserve 10% of the data as the test set and shuffle the remainder."
   ]
  },
  {
   "cell_type": "code",
   "execution_count": 11,
   "metadata": {},
   "outputs": [],
   "source": [
    "# dtype_dict = {'bathrooms':float, 'waterfront':int, 'sqft_above':int, 'sqft_living15':float, 'grade':int, 'yr_renovated':int, 'price':float, 'bedrooms':float, 'zipcode':str, 'long':float, 'sqft_lot15':float, 'sqft_living':float, 'floors':str, 'condition':int, 'lat':float, 'date':str, 'sqft_basement':int, 'yr_built':int, 'id':str, 'sqft_lot':int, 'view':int}\n",
    "# train_valid_shuffled = pd.read_csv('../../ML Data & Script/wk3_kc_house_train_valid_shuffled.csv', dtype=dtype_dict)\n",
    "# test = pd.read_csv('../../ML Data & Script/wk3_kc_house_test_data.csv', dtype=dtype_dict)\n",
    "\n",
    "# X_train_valid = train_valid_shuffled[\"sqft_living\"]\n",
    "# y_train_valid = train_valid_shuffled['price']\n",
    "# X_test = test['sqft_living']\n",
    "# y_test = test['price']"
   ]
  },
  {
   "cell_type": "code",
   "execution_count": 12,
   "metadata": {},
   "outputs": [
    {
     "data": {
      "text/plain": [
       "9786     2130.0\n",
       "20855    1300.0\n",
       "2982     3000.0\n",
       "18700    2680.0\n",
       "11446    4130.0\n",
       "Name: sqft_living, dtype: float64"
      ]
     },
     "execution_count": 12,
     "metadata": {},
     "output_type": "execute_result"
    }
   ],
   "source": [
    "from sklearn.model_selection import train_test_split\n",
    "X = sales['sqft_living']\n",
    "y = sales['price']\n",
    "# obtain 10% test data and remaining 90%\n",
    "X_train_valid, X_test, y_train_valid, y_test = train_test_split(X, y, train_size = 0.9 , test_size=0.1, shuffle=True)\n",
    "X_train_valid.head()"
   ]
  },
  {
   "cell_type": "code",
   "execution_count": 13,
   "metadata": {},
   "outputs": [],
   "source": [
    "# print(\"whole data: \", len(sales))\n",
    "# print(\"90% \", len(sales) * 0.9)"
   ]
  },
  {
   "cell_type": "code",
   "execution_count": 14,
   "metadata": {},
   "outputs": [
    {
     "name": "stdout",
     "output_type": "stream",
     "text": [
      "0 (0, 1944)\n",
      "1 (1945, 3889)\n",
      "2 (3890, 5834)\n",
      "3 (5835, 7779)\n",
      "4 (7780, 9724)\n",
      "5 (9725, 11669)\n",
      "6 (11670, 13614)\n",
      "7 (13615, 15559)\n",
      "8 (15560, 17504)\n",
      "9 (17505, 19450)\n"
     ]
    }
   ],
   "source": [
    "# 10-fold cross-validation\n",
    "n = len(X_train_valid)\n",
    "k = 10 \n",
    "for i in range(k):\n",
    "    start = (n * i) // k\n",
    "    end = (n * (i + 1)) // k - 1\n",
    "    print (i, (start, end))"
   ]
  },
  {
   "cell_type": "code",
   "execution_count": 15,
   "metadata": {},
   "outputs": [
    {
     "name": "stdout",
     "output_type": "stream",
     "text": [
      "19451\n"
     ]
    }
   ],
   "source": [
    "print(n)"
   ]
  },
  {
   "cell_type": "markdown",
   "metadata": {},
   "source": [
    "### KFold Cross Validation(from scratch)\n",
    "\n",
    "\n",
    "Once we have a function to compute the average validation error for a model, we can write a loop to find the model that minimizes the average validation error. Write a loop that does the following:\n",
    "* We will again be aiming to fit a 15th-order polynomial model using the `sqft_living` input\n",
    "* For `l2_penalty` in [10^1, 10^1.5, 10^2, 10^2.5, ..., 10^7] (to get this in Python, you can use this Numpy function: `np.logspace(1, 7, num=13)`.)\n",
    "    * Run 10-fold cross-validation with `l2_penalty`\n",
    "* Report which L2 penalty produced the lowest average validation error.\n",
    "\n",
    "Note: since the degree of the polynomial is now fixed to 15, to make things faster, you should generate polynomial features in advance and re-use them throughout the loop."
   ]
  },
  {
   "cell_type": "code",
   "execution_count": 16,
   "metadata": {},
   "outputs": [
    {
     "name": "stdout",
     "output_type": "stream",
     "text": [
      "Lambda:  1.0 Error:  133046382517983.92\n",
      "Lambda:  0.1 Error:  121440960336848.84\n",
      "Lambda:  0.0775 Error:  121474324809574.03\n",
      "Lambda:  0.055 Error:  121848138022837.83\n",
      "Lambda:  0.01 Error:  157783409838377.8\n",
      "Lambda:  0.001 Error:  530653025910253.1\n",
      "Lambda:  0.0001 Error:  744142676830973.0\n",
      "Lambda:  1e-05 Error:  133974753345912.3\n",
      "Lambda:  0.0 Error:  2.436942124483598e+20\n",
      "best value for L2 penality is:  0.1\n",
      "the smallest error is:  121440960336848.84\n"
     ]
    }
   ],
   "source": [
    "# perfrom k-fold cross validation on training-validation set\n",
    "def k_fold_cross_validation(k, l2_penalty, X, y):\n",
    "    errors = []\n",
    "    n = len(X)\n",
    "    for i in range(k):\n",
    "        #Compute starting and ending indices of segment i and call 'start' and 'end'\n",
    "        start = (n * i) // k\n",
    "        end = (n * (i + 1)) // k - 1\n",
    "        #Form validation set by taking a slice (start:end+1) from the data.\n",
    "        X_val = X[start:end+1]  \n",
    "        y_val = y[start:end+1]\n",
    "        #Form training set by appending slice (end+1:n) to the end of slice (0:start).\n",
    "        X_train = X[0:start].append(X[end+1:n])\n",
    "        y_train = y[0:start].append(y[end+1:n])\n",
    "        #Train a linear model using training set just formed, with a given l2_penalty\n",
    "        model = Ridge(alpha=l2_penalty, normalize=True) \n",
    "        model.fit(X_train, y_train)\n",
    "        #Compute validation error using validation set just formed\n",
    "        error = get_residual_sum_of_squares(model, X_val, y_val)\n",
    "        errors.append(error)\n",
    "        #print(\"Lengths: \", len(X_val), len(X_train))\n",
    "    #print(np.mean(errors))\n",
    "    return np.mean(errors)\n",
    "\n",
    "from sklearn.model_selection import train_test_split\n",
    "X = sales['sqft_living']\n",
    "y = sales['price']\n",
    "X_train_valid_poly = polynomial_dataframe(X_train_valid, 15)\n",
    "minimum = k_fold_cross_validation(10, 1, X_train_valid_poly, y_train_valid)\n",
    "best_lambda = 1\n",
    "#alphas = np.logspace(-5, 9,20)\n",
    "alphas = np.array([1,1e-1,0.0775, 0.055,1e-2,1e-3,1e-4,1e-5,0])\n",
    "errors = []\n",
    "for L in alphas:\n",
    "    average_error = k_fold_cross_validation(10, L, X_train_valid_poly, y_train_valid)\n",
    "    errors.append(average_error)\n",
    "    print(\"Lambda: \", L, \"Error: \", average_error)\n",
    "    if(average_error < minimum):\n",
    "        minimum = average_error\n",
    "        best_lambda = L\n",
    "print(\"best value for L2 penality is: \" , best_lambda)\n",
    "print(\"the smallest error is: \", minimum)"
   ]
  },
  {
   "cell_type": "code",
   "execution_count": 17,
   "metadata": {},
   "outputs": [
    {
     "data": {
      "image/png": "[encoded data removed]",
      "text/plain": [
       "<Figure size 360x360 with 1 Axes>"
      ]
     },
     "metadata": {
      "needs_background": "light"
     },
     "output_type": "display_data"
    }
   ],
   "source": [
    "# Plot the l2_penalty values in the x axis and the cross-validation error in the y axis.\n",
    "# Using plt.xscale('log') will make your plot more intuitive.\n",
    "import matplotlib.pyplot as plt\n",
    "%matplotlib inline\n",
    "fig = plt.figure(figsize=(5,5))\n",
    "plt.xscale('log')\n",
    "plt.yscale('log')\n",
    "#plt.axis([0, 10, 0, 20])\n",
    "plt.xlabel(\"Lambda\")\n",
    "plt.ylabel(\"Error\")\n",
    "plt.plot(alphas,errors,'.')\n",
    "plt.show()\n",
    "#look at the sweet spot (lamda=1e3)"
   ]
  },
  {
   "cell_type": "markdown",
   "metadata": {},
   "source": [
    "### KFold CV (GridSearchCV)"
   ]
  },
  {
   "cell_type": "code",
   "execution_count": 18,
   "metadata": {},
   "outputs": [
    {
     "name": "stdout",
     "output_type": "stream",
     "text": [
      "GridSearchCV(cv=None, error_score='raise',\n",
      "       estimator=Ridge(alpha=1.0, copy_X=True, fit_intercept=True, max_iter=None,\n",
      "   normalize=True, random_state=None, solver='auto', tol=0.001),\n",
      "       fit_params=None, iid=True, n_jobs=1,\n",
      "       param_grid={'alpha': array([1.00e+00, 1.00e-01, 7.75e-02, 5.50e-02, 1.00e-02, 1.00e-03,\n",
      "       1.00e-04, 1.00e-05, 0.00e+00])},\n",
      "       pre_dispatch='2*n_jobs', refit=True, return_train_score='warn',\n",
      "       scoring='r2', verbose=0)\n",
      "0.5258924050392876\n",
      "0.1\n"
     ]
    }
   ],
   "source": [
    "from sklearn.model_selection import GridSearchCV\n",
    "# prepare a range of alpha values to test\n",
    "alphas = np.array([1,1e-1,0.0775, 0.055,1e-2,1e-3,1e-4,1e-5,0])\n",
    "#alphas = np.logspace(-5,9,20)\n",
    "\n",
    "# create and fit a ridge regression model, testing each alpha\n",
    "modelG = Ridge(normalize=True)\n",
    "grid = GridSearchCV(estimator=modelG, param_grid=dict(alpha=alphas), scoring='r2')\n",
    "grid.fit(X_train_valid_poly, y_train_valid)\n",
    "print(grid)\n",
    "# summarize the results of the grid search\n",
    "print(grid.best_score_)\n",
    "print(grid.best_estimator_.alpha)"
   ]
  },
  {
   "cell_type": "markdown",
   "metadata": {},
   "source": [
    "### Test Model\n",
    "\n",
    "Once you found the best value for the L2 penalty using cross-validation, it is important to retrain a final model on all of the training data using this value of `l2_penalty`. This way, your final model will be trained on the entire dataset."
   ]
  },
  {
   "cell_type": "code",
   "execution_count": 19,
   "metadata": {
    "scrolled": false
   },
   "outputs": [
    {
     "name": "stdout",
     "output_type": "stream",
     "text": [
      "Test Error(RSS):  115547380437625.5\n",
      "Training (R2):  0.5422672895857197\n",
      "Test (R2):  0.5804005698498849\n"
     ]
    }
   ],
   "source": [
    "model = Ridge(alpha=0.055, normalize=True) \n",
    "model.fit(X_train_valid_poly, y_train_valid)\n",
    "rss_train = get_residual_sum_of_squares(model, X_train_valid_poly, y_train_valid)\n",
    "\n",
    "X_test_poly = polynomial_dataframe(X_test, 15)\n",
    "rss_test = get_residual_sum_of_squares(model, X_test_poly, y_test)\n",
    "#print(\"Training Error(RSS): \", rss_train)\n",
    "print(\"Test Error(RSS): \", rss_test)\n",
    "#print(\"Training Error(RMSE): \", np.sqrt(rss_train / len(y_train_valid)))\n",
    "#print(\"Test Error(RMSE): \", np.sqrt(rss_test) / len(y_test))\n",
    "\n",
    "from sklearn.metrics import r2_score\n",
    "print(\"Training (R2): \", r2_score(y_train_valid, model.predict(X_train_valid_poly)))\n",
    "print(\"Test (R2): \", r2_score(y_test, model.predict(X_test_poly)))"
   ]
  },
  {
   "cell_type": "code",
   "execution_count": 20,
   "metadata": {},
   "outputs": [
    {
     "name": "stdout",
     "output_type": "stream",
     "text": [
      "Test Error(RSS):  119775754539314.22\n",
      "Training (R2):  0.5511558947532638\n",
      "Test (R2):  0.5650456275153171\n"
     ]
    }
   ],
   "source": [
    "# no regularization\n",
    "model = Ridge(alpha=0, normalize=True) \n",
    "model.fit(X_train_valid_poly, y_train_valid)\n",
    "rss_train = get_residual_sum_of_squares(model, X_train_valid_poly, y_train_valid)\n",
    "\n",
    "X_test_poly = polynomial_dataframe(X_test, 15)\n",
    "rss_test = get_residual_sum_of_squares(model, X_test_poly, y_test)\n",
    "#print(\"Training Error(RSS): \", rss_train)\n",
    "print(\"Test Error(RSS): \", rss_test)\n",
    "#print(\"Training Error(RMSE): \", np.sqrt(rss_train / len(y_train_valid)))\n",
    "#print(\"Test Error(RMSE): \", np.sqrt(rss_test) / len(y_test))\n",
    "\n",
    "from sklearn.metrics import r2_score\n",
    "print(\"Training (R2): \", r2_score(y_train_valid, model.predict(X_train_valid_poly)))\n",
    "print(\"Test (R2): \", r2_score(y_test, model.predict(X_test_poly)))"
   ]
  },
  {
   "cell_type": "markdown",
   "metadata": {},
   "source": [
    "### Lasso"
   ]
  },
  {
   "cell_type": "code",
   "execution_count": 21,
   "metadata": {},
   "outputs": [
    {
     "name": "stdout",
     "output_type": "stream",
     "text": [
      "GridSearchCV(cv=None, error_score='raise',\n",
      "       estimator=Lasso(alpha=1.0, copy_X=True, fit_intercept=True, max_iter=1000,\n",
      "   normalize=True, positive=False, precompute=False, random_state=None,\n",
      "   selection='cyclic', tol=0.0001, warm_start=False),\n",
      "       fit_params=None, iid=True, n_jobs=1,\n",
      "       param_grid={'alpha': array([1.e+03, 1.e+02, 1.e+01, 1.e+00, 1.e-01, 1.e-02, 1.e-03, 1.e-04,\n",
      "       1.e-05, 0.e+00])},\n",
      "       pre_dispatch='2*n_jobs', refit=True, return_train_score='warn',\n",
      "       scoring='r2', verbose=0)\n",
      "0.5210028818211139\n",
      "10.0\n"
     ]
    }
   ],
   "source": [
    "from sklearn.model_selection import GridSearchCV\n",
    "from sklearn.linear_model import Lasso\n",
    "# prepare a range of alpha values to test\n",
    "alphas = np.array([1e3,1e2,1e1,1,1e-1,1e-2,1e-3,1e-4,1e-5,0])\n",
    "#alphas = np.logspace(-5,9,20)\n",
    "\n",
    "# create and fit a lasso regression model, testing each alpha\n",
    "modelG = Lasso(normalize=True)\n",
    "grid = GridSearchCV(estimator=modelG, param_grid=dict(alpha=alphas), scoring='r2')\n",
    "grid.fit(X_train_valid_poly, y_train_valid)\n",
    "print(grid)\n",
    "# summarize the results of the grid search\n",
    "print(grid.best_score_)\n",
    "print(grid.best_estimator_.alpha)"
   ]
  },
  {
   "cell_type": "code",
   "execution_count": null,
   "metadata": {},
   "outputs": [],
   "source": [
    "from sklearn.linear_model import Lasso\n",
    "model = Lasso(alpha=grid.best_score_, normalize=True) \n",
    "model.fit(X_train_valid_poly, y_train_valid)\n",
    "rss_train = get_residual_sum_of_squares(model, X_train_valid_poly, y_train_valid)\n",
    "\n",
    "X_test_poly = polynomial_dataframe(X_test, 15)\n",
    "rss_test = get_residual_sum_of_squares(model, X_test_poly, y_test)\n",
    "#print(\"Training Error(RSS): \", rss_train)\n",
    "print(\"Test Error(RSS): \", rss_test)\n",
    "#print(\"Training Error(RMSE): \", np.sqrt(rss_train / len(y_train_valid)))\n",
    "#print(\"Test Error(RMSE): \", np.sqrt(rss_test) / len(y_test))\n",
    "\n",
    "from sklearn.metrics import r2_score\n",
    "print(\"Training (R2): \", r2_score(y_train_valid, model.predict(X_train_valid_poly)))\n",
    "print(\"Test (R2): \", r2_score(y_test, model.predict(X_test_poly)))"
   ]
  },
  {
   "cell_type": "code",
   "execution_count": null,
   "metadata": {},
   "outputs": [],
   "source": [
    "# no regularization\n",
    "model = Lasso(alpha=0, normalize=True) \n",
    "model.fit(X_train_valid_poly, y_train_valid)\n",
    "rss_train = get_residual_sum_of_squares(model, X_train_valid_poly, y_train_valid)\n",
    "\n",
    "X_test_poly = polynomial_dataframe(X_test, 15)\n",
    "rss_test = get_residual_sum_of_squares(model, X_test_poly, y_test)\n",
    "#print(\"Training Error(RSS): \", rss_train)\n",
    "print(\"Test Error(RSS): \", rss_test)\n",
    "#print(\"Training Error(RMSE): \", np.sqrt(rss_train / len(y_train_valid)))\n",
    "#print(\"Test Error(RMSE): \", np.sqrt(rss_test) / len(y_test))\n",
    "\n",
    "from sklearn.metrics import r2_score\n",
    "print(\"Training (R2): \", r2_score(y_train_valid, model.predict(X_train_valid_poly)))\n",
    "print(\"Test (R2): \", r2_score(y_test, model.predict(X_test_poly)))"
   ]
  },
  {
   "cell_type": "markdown",
   "metadata": {},
   "source": [
    "#### Reflection\n",
    "\n",
    "Too big cofficients are related to multicolinearity and overfitting. An overfitted model has high variance. I created many polynomial features(from 1st degree up to 15th degree). I divided the dataset into four sets and showed how a complex model performs differently on different sets of data from the same source. Here, complexity is exhibted by having many correlated features. The cofficeients may look quite small but sqft_living is in the order of thousands therefore they are not small as they look.\n",
    "\n",
    "A Ridge regression model(normalize = True) was able to remove the high-variance(or overfitting). The lambda value is tricky. I learned that scikit-learn regularization parameters are not as big as Graphlab's. For the first model a lambda value less than 100 works but on the later models, lambda values between 0 and 1 seem to perform well.\n",
    "\n",
    "\n",
    "I divided the data into two parts\n",
    "\n",
    "* Train/Validation 90%\n",
    "* Test 10%\n",
    "\n",
    "Sample datasets were given on Coursera for the above. But that will be too restricted, So I splitted and created the datasets using sklearn and it shuffles Train/Validation set before performing validation. I performed K-fold cross validation and tried to find the best lambda value. I did the validation mannualy first. And Max pointed me GridSearch. I trained the model using the best lambda value. Finally I tested the model's performance on the test set. The best lambda value is mostly 0.055, regardless of the selected train/validation set. \n",
    "\n",
    "Finally, I compared a non-regularized model(alpha=0) to the regularized model(alpha=0.055). First I found the non-regularaized model having smaller test-error than the regulariazed one. This was discouraging becasue my goal was to remove overfitting so that the regularaized model could generalize to unseen data. The good news is the regularaized model generalizes better for many test sets and occasionally the non-regularaized one may work slighly better. \n",
    "\n",
    "I tried Lasso Regression(Hyper-parameter Selection, Training and Testing) it performed better than Ridge on the test-set. (R2= 0.64) "
   ]
  },
  {
   "cell_type": "code",
   "execution_count": null,
   "metadata": {},
   "outputs": [],
   "source": []
  }
 ],
 "metadata": {
  "kernelspec": {
   "display_name": "Python 3",
   "language": "python",
   "name": "python3"
  },
  "language_info": {
   "codemirror_mode": {
    "name": "ipython",
    "version": 3
   },
   "file_extension": ".py",
   "mimetype": "text/x-python",
   "name": "python",
   "nbconvert_exporter": "python",
   "pygments_lexer": "ipython3",
   "version": "3.7.0"
  }
 },
 "nbformat": 4,
 "nbformat_minor": 2
}
