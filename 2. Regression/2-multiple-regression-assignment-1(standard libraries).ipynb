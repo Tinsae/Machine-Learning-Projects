{
 "cells": [
  {
   "cell_type": "code",
   "execution_count": 22,
   "metadata": {},
   "outputs": [],
   "source": [
    "import pandas as pd\n",
    "import numpy as np\n",
    "import matplotlib.pyplot as plt\n",
    "import seaborn as sns\n",
    "from sklearn.linear_model import LinearRegression\n",
    "from scipy import stats"
   ]
  },
  {
   "cell_type": "code",
   "execution_count": 23,
   "metadata": {},
   "outputs": [
    {
     "data": {
      "text/html": [
       "<div>\n",
       "<style scoped>\n",
       "    .dataframe tbody tr th:only-of-type {\n",
       "        vertical-align: middle;\n",
       "    }\n",
       "\n",
       "    .dataframe tbody tr th {\n",
       "        vertical-align: top;\n",
       "    }\n",
       "\n",
       "    .dataframe thead th {\n",
       "        text-align: right;\n",
       "    }\n",
       "</style>\n",
       "<table border=\"1\" class=\"dataframe\">\n",
       "  <thead>\n",
       "    <tr style=\"text-align: right;\">\n",
       "      <th></th>\n",
       "      <th>id</th>\n",
       "      <th>date</th>\n",
       "      <th>price</th>\n",
       "      <th>bedrooms</th>\n",
       "      <th>bathrooms</th>\n",
       "      <th>sqft_living</th>\n",
       "      <th>sqft_lot</th>\n",
       "      <th>floors</th>\n",
       "      <th>waterfront</th>\n",
       "      <th>view</th>\n",
       "      <th>...</th>\n",
       "      <th>grade</th>\n",
       "      <th>sqft_above</th>\n",
       "      <th>sqft_basement</th>\n",
       "      <th>yr_built</th>\n",
       "      <th>yr_renovated</th>\n",
       "      <th>zipcode</th>\n",
       "      <th>lat</th>\n",
       "      <th>long</th>\n",
       "      <th>sqft_living15</th>\n",
       "      <th>sqft_lot15</th>\n",
       "    </tr>\n",
       "  </thead>\n",
       "  <tbody>\n",
       "    <tr>\n",
       "      <th>0</th>\n",
       "      <td>7129300520</td>\n",
       "      <td>20141013T000000</td>\n",
       "      <td>221900.0</td>\n",
       "      <td>3</td>\n",
       "      <td>1.00</td>\n",
       "      <td>1180</td>\n",
       "      <td>5650</td>\n",
       "      <td>1.0</td>\n",
       "      <td>0</td>\n",
       "      <td>0</td>\n",
       "      <td>...</td>\n",
       "      <td>7</td>\n",
       "      <td>1180</td>\n",
       "      <td>0</td>\n",
       "      <td>1955</td>\n",
       "      <td>0</td>\n",
       "      <td>98178</td>\n",
       "      <td>47.5112</td>\n",
       "      <td>-122.257</td>\n",
       "      <td>1340</td>\n",
       "      <td>5650</td>\n",
       "    </tr>\n",
       "    <tr>\n",
       "      <th>1</th>\n",
       "      <td>6414100192</td>\n",
       "      <td>20141209T000000</td>\n",
       "      <td>538000.0</td>\n",
       "      <td>3</td>\n",
       "      <td>2.25</td>\n",
       "      <td>2570</td>\n",
       "      <td>7242</td>\n",
       "      <td>2.0</td>\n",
       "      <td>0</td>\n",
       "      <td>0</td>\n",
       "      <td>...</td>\n",
       "      <td>7</td>\n",
       "      <td>2170</td>\n",
       "      <td>400</td>\n",
       "      <td>1951</td>\n",
       "      <td>1991</td>\n",
       "      <td>98125</td>\n",
       "      <td>47.7210</td>\n",
       "      <td>-122.319</td>\n",
       "      <td>1690</td>\n",
       "      <td>7639</td>\n",
       "    </tr>\n",
       "    <tr>\n",
       "      <th>2</th>\n",
       "      <td>5631500400</td>\n",
       "      <td>20150225T000000</td>\n",
       "      <td>180000.0</td>\n",
       "      <td>2</td>\n",
       "      <td>1.00</td>\n",
       "      <td>770</td>\n",
       "      <td>10000</td>\n",
       "      <td>1.0</td>\n",
       "      <td>0</td>\n",
       "      <td>0</td>\n",
       "      <td>...</td>\n",
       "      <td>6</td>\n",
       "      <td>770</td>\n",
       "      <td>0</td>\n",
       "      <td>1933</td>\n",
       "      <td>0</td>\n",
       "      <td>98028</td>\n",
       "      <td>47.7379</td>\n",
       "      <td>-122.233</td>\n",
       "      <td>2720</td>\n",
       "      <td>8062</td>\n",
       "    </tr>\n",
       "    <tr>\n",
       "      <th>3</th>\n",
       "      <td>2487200875</td>\n",
       "      <td>20141209T000000</td>\n",
       "      <td>604000.0</td>\n",
       "      <td>4</td>\n",
       "      <td>3.00</td>\n",
       "      <td>1960</td>\n",
       "      <td>5000</td>\n",
       "      <td>1.0</td>\n",
       "      <td>0</td>\n",
       "      <td>0</td>\n",
       "      <td>...</td>\n",
       "      <td>7</td>\n",
       "      <td>1050</td>\n",
       "      <td>910</td>\n",
       "      <td>1965</td>\n",
       "      <td>0</td>\n",
       "      <td>98136</td>\n",
       "      <td>47.5208</td>\n",
       "      <td>-122.393</td>\n",
       "      <td>1360</td>\n",
       "      <td>5000</td>\n",
       "    </tr>\n",
       "    <tr>\n",
       "      <th>4</th>\n",
       "      <td>1954400510</td>\n",
       "      <td>20150218T000000</td>\n",
       "      <td>510000.0</td>\n",
       "      <td>3</td>\n",
       "      <td>2.00</td>\n",
       "      <td>1680</td>\n",
       "      <td>8080</td>\n",
       "      <td>1.0</td>\n",
       "      <td>0</td>\n",
       "      <td>0</td>\n",
       "      <td>...</td>\n",
       "      <td>8</td>\n",
       "      <td>1680</td>\n",
       "      <td>0</td>\n",
       "      <td>1987</td>\n",
       "      <td>0</td>\n",
       "      <td>98074</td>\n",
       "      <td>47.6168</td>\n",
       "      <td>-122.045</td>\n",
       "      <td>1800</td>\n",
       "      <td>7503</td>\n",
       "    </tr>\n",
       "  </tbody>\n",
       "</table>\n",
       "<p>5 rows × 21 columns</p>\n",
       "</div>"
      ],
      "text/plain": [
       "           id             date     price  bedrooms  bathrooms  sqft_living  \\\n",
       "0  7129300520  20141013T000000  221900.0         3       1.00         1180   \n",
       "1  6414100192  20141209T000000  538000.0         3       2.25         2570   \n",
       "2  5631500400  20150225T000000  180000.0         2       1.00          770   \n",
       "3  2487200875  20141209T000000  604000.0         4       3.00         1960   \n",
       "4  1954400510  20150218T000000  510000.0         3       2.00         1680   \n",
       "\n",
       "   sqft_lot  floors  waterfront  view     ...      grade  sqft_above  \\\n",
       "0      5650     1.0           0     0     ...          7        1180   \n",
       "1      7242     2.0           0     0     ...          7        2170   \n",
       "2     10000     1.0           0     0     ...          6         770   \n",
       "3      5000     1.0           0     0     ...          7        1050   \n",
       "4      8080     1.0           0     0     ...          8        1680   \n",
       "\n",
       "   sqft_basement  yr_built  yr_renovated  zipcode      lat     long  \\\n",
       "0              0      1955             0    98178  47.5112 -122.257   \n",
       "1            400      1951          1991    98125  47.7210 -122.319   \n",
       "2              0      1933             0    98028  47.7379 -122.233   \n",
       "3            910      1965             0    98136  47.5208 -122.393   \n",
       "4              0      1987             0    98074  47.6168 -122.045   \n",
       "\n",
       "   sqft_living15  sqft_lot15  \n",
       "0           1340        5650  \n",
       "1           1690        7639  \n",
       "2           2720        8062  \n",
       "3           1360        5000  \n",
       "4           1800        7503  \n",
       "\n",
       "[5 rows x 21 columns]"
      ]
     },
     "execution_count": 23,
     "metadata": {},
     "output_type": "execute_result"
    }
   ],
   "source": [
    "# load data\n",
    "sales = pd.read_csv(\"../../ML Data & Script/kc_house_data.csv\")\n",
    "sales.head()"
   ]
  },
  {
   "cell_type": "code",
   "execution_count": 24,
   "metadata": {},
   "outputs": [],
   "source": [
    "# split data into training and testing\n",
    "from sklearn.model_selection import train_test_split\n",
    "target = sales['price']\n",
    "X_train, X_test, y_train, y_test = train_test_split(sales, target, test_size=0.2, random_state=0)"
   ]
  },
  {
   "cell_type": "code",
   "execution_count": 25,
   "metadata": {},
   "outputs": [
    {
     "name": "stdout",
     "output_type": "stream",
     "text": [
      "cofficents:  [   313.17055038 -56754.66651422   6887.71910816]\n",
      "intercept:  67512.01513813145\n",
      "RSquared(on training data) 0.5090198210347912\n",
      "RSS/SSE:  1177454678249841.2\n"
     ]
    }
   ],
   "source": [
    "features = ['sqft_living', 'bedrooms', 'bathrooms']\n",
    "# use sklearn\n",
    "from sklearn.linear_model import LinearRegression\n",
    "model_one = LinearRegression()\n",
    "model_one.fit(X_train[features],y_train)\n",
    "print(\"cofficents: \", model_one.coef_)\n",
    "print(\"intercept: \", model_one.intercept_)\n",
    "# calculate r2\n",
    "print(\"RSquared(on training data)\", model_one.score(X_train[features],y_train))\n",
    "\n",
    "from sklearn import metrics\n",
    "# calculate RSS( MSE is RSS/n)\n",
    "print(\"RSS/SSE: \", y_train.shape[0] * metrics.mean_squared_error(model_one.predict(X_train[features]), y_train))"
   ]
  },
  {
   "cell_type": "code",
   "execution_count": 26,
   "metadata": {},
   "outputs": [
    {
     "name": "stdout",
     "output_type": "stream",
     "text": [
      "                            OLS Regression Results                            \n",
      "==============================================================================\n",
      "Dep. Variable:                  price   R-squared:                       0.509\n",
      "Model:                            OLS   Adj. R-squared:                  0.509\n",
      "Method:                 Least Squares   F-statistic:                     5974.\n",
      "Date:                Mon, 17 Dec 2018   Prob (F-statistic):               0.00\n",
      "Time:                        02:47:22   Log-Likelihood:            -2.4018e+05\n",
      "No. Observations:               17290   AIC:                         4.804e+05\n",
      "Df Residuals:                   17286   BIC:                         4.804e+05\n",
      "Df Model:                           3                                         \n",
      "Covariance Type:            nonrobust                                         \n",
      "===============================================================================\n",
      "                  coef    std err          t      P>|t|      [0.025      0.975]\n",
      "-------------------------------------------------------------------------------\n",
      "const        6.751e+04   7739.284      8.723      0.000    5.23e+04    8.27e+04\n",
      "sqft_living   313.1706      3.473     90.166      0.000     306.363     319.979\n",
      "bedrooms    -5.675e+04   2610.241    -21.743      0.000   -6.19e+04   -5.16e+04\n",
      "bathrooms    6887.7191   3956.603      1.741      0.082    -867.624    1.46e+04\n",
      "==============================================================================\n",
      "Omnibus:                    11730.325   Durbin-Watson:                   2.020\n",
      "Prob(Omnibus):                  0.000   Jarque-Bera (JB):           424556.267\n",
      "Skew:                           2.778   Prob(JB):                         0.00\n",
      "Kurtosis:                      26.631   Cond. No.                     9.22e+03\n",
      "==============================================================================\n",
      "\n",
      "Warnings:\n",
      "[1] Standard Errors assume that the covariance matrix of the errors is correctly specified.\n",
      "[2] The condition number is large, 9.22e+03. This might indicate that there are\n",
      "strong multicollinearity or other numerical problems.\n",
      "\n",
      " pvalues \n",
      "\n",
      "const           2.944090e-18\n",
      "sqft_living     0.000000e+00\n",
      "bedrooms       1.947456e-103\n",
      "bathrooms       8.173358e-02\n",
      "dtype: float64\n"
     ]
    }
   ],
   "source": [
    "# use statsmodels\n",
    "import statsmodels.formula.api as smf\n",
    "import statsmodels.api as sm\n",
    "# An intercept is not included by default and should be added by the user\n",
    "X_train = sm.add_constant(X_train[features])\n",
    "model_two = smf.OLS(y_train, X_train).fit()\n",
    "print(model_two.summary())\n",
    "print(\"\\n pvalues \\n\")\n",
    "print(model_two.pvalues)"
   ]
  },
  {
   "cell_type": "code",
   "execution_count": 27,
   "metadata": {},
   "outputs": [
    {
     "name": "stdout",
     "output_type": "stream",
     "text": [
      "395813.4988028938\n"
     ]
    }
   ],
   "source": [
    "# make predictions\n",
    "example_predictions = model_one.predict(X_train[features])\n",
    "print(example_predictions[0]) "
   ]
  },
  {
   "cell_type": "code",
   "execution_count": 28,
   "metadata": {},
   "outputs": [],
   "source": [
    "def get_residual_sum_of_squares(model, data, outcome):\n",
    "    # First get the predictions\n",
    "    predictions=model.predict(data)    \n",
    "    # Then compute the residuals/errors\n",
    "    RSS=outcome-predictions\n",
    "    # Then square and add them up\n",
    "    RSS=(RSS*RSS).sum()\n",
    "\n",
    "    return(RSS)    "
   ]
  },
  {
   "cell_type": "code",
   "execution_count": 29,
   "metadata": {},
   "outputs": [
    {
     "name": "stdout",
     "output_type": "stream",
     "text": [
      "RSS(mannual):  259213572106085.38\n",
      "RSS(sklearn):  259213572106085.38\n",
      "Rsquared on test data 0.49580096548774166\n"
     ]
    }
   ],
   "source": [
    "# rss on test data\n",
    "rss_example_test = get_residual_sum_of_squares(model_one, X_test[features], y_test)\n",
    "print(\"RSS(mannual): \", rss_example_test)\n",
    "# MSE = RSS/n so RSS = MSE * n\n",
    "print(\"RSS(sklearn): \", y_test.shape[0] * metrics.mean_squared_error(model_one.predict(X_test[features]), y_test) )\n",
    "# r2 on test data\n",
    "print(\"Rsquared on test data\", model_one.score(X_test[features], y_test))"
   ]
  },
  {
   "cell_type": "code",
   "execution_count": 30,
   "metadata": {},
   "outputs": [],
   "source": [
    "# create new features\n",
    "sales['bedrooms_squared'] = sales['bedrooms'] * sales['bedrooms']\n",
    "sales['bed_bath_rooms'] = sales['bedrooms'] * sales['bathrooms']\n",
    "sales['log_sqft_living'] = np.log(sales['sqft_living'])\n",
    "sales['lat_plus_long'] = sales['lat'] + sales['long']\n",
    "\n",
    "X_train, X_test, y_train, y_test = train_test_split(sales, target, test_size=0.2, random_state=0)"
   ]
  },
  {
   "cell_type": "code",
   "execution_count": 31,
   "metadata": {},
   "outputs": [
    {
     "name": "stdout",
     "output_type": "stream",
     "text": [
      "12.210501966227158\n",
      "7.447721489706223\n",
      "7.550239467794731\n",
      "-74.65426069858911\n"
     ]
    }
   ],
   "source": [
    "## the mean (arithmetic average) value of your 4 new features on TEST data? (round to 2 digits)**\n",
    "print(X_test['bedrooms_squared'].mean())\n",
    "print(X_test['bed_bath_rooms'].mean())\n",
    "print(X_test['log_sqft_living'].mean())\n",
    "print(X_test['lat_plus_long'].mean())"
   ]
  },
  {
   "cell_type": "markdown",
   "metadata": {},
   "source": [
    "* Squaring bedrooms will increase the separation between not many bedrooms (e.g. 1) and lots of bedrooms (e.g. 4) since 1^2 = 1 but 4^2 = 16. Consequently this feature will mostly affect houses with many bedrooms.\n",
    "* bedrooms times bathrooms gives what's called an \"interaction\" feature. It is large when *both* of them are large.\n",
    "* Taking the log of squarefeet has the effect of bringing large values closer together and spreading out small values.\n",
    "* Adding latitude to longitude is totally non-sensical but we will do it anyway (you'll see why)"
   ]
  },
  {
   "cell_type": "code",
   "execution_count": 32,
   "metadata": {},
   "outputs": [],
   "source": [
    "# Learning multiple models\n",
    "import statsmodels.formula.api as smf\n",
    "import statsmodels.api as sm\n",
    "\n",
    "features1 = ['sqft_living', 'bedrooms', 'bathrooms', 'lat', 'long']\n",
    "features2 = features1 + ['bed_bath_rooms']\n",
    "features3 = features2 + ['bedrooms_squared', 'log_sqft_living', 'lat_plus_long']\n",
    "X_train = sm.add_constant(X_train)"
   ]
  },
  {
   "cell_type": "code",
   "execution_count": 33,
   "metadata": {},
   "outputs": [
    {
     "name": "stdout",
     "output_type": "stream",
     "text": [
      "                            OLS Regression Results                            \n",
      "==============================================================================\n",
      "Dep. Variable:                  price   R-squared:                       0.591\n",
      "Model:                            OLS   Adj. R-squared:                  0.591\n",
      "Method:                 Least Squares   F-statistic:                     5004.\n",
      "Date:                Mon, 17 Dec 2018   Prob (F-statistic):               0.00\n",
      "Time:                        02:47:23   Log-Likelihood:            -2.3859e+05\n",
      "No. Observations:               17290   AIC:                         4.772e+05\n",
      "Df Residuals:                   17284   BIC:                         4.772e+05\n",
      "Df Model:                           5                                         \n",
      "Covariance Type:            nonrobust                                         \n",
      "===============================================================================\n",
      "                  coef    std err          t      P>|t|      [0.025      0.975]\n",
      "-------------------------------------------------------------------------------\n",
      "sqft_living   312.9420      3.199     97.821      0.000     306.671     319.213\n",
      "bedrooms     -5.31e+04   2384.140    -22.271      0.000   -5.78e+04   -4.84e+04\n",
      "bathrooms    1.478e+04   3617.574      4.085      0.000    7686.232    2.19e+04\n",
      "lat           6.54e+05   1.33e+04     49.311      0.000    6.28e+05     6.8e+05\n",
      "long        -3.257e+05   1.35e+04    -24.198      0.000   -3.52e+05   -2.99e+05\n",
      "const       -7.087e+07   1.67e+06    -42.529      0.000   -7.41e+07   -6.76e+07\n",
      "==============================================================================\n",
      "Omnibus:                    13224.362   Durbin-Watson:                   2.015\n",
      "Prob(Omnibus):                  0.000   Jarque-Bera (JB):           693131.127\n",
      "Skew:                           3.207   Prob(JB):                         0.00\n",
      "Kurtosis:                      33.348   Cond. No.                     2.10e+06\n",
      "==============================================================================\n",
      "\n",
      "Warnings:\n",
      "[1] Standard Errors assume that the covariance matrix of the errors is correctly specified.\n",
      "[2] The condition number is large, 2.1e+06. This might indicate that there are\n",
      "strong multicollinearity or other numerical problems.\n",
      "\n",
      " pvalues \n",
      "\n",
      "sqft_living     0.000000e+00\n",
      "bedrooms       2.371832e-108\n",
      "bathrooms       4.431483e-05\n",
      "lat             0.000000e+00\n",
      "long           3.043958e-127\n",
      "const           0.000000e+00\n",
      "dtype: float64\n"
     ]
    }
   ],
   "source": [
    "# statsmodels\n",
    "model_three = smf.OLS(y_train, X_train[features1 + ['const']]).fit()\n",
    "print(model_three.summary())\n",
    "print(\"\\n pvalues \\n\")\n",
    "print(model_three.pvalues)"
   ]
  },
  {
   "cell_type": "code",
   "execution_count": 34,
   "metadata": {},
   "outputs": [
    {
     "name": "stdout",
     "output_type": "stream",
     "text": [
      "cofficents:  [ 3.12942010e+02 -5.30962691e+04  1.47770428e+04  6.53983343e+05\n",
      " -3.25707336e+05]\n",
      "intercept:  -70870846.23890634\n",
      "RSquared(on training data) 0.591420549946847\n"
     ]
    }
   ],
   "source": [
    "# scikit_learn\n",
    "model_three = LinearRegression()\n",
    "model_three.fit(X_train[features1], y_train)\n",
    "print(\"cofficents: \", model_three.coef_)\n",
    "print(\"intercept: \", model_three.intercept_)\n",
    "# calculate r2\n",
    "print(\"RSquared(on training data)\", model_three.score(X_train[features1],y_train))"
   ]
  },
  {
   "cell_type": "code",
   "execution_count": 35,
   "metadata": {},
   "outputs": [
    {
     "name": "stdout",
     "output_type": "stream",
     "text": [
      "                            OLS Regression Results                            \n",
      "==============================================================================\n",
      "Dep. Variable:                  price   R-squared:                       0.595\n",
      "Model:                            OLS   Adj. R-squared:                  0.595\n",
      "Method:                 Least Squares   F-statistic:                     4235.\n",
      "Date:                Mon, 17 Dec 2018   Prob (F-statistic):               0.00\n",
      "Time:                        02:47:23   Log-Likelihood:            -2.3851e+05\n",
      "No. Observations:               17290   AIC:                         4.770e+05\n",
      "Df Residuals:                   17283   BIC:                         4.771e+05\n",
      "Df Model:                           6                                         \n",
      "Covariance Type:            nonrobust                                         \n",
      "==================================================================================\n",
      "                     coef    std err          t      P>|t|      [0.025      0.975]\n",
      "----------------------------------------------------------------------------------\n",
      "sqft_living      306.8196      3.221     95.263      0.000     300.507     313.133\n",
      "bedrooms       -1.046e+05   4702.057    -22.247      0.000   -1.14e+05   -9.54e+04\n",
      "bathrooms      -7.018e+04   7602.259     -9.232      0.000   -8.51e+04   -5.53e+04\n",
      "lat             6.506e+05   1.32e+04     49.272      0.000    6.25e+05    6.76e+05\n",
      "long             -3.1e+05   1.35e+04    -23.036      0.000   -3.36e+05   -2.84e+05\n",
      "bed_bath_rooms  2.494e+04   1965.776     12.689      0.000    2.11e+04    2.88e+04\n",
      "const          -6.861e+07   1.67e+06    -41.123      0.000   -7.19e+07   -6.53e+07\n",
      "==============================================================================\n",
      "Omnibus:                    12543.377   Durbin-Watson:                   2.018\n",
      "Prob(Omnibus):                  0.000   Jarque-Bera (JB):           579467.387\n",
      "Skew:                           2.992   Prob(JB):                         0.00\n",
      "Kurtosis:                      30.723   Cond. No.                     2.11e+06\n",
      "==============================================================================\n",
      "\n",
      "Warnings:\n",
      "[1] Standard Errors assume that the covariance matrix of the errors is correctly specified.\n",
      "[2] The condition number is large, 2.11e+06. This might indicate that there are\n",
      "strong multicollinearity or other numerical problems.\n",
      "\n",
      " pvalues \n",
      "\n",
      "sqft_living        0.000000e+00\n",
      "bedrooms          3.994123e-108\n",
      "bathrooms          2.965911e-20\n",
      "lat                0.000000e+00\n",
      "long              1.112857e-115\n",
      "bed_bath_rooms     9.897262e-37\n",
      "const              0.000000e+00\n",
      "dtype: float64\n"
     ]
    }
   ],
   "source": [
    "# model_four\n",
    "model_four = smf.OLS(y_train, X_train[features2 + ['const']]).fit()\n",
    "print(model_four.summary())\n",
    "print(\"\\n pvalues \\n\")\n",
    "print(model_four.pvalues)"
   ]
  },
  {
   "cell_type": "code",
   "execution_count": 36,
   "metadata": {},
   "outputs": [
    {
     "name": "stdout",
     "output_type": "stream",
     "text": [
      "cofficents:  [ 3.06819573e+02 -1.04604718e+05 -7.01815289e+04  6.50590952e+05\n",
      " -3.09965751e+05  2.49441497e+04]\n",
      "intercept:  -68606820.39569089\n",
      "RSquared(on training data) 0.5951919223498363\n"
     ]
    }
   ],
   "source": [
    "# scikit_learn\n",
    "model_four = LinearRegression()\n",
    "model_four.fit(X_train[features2], y_train)\n",
    "print(\"cofficents: \", model_four.coef_)\n",
    "print(\"intercept: \", model_four.intercept_)\n",
    "# calculate r2\n",
    "print(\"RSquared(on training data)\", model_four.score(X_train[features2],y_train))"
   ]
  },
  {
   "cell_type": "code",
   "execution_count": 37,
   "metadata": {},
   "outputs": [
    {
     "name": "stdout",
     "output_type": "stream",
     "text": [
      "                            OLS Regression Results                            \n",
      "==============================================================================\n",
      "Dep. Variable:                  price   R-squared:                       0.619\n",
      "Model:                            OLS   Adj. R-squared:                  0.619\n",
      "Method:                 Least Squares   F-statistic:                     3510.\n",
      "Date:                Mon, 17 Dec 2018   Prob (F-statistic):               0.00\n",
      "Time:                        02:47:23   Log-Likelihood:            -2.3798e+05\n",
      "No. Observations:               17290   AIC:                         4.760e+05\n",
      "Df Residuals:                   17281   BIC:                         4.761e+05\n",
      "Df Model:                           8                                         \n",
      "Covariance Type:            nonrobust                                         \n",
      "====================================================================================\n",
      "                       coef    std err          t      P>|t|      [0.025      0.975]\n",
      "------------------------------------------------------------------------------------\n",
      "sqft_living        537.8081      7.799     68.954      0.000     522.520     553.096\n",
      "bedrooms          2780.4791   6480.126      0.429      0.668   -9921.224    1.55e+04\n",
      "bathrooms         1.014e+05   9049.866     11.201      0.000    8.36e+04    1.19e+05\n",
      "lat               5.308e+05   8963.420     59.218      0.000    5.13e+05    5.48e+05\n",
      "long             -4.097e+05   9084.288    -45.095      0.000   -4.27e+05   -3.92e+05\n",
      "bed_bath_rooms   -1.818e+04   2320.545     -7.835      0.000   -2.27e+04   -1.36e+04\n",
      "bedrooms_squared   724.5799    275.801      2.627      0.009     183.982    1265.178\n",
      "log_sqft_living   -5.71e+05   1.79e+04    -31.982      0.000   -6.06e+05   -5.36e+05\n",
      "lat_plus_long     1.211e+05   6562.608     18.460      0.000    1.08e+05    1.34e+05\n",
      "const            -6.263e+07   1.63e+06    -38.452      0.000   -6.58e+07   -5.94e+07\n",
      "==============================================================================\n",
      "Omnibus:                    10287.934   Durbin-Watson:                   2.019\n",
      "Prob(Omnibus):                  0.000   Jarque-Bera (JB):           339844.398\n",
      "Skew:                           2.308   Prob(JB):                         0.00\n",
      "Kurtosis:                      24.223   Cond. No.                     8.40e+16\n",
      "==============================================================================\n",
      "\n",
      "Warnings:\n",
      "[1] Standard Errors assume that the covariance matrix of the errors is correctly specified.\n",
      "[2] The smallest eigenvalue is 1.28e-23. This might indicate that there are\n",
      "strong multicollinearity problems or that the design matrix is singular.\n",
      "\n",
      " pvalues \n",
      "\n",
      "sqft_living          0.000000e+00\n",
      "bedrooms             6.678719e-01\n",
      "bathrooms            5.099101e-29\n",
      "lat                  0.000000e+00\n",
      "long                 0.000000e+00\n",
      "bed_bath_rooms       4.945879e-15\n",
      "bedrooms_squared     8.617080e-03\n",
      "log_sqft_living     4.278877e-218\n",
      "lat_plus_long        2.314916e-75\n",
      "const                0.000000e+00\n",
      "dtype: float64\n"
     ]
    }
   ],
   "source": [
    "# model_five\n",
    "model_five = smf.OLS(y_train, X_train[features3 + ['const']]).fit()\n",
    "print(model_five.summary())\n",
    "print(\"\\n pvalues \\n\")\n",
    "print(model_five.pvalues)"
   ]
  },
  {
   "cell_type": "code",
   "execution_count": 38,
   "metadata": {},
   "outputs": [
    {
     "name": "stdout",
     "output_type": "stream",
     "text": [
      "cofficents:  [ 5.37808086e+02  2.78047910e+03  1.01363766e+05  5.30798406e+05\n",
      " -4.09655435e+05 -1.81822552e+04  7.24579939e+02 -5.71030023e+05\n",
      "  1.21142971e+05]\n",
      "intercept:  -62628450.27224184\n",
      "RSquared(on training data) 0.6190207246118422\n"
     ]
    }
   ],
   "source": [
    "# scikit_learn\n",
    "model_five = LinearRegression()\n",
    "model_five.fit(X_train[features3], y_train)\n",
    "print(\"cofficents: \", model_five.coef_)\n",
    "print(\"intercept: \", model_five.intercept_)\n",
    "# calculate r2\n",
    "print(\"RSquared(on training data)\", model_five.score(X_train[features3],y_train))"
   ]
  },
  {
   "cell_type": "code",
   "execution_count": 39,
   "metadata": {},
   "outputs": [
    {
     "name": "stdout",
     "output_type": "stream",
     "text": [
      "979843597588329.8\n",
      "970799199729578.9\n",
      "913653644974959.5\n"
     ]
    }
   ],
   "source": [
    "# comparing the models on training data(RSS)\n",
    "rss_model_three = y_train.shape[0] * metrics.mean_squared_error(model_three.predict(X_train[features1]), y_train)\n",
    "rss_model_four = y_train.shape[0] * metrics.mean_squared_error(model_four.predict(X_train[features2]), y_train)\n",
    "rss_model_five = y_train.shape[0] * metrics.mean_squared_error(model_five.predict(X_train[features3]), y_train)\n",
    "\n",
    "print(rss_model_three)\n",
    "print(rss_model_four)\n",
    "print(rss_model_five)\n"
   ]
  },
  {
   "cell_type": "code",
   "execution_count": 42,
   "metadata": {},
   "outputs": [
    {
     "name": "stdout",
     "output_type": "stream",
     "text": [
      "0.591420549946847\n",
      "0.5951919223498363\n",
      "0.6190207246118422\n"
     ]
    }
   ],
   "source": [
    "# comparing the models on training data(R2)\n",
    "rsquared_model_three = model_three.score(X_train[features1], y_train)\n",
    "rsquared_model_four = model_four.score(X_train[features2], y_train)\n",
    "rsquared_model_five = model_five.score(X_train[features3], y_train)\n",
    "print(rsquared_model_three)\n",
    "print(rsquared_model_four)\n",
    "print(rsquared_model_five)"
   ]
  },
  {
   "cell_type": "code",
   "execution_count": 40,
   "metadata": {},
   "outputs": [
    {
     "name": "stdout",
     "output_type": "stream",
     "text": [
      "213487129319106.8\n",
      "210778544168945.2\n",
      "203972051917617.3\n"
     ]
    }
   ],
   "source": [
    "# comparing the models on test data\n",
    "rss_model_three = y_test.shape[0] * metrics.mean_squared_error(model_three.predict(X_test[features1]), y_test)\n",
    "rss_model_four = y_test.shape[0] * metrics.mean_squared_error(model_four.predict(X_test[features2]), y_test)\n",
    "rss_model_five = y_test.shape[0] * metrics.mean_squared_error(model_five.predict(X_test[features3]), y_test)\n",
    "\n",
    "print(rss_model_three)\n",
    "print(rss_model_four)\n",
    "print(rss_model_five)"
   ]
  },
  {
   "cell_type": "code",
   "execution_count": 43,
   "metadata": {},
   "outputs": [
    {
     "name": "stdout",
     "output_type": "stream",
     "text": [
      "0.5847439483630328\n",
      "0.5900124457125729\n",
      "0.6032518250924851\n"
     ]
    }
   ],
   "source": [
    "# comparing the models on test data(R2)\n",
    "rsquared_model_three = model_three.score(X_test[features1], y_test)\n",
    "rsquared_model_four = model_four.score(X_test[features2], y_test)\n",
    "rsquared_model_five = model_five.score(X_test[features3], y_test)\n",
    "print(rsquared_model_three)\n",
    "print(rsquared_model_four)\n",
    "print(rsquared_model_five)"
   ]
  },
  {
   "cell_type": "markdown",
   "metadata": {},
   "source": [
    "#### Training Data\n",
    "\n",
    "* RSS(lowest to highest): model_four, model_five, model_three\n",
    "* R2(highest to lowest) : model_five, model_four, model_three\n",
    "\n",
    "#### Testing Data   \n",
    "\n",
    "* RSS(lowest to highest): model_five, model_four, model_three\n",
    "* R2(highest to lowest) : model_five, model_four, model_three"
   ]
  },
  {
   "cell_type": "code",
   "execution_count": null,
   "metadata": {},
   "outputs": [],
   "source": []
  }
 ],
 "metadata": {
  "kernelspec": {
   "display_name": "Python 3",
   "language": "python",
   "name": "python3"
  },
  "language_info": {
   "codemirror_mode": {
    "name": "ipython",
    "version": 3
   },
   "file_extension": ".py",
   "mimetype": "text/x-python",
   "name": "python",
   "nbconvert_exporter": "python",
   "pygments_lexer": "ipython3",
   "version": "3.7.0"
  }
 },
 "nbformat": 4,
 "nbformat_minor": 2
}
