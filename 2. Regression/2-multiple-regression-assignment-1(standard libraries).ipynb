{
 "cells": [
  {
   "cell_type": "code",
   "execution_count": 1,
   "metadata": {},
   "outputs": [],
   "source": [
    "import pandas as pd\n",
    "import numpy as np\n",
    "import matplotlib.pyplot as plt\n",
    "import seaborn as sns\n",
    "from sklearn.linear_model import LinearRegression\n",
    "from scipy import stats\n",
    "from sklearn.model_selection import train_test_split\n"
   ]
  },
  {
   "cell_type": "code",
   "execution_count": 2,
   "metadata": {},
   "outputs": [
    {
     "data": {
      "text/html": [
       "<div>\n",
       "<style scoped>\n",
       "    .dataframe tbody tr th:only-of-type {\n",
       "        vertical-align: middle;\n",
       "    }\n",
       "\n",
       "    .dataframe tbody tr th {\n",
       "        vertical-align: top;\n",
       "    }\n",
       "\n",
       "    .dataframe thead th {\n",
       "        text-align: right;\n",
       "    }\n",
       "</style>\n",
       "<table border=\"1\" class=\"dataframe\">\n",
       "  <thead>\n",
       "    <tr style=\"text-align: right;\">\n",
       "      <th></th>\n",
       "      <th>id</th>\n",
       "      <th>date</th>\n",
       "      <th>price</th>\n",
       "      <th>bedrooms</th>\n",
       "      <th>bathrooms</th>\n",
       "      <th>sqft_living</th>\n",
       "      <th>sqft_lot</th>\n",
       "      <th>floors</th>\n",
       "      <th>waterfront</th>\n",
       "      <th>view</th>\n",
       "      <th>...</th>\n",
       "      <th>grade</th>\n",
       "      <th>sqft_above</th>\n",
       "      <th>sqft_basement</th>\n",
       "      <th>yr_built</th>\n",
       "      <th>yr_renovated</th>\n",
       "      <th>zipcode</th>\n",
       "      <th>lat</th>\n",
       "      <th>long</th>\n",
       "      <th>sqft_living15</th>\n",
       "      <th>sqft_lot15</th>\n",
       "    </tr>\n",
       "  </thead>\n",
       "  <tbody>\n",
       "    <tr>\n",
       "      <th>0</th>\n",
       "      <td>7129300520</td>\n",
       "      <td>20141013T000000</td>\n",
       "      <td>221900.0</td>\n",
       "      <td>3</td>\n",
       "      <td>1.00</td>\n",
       "      <td>1180</td>\n",
       "      <td>5650</td>\n",
       "      <td>1.0</td>\n",
       "      <td>0</td>\n",
       "      <td>0</td>\n",
       "      <td>...</td>\n",
       "      <td>7</td>\n",
       "      <td>1180</td>\n",
       "      <td>0</td>\n",
       "      <td>1955</td>\n",
       "      <td>0</td>\n",
       "      <td>98178</td>\n",
       "      <td>47.5112</td>\n",
       "      <td>-122.257</td>\n",
       "      <td>1340</td>\n",
       "      <td>5650</td>\n",
       "    </tr>\n",
       "    <tr>\n",
       "      <th>1</th>\n",
       "      <td>6414100192</td>\n",
       "      <td>20141209T000000</td>\n",
       "      <td>538000.0</td>\n",
       "      <td>3</td>\n",
       "      <td>2.25</td>\n",
       "      <td>2570</td>\n",
       "      <td>7242</td>\n",
       "      <td>2.0</td>\n",
       "      <td>0</td>\n",
       "      <td>0</td>\n",
       "      <td>...</td>\n",
       "      <td>7</td>\n",
       "      <td>2170</td>\n",
       "      <td>400</td>\n",
       "      <td>1951</td>\n",
       "      <td>1991</td>\n",
       "      <td>98125</td>\n",
       "      <td>47.7210</td>\n",
       "      <td>-122.319</td>\n",
       "      <td>1690</td>\n",
       "      <td>7639</td>\n",
       "    </tr>\n",
       "    <tr>\n",
       "      <th>2</th>\n",
       "      <td>5631500400</td>\n",
       "      <td>20150225T000000</td>\n",
       "      <td>180000.0</td>\n",
       "      <td>2</td>\n",
       "      <td>1.00</td>\n",
       "      <td>770</td>\n",
       "      <td>10000</td>\n",
       "      <td>1.0</td>\n",
       "      <td>0</td>\n",
       "      <td>0</td>\n",
       "      <td>...</td>\n",
       "      <td>6</td>\n",
       "      <td>770</td>\n",
       "      <td>0</td>\n",
       "      <td>1933</td>\n",
       "      <td>0</td>\n",
       "      <td>98028</td>\n",
       "      <td>47.7379</td>\n",
       "      <td>-122.233</td>\n",
       "      <td>2720</td>\n",
       "      <td>8062</td>\n",
       "    </tr>\n",
       "    <tr>\n",
       "      <th>3</th>\n",
       "      <td>2487200875</td>\n",
       "      <td>20141209T000000</td>\n",
       "      <td>604000.0</td>\n",
       "      <td>4</td>\n",
       "      <td>3.00</td>\n",
       "      <td>1960</td>\n",
       "      <td>5000</td>\n",
       "      <td>1.0</td>\n",
       "      <td>0</td>\n",
       "      <td>0</td>\n",
       "      <td>...</td>\n",
       "      <td>7</td>\n",
       "      <td>1050</td>\n",
       "      <td>910</td>\n",
       "      <td>1965</td>\n",
       "      <td>0</td>\n",
       "      <td>98136</td>\n",
       "      <td>47.5208</td>\n",
       "      <td>-122.393</td>\n",
       "      <td>1360</td>\n",
       "      <td>5000</td>\n",
       "    </tr>\n",
       "    <tr>\n",
       "      <th>4</th>\n",
       "      <td>1954400510</td>\n",
       "      <td>20150218T000000</td>\n",
       "      <td>510000.0</td>\n",
       "      <td>3</td>\n",
       "      <td>2.00</td>\n",
       "      <td>1680</td>\n",
       "      <td>8080</td>\n",
       "      <td>1.0</td>\n",
       "      <td>0</td>\n",
       "      <td>0</td>\n",
       "      <td>...</td>\n",
       "      <td>8</td>\n",
       "      <td>1680</td>\n",
       "      <td>0</td>\n",
       "      <td>1987</td>\n",
       "      <td>0</td>\n",
       "      <td>98074</td>\n",
       "      <td>47.6168</td>\n",
       "      <td>-122.045</td>\n",
       "      <td>1800</td>\n",
       "      <td>7503</td>\n",
       "    </tr>\n",
       "  </tbody>\n",
       "</table>\n",
       "<p>5 rows × 21 columns</p>\n",
       "</div>"
      ],
      "text/plain": [
       "           id             date     price  bedrooms  bathrooms  sqft_living  \\\n",
       "0  7129300520  20141013T000000  221900.0         3       1.00         1180   \n",
       "1  6414100192  20141209T000000  538000.0         3       2.25         2570   \n",
       "2  5631500400  20150225T000000  180000.0         2       1.00          770   \n",
       "3  2487200875  20141209T000000  604000.0         4       3.00         1960   \n",
       "4  1954400510  20150218T000000  510000.0         3       2.00         1680   \n",
       "\n",
       "   sqft_lot  floors  waterfront  view     ...      grade  sqft_above  \\\n",
       "0      5650     1.0           0     0     ...          7        1180   \n",
       "1      7242     2.0           0     0     ...          7        2170   \n",
       "2     10000     1.0           0     0     ...          6         770   \n",
       "3      5000     1.0           0     0     ...          7        1050   \n",
       "4      8080     1.0           0     0     ...          8        1680   \n",
       "\n",
       "   sqft_basement  yr_built  yr_renovated  zipcode      lat     long  \\\n",
       "0              0      1955             0    98178  47.5112 -122.257   \n",
       "1            400      1951          1991    98125  47.7210 -122.319   \n",
       "2              0      1933             0    98028  47.7379 -122.233   \n",
       "3            910      1965             0    98136  47.5208 -122.393   \n",
       "4              0      1987             0    98074  47.6168 -122.045   \n",
       "\n",
       "   sqft_living15  sqft_lot15  \n",
       "0           1340        5650  \n",
       "1           1690        7639  \n",
       "2           2720        8062  \n",
       "3           1360        5000  \n",
       "4           1800        7503  \n",
       "\n",
       "[5 rows x 21 columns]"
      ]
     },
     "execution_count": 2,
     "metadata": {},
     "output_type": "execute_result"
    }
   ],
   "source": [
    "# load data\n",
    "sales = pd.read_csv(\"../../ML Data & Script/kc_house_data.csv\")\n",
    "sales.head()"
   ]
  },
  {
   "cell_type": "code",
   "execution_count": 3,
   "metadata": {},
   "outputs": [
    {
     "name": "stdout",
     "output_type": "stream",
     "text": [
      "cofficents:  [   306.15090562 -57658.90103459   7913.53847651]\n",
      "intercept:  81100.95967753674\n",
      "RSquared(on training data) 0.5032799225389821\n",
      "RSS/SSE:  1133191715090008.2\n"
     ]
    }
   ],
   "source": [
    "# split data into training and testing\n",
    "target = sales['price']\n",
    "X_train, X_test, y_train, y_test = train_test_split(sales, target, test_size=0.2, random_state=10)\n",
    "\n",
    "features = ['sqft_living', 'bedrooms', 'bathrooms']\n",
    "# use sklearn\n",
    "from sklearn.linear_model import LinearRegression\n",
    "model_one = LinearRegression()\n",
    "model_one.fit(X_train[features],y_train)\n",
    "print(\"cofficents: \", model_one.coef_)\n",
    "print(\"intercept: \", model_one.intercept_)\n",
    "# calculate r2\n",
    "print(\"RSquared(on training data)\", model_one.score(X_train[features], y_train))\n",
    "\n",
    "from sklearn import metrics\n",
    "# calculate RSS( MSE is RSS/n)\n",
    "print(\"RSS/SSE: \", y_train.shape[0] * metrics.mean_squared_error(model_one.predict(X_train[features]), y_train))"
   ]
  },
  {
   "cell_type": "code",
   "execution_count": 4,
   "metadata": {},
   "outputs": [
    {
     "name": "stdout",
     "output_type": "stream",
     "text": [
      "                            OLS Regression Results                            \n",
      "==============================================================================\n",
      "Dep. Variable:                  price   R-squared:                       0.503\n",
      "Model:                            OLS   Adj. R-squared:                  0.503\n",
      "Method:                 Least Squares   F-statistic:                     5838.\n",
      "Date:                Sat, 22 Dec 2018   Prob (F-statistic):               0.00\n",
      "Time:                        11:53:42   Log-Likelihood:            -2.3985e+05\n",
      "No. Observations:               17290   AIC:                         4.797e+05\n",
      "Df Residuals:                   17286   BIC:                         4.797e+05\n",
      "Df Model:                           3                                         \n",
      "Covariance Type:            nonrobust                                         \n",
      "===============================================================================\n",
      "                  coef    std err          t      P>|t|      [0.025      0.975]\n",
      "-------------------------------------------------------------------------------\n",
      "const         8.11e+04   7641.093     10.614      0.000    6.61e+04    9.61e+04\n",
      "sqft_living   306.1509      3.441     88.973      0.000     299.406     312.896\n",
      "bedrooms    -5.766e+04   2569.010    -22.444      0.000   -6.27e+04   -5.26e+04\n",
      "bathrooms    7913.5385   3895.734      2.031      0.042     277.506    1.55e+04\n",
      "==============================================================================\n",
      "Omnibus:                    10839.165   Durbin-Watson:                   1.996\n",
      "Prob(Omnibus):                  0.000   Jarque-Bera (JB):           278502.411\n",
      "Skew:                           2.583   Prob(JB):                         0.00\n",
      "Kurtosis:                      21.971   Cond. No.                     9.26e+03\n",
      "==============================================================================\n",
      "\n",
      "Warnings:\n",
      "[1] Standard Errors assume that the covariance matrix of the errors is correctly specified.\n",
      "[2] The condition number is large, 9.26e+03. This might indicate that there are\n",
      "strong multicollinearity or other numerical problems.\n",
      "\n",
      " pvalues \n",
      "\n",
      "const           3.096528e-26\n",
      "sqft_living     0.000000e+00\n",
      "bedrooms       5.436320e-110\n",
      "bathrooms       4.223635e-02\n",
      "dtype: float64\n"
     ]
    }
   ],
   "source": [
    "# use statsmodels\n",
    "import statsmodels.formula.api as smf\n",
    "import statsmodels.api as sm\n",
    "# An intercept is not included by default and should be added by the user\n",
    "X_train = sm.add_constant(X_train[features])\n",
    "model_two = smf.OLS(y_train, X_train).fit()\n",
    "print(model_two.summary())\n",
    "print(\"\\n pvalues \\n\")\n",
    "print(model_two.pvalues)"
   ]
  },
  {
   "cell_type": "code",
   "execution_count": 5,
   "metadata": {},
   "outputs": [
    {
     "name": "stdout",
     "output_type": "stream",
     "text": [
      "258417.038313439\n"
     ]
    }
   ],
   "source": [
    "# make predictions\n",
    "example_predictions = model_one.predict(X_train[features])\n",
    "print(example_predictions[0]) "
   ]
  },
  {
   "cell_type": "code",
   "execution_count": 6,
   "metadata": {},
   "outputs": [],
   "source": [
    "def get_residual_sum_of_squares(model, data, outcome):\n",
    "    # First get the predictions\n",
    "    predictions=model.predict(data)    \n",
    "    # Then compute the residuals/errors\n",
    "    RSS=outcome-predictions\n",
    "    # Then square and add them up\n",
    "    RSS=(RSS*RSS).sum()\n",
    "\n",
    "    return(RSS)    "
   ]
  },
  {
   "cell_type": "code",
   "execution_count": 7,
   "metadata": {},
   "outputs": [
    {
     "name": "stdout",
     "output_type": "stream",
     "text": [
      "RSS on test data(mannual):  303290122873171.5\n",
      "RSS on test data(sklearn):  303290122873171.5\n",
      "Rsquared on test data 0.519780761889068\n"
     ]
    }
   ],
   "source": [
    "# rss on test data\n",
    "rss_example_test = get_residual_sum_of_squares(model_one, X_test[features], y_test)\n",
    "print(\"RSS on test data(mannual): \", rss_example_test)\n",
    "# MSE = RSS/n so RSS = MSE * n\n",
    "print(\"RSS on test data(sklearn): \", y_test.shape[0] * metrics.mean_squared_error(model_one.predict(X_test[features]), y_test) )\n",
    "# r2 on test data\n",
    "print(\"Rsquared on test data\", model_one.score(X_test[features], y_test))"
   ]
  },
  {
   "cell_type": "code",
   "execution_count": 8,
   "metadata": {},
   "outputs": [],
   "source": [
    "# create new features\n",
    "sales['bedrooms_squared'] = sales['bedrooms'] * sales['bedrooms']\n",
    "sales['bed_bath_rooms'] = sales['bedrooms'] * sales['bathrooms']\n",
    "sales['log_sqft_living'] = np.log(sales['sqft_living'])\n",
    "sales['lat_plus_long'] = sales['lat'] + sales['long']\n",
    "\n",
    "X_train, X_test, y_train, y_test = train_test_split(sales, target, test_size=0.2, random_state=10)"
   ]
  },
  {
   "cell_type": "code",
   "execution_count": 9,
   "metadata": {},
   "outputs": [
    {
     "name": "stdout",
     "output_type": "stream",
     "text": [
      "12.133703446680546\n",
      "7.463162155910248\n",
      "7.5486804489573025\n",
      "-74.65885033541488\n"
     ]
    }
   ],
   "source": [
    "## the mean (arithmetic average) value of your 4 new features on TEST data? (round to 2 digits)**\n",
    "print(X_test['bedrooms_squared'].mean())\n",
    "print(X_test['bed_bath_rooms'].mean())\n",
    "print(X_test['log_sqft_living'].mean())\n",
    "print(X_test['lat_plus_long'].mean())"
   ]
  },
  {
   "cell_type": "markdown",
   "metadata": {},
   "source": [
    "* Squaring bedrooms will increase the separation between not many bedrooms (e.g. 1) and lots of bedrooms (e.g. 4) since 1^2 = 1 but 4^2 = 16. Consequently this feature will mostly affect houses with many bedrooms.\n",
    "* bedrooms times bathrooms gives what's called an \"interaction\" feature. It is large when *both* of them are large.\n",
    "* Taking the log of squarefeet has the effect of bringing large values closer together and spreading out small values.\n",
    "* Adding latitude to longitude is totally non-sensical but we will do it anyway (you'll see why)"
   ]
  },
  {
   "cell_type": "code",
   "execution_count": 10,
   "metadata": {},
   "outputs": [],
   "source": [
    "# Learning multiple models\n",
    "import statsmodels.formula.api as smf\n",
    "import statsmodels.api as sm\n",
    "\n",
    "features1 = ['sqft_living', 'bedrooms', 'bathrooms', 'lat', 'long']\n",
    "features2 = features1 + ['bed_bath_rooms']\n",
    "features3 = features2 + ['bedrooms_squared', 'log_sqft_living', 'lat_plus_long']\n",
    "X_train = sm.add_constant(X_train)"
   ]
  },
  {
   "cell_type": "code",
   "execution_count": 11,
   "metadata": {},
   "outputs": [
    {
     "name": "stdout",
     "output_type": "stream",
     "text": [
      "                            OLS Regression Results                            \n",
      "==============================================================================\n",
      "Dep. Variable:                  price   R-squared:                       0.586\n",
      "Model:                            OLS   Adj. R-squared:                  0.586\n",
      "Method:                 Least Squares   F-statistic:                     4897.\n",
      "Date:                Sat, 22 Dec 2018   Prob (F-statistic):               0.00\n",
      "Time:                        11:53:43   Log-Likelihood:            -2.3827e+05\n",
      "No. Observations:               17290   AIC:                         4.765e+05\n",
      "Df Residuals:                   17284   BIC:                         4.766e+05\n",
      "Df Model:                           5                                         \n",
      "Covariance Type:            nonrobust                                         \n",
      "===============================================================================\n",
      "                  coef    std err          t      P>|t|      [0.025      0.975]\n",
      "-------------------------------------------------------------------------------\n",
      "sqft_living   304.2173      3.173     95.877      0.000     297.998     310.437\n",
      "bedrooms    -5.376e+04   2348.103    -22.896      0.000   -5.84e+04   -4.92e+04\n",
      "bathrooms    1.608e+04   3563.623      4.512      0.000    9094.660    2.31e+04\n",
      "lat          6.519e+05   1.31e+04     49.941      0.000    6.26e+05    6.77e+05\n",
      "long        -3.042e+05   1.32e+04    -23.092      0.000    -3.3e+05   -2.78e+05\n",
      "const       -6.813e+07   1.64e+06    -41.658      0.000   -7.13e+07   -6.49e+07\n",
      "==============================================================================\n",
      "Omnibus:                    12345.007   Durbin-Watson:                   1.998\n",
      "Prob(Omnibus):                  0.000   Jarque-Bera (JB):           460423.201\n",
      "Skew:                           2.995   Prob(JB):                         0.00\n",
      "Kurtosis:                      27.561   Cond. No.                     2.09e+06\n",
      "==============================================================================\n",
      "\n",
      "Warnings:\n",
      "[1] Standard Errors assume that the covariance matrix of the errors is correctly specified.\n",
      "[2] The condition number is large, 2.09e+06. This might indicate that there are\n",
      "strong multicollinearity or other numerical problems.\n",
      "\n",
      " pvalues \n",
      "\n",
      "sqft_living     0.000000e+00\n",
      "bedrooms       2.551595e-114\n",
      "bathrooms       6.458652e-06\n",
      "lat             0.000000e+00\n",
      "long           3.165051e-116\n",
      "const           0.000000e+00\n",
      "dtype: float64\n"
     ]
    }
   ],
   "source": [
    "# statsmodels\n",
    "model_three = smf.OLS(y_train, X_train[features1 + ['const']]).fit()\n",
    "print(model_three.summary())\n",
    "print(\"\\n pvalues \\n\")\n",
    "print(model_three.pvalues)"
   ]
  },
  {
   "cell_type": "code",
   "execution_count": 12,
   "metadata": {},
   "outputs": [
    {
     "name": "stdout",
     "output_type": "stream",
     "text": [
      "cofficents:  [ 3.04217336e+02 -5.37618792e+04  1.60797232e+04  6.51882003e+05\n",
      " -3.04222659e+05]\n",
      "intercept:  -68129245.36049479\n",
      "RSquared(on training data) 0.5861763880871873\n"
     ]
    }
   ],
   "source": [
    "# scikit_learn\n",
    "model_three = LinearRegression()\n",
    "model_three.fit(X_train[features1], y_train)\n",
    "print(\"cofficents: \", model_three.coef_)\n",
    "print(\"intercept: \", model_three.intercept_)\n",
    "# calculate r2\n",
    "print(\"RSquared(on training data)\", model_three.score(X_train[features1],y_train))"
   ]
  },
  {
   "cell_type": "code",
   "execution_count": 13,
   "metadata": {},
   "outputs": [
    {
     "name": "stdout",
     "output_type": "stream",
     "text": [
      "                            OLS Regression Results                            \n",
      "==============================================================================\n",
      "Dep. Variable:                  price   R-squared:                       0.588\n",
      "Model:                            OLS   Adj. R-squared:                  0.588\n",
      "Method:                 Least Squares   F-statistic:                     4110.\n",
      "Date:                Sat, 22 Dec 2018   Prob (F-statistic):               0.00\n",
      "Time:                        11:53:43   Log-Likelihood:            -2.3823e+05\n",
      "No. Observations:               17290   AIC:                         4.765e+05\n",
      "Df Residuals:                   17283   BIC:                         4.765e+05\n",
      "Df Model:                           6                                         \n",
      "Covariance Type:            nonrobust                                         \n",
      "==================================================================================\n",
      "                     coef    std err          t      P>|t|      [0.025      0.975]\n",
      "----------------------------------------------------------------------------------\n",
      "sqft_living      300.3238      3.199     93.894      0.000     294.054     306.593\n",
      "bedrooms       -8.832e+04   4652.040    -18.986      0.000   -9.74e+04   -7.92e+04\n",
      "bathrooms      -4.125e+04   7556.288     -5.460      0.000   -5.61e+04   -2.64e+04\n",
      "lat             6.499e+05    1.3e+04     49.883      0.000    6.24e+05    6.75e+05\n",
      "long           -2.945e+05   1.32e+04    -22.317      0.000    -3.2e+05   -2.69e+05\n",
      "bed_bath_rooms  1.678e+04   1950.751      8.599      0.000     1.3e+04    2.06e+04\n",
      "const          -6.672e+07   1.64e+06    -40.680      0.000   -6.99e+07   -6.35e+07\n",
      "==============================================================================\n",
      "Omnibus:                    11990.212   Durbin-Watson:                   1.998\n",
      "Prob(Omnibus):                  0.000   Jarque-Bera (JB):           417677.621\n",
      "Skew:                           2.887   Prob(JB):                         0.00\n",
      "Kurtosis:                      26.376   Cond. No.                     2.10e+06\n",
      "==============================================================================\n",
      "\n",
      "Warnings:\n",
      "[1] Standard Errors assume that the covariance matrix of the errors is correctly specified.\n",
      "[2] The condition number is large, 2.1e+06. This might indicate that there are\n",
      "strong multicollinearity or other numerical problems.\n",
      "\n",
      " pvalues \n",
      "\n",
      "sqft_living        0.000000e+00\n",
      "bedrooms           1.448726e-79\n",
      "bathrooms          4.838583e-08\n",
      "lat                0.000000e+00\n",
      "long              8.577116e-109\n",
      "bed_bath_rooms     8.689756e-18\n",
      "const              0.000000e+00\n",
      "dtype: float64\n"
     ]
    }
   ],
   "source": [
    "# model_four\n",
    "model_four = smf.OLS(y_train, X_train[features2 + ['const']]).fit()\n",
    "print(model_four.summary())\n",
    "print(\"\\n pvalues \\n\")\n",
    "print(model_four.pvalues)"
   ]
  },
  {
   "cell_type": "code",
   "execution_count": 14,
   "metadata": {},
   "outputs": [
    {
     "name": "stdout",
     "output_type": "stream",
     "text": [
      "cofficents:  [ 3.00323837e+02 -8.83214580e+04 -4.12541090e+04  6.49855298e+05\n",
      " -2.94483595e+05  1.67752839e+04]\n",
      "intercept:  -66722570.29684726\n",
      "RSquared(on training data) 0.5879394915900829\n"
     ]
    }
   ],
   "source": [
    "# scikit_learn\n",
    "model_four = LinearRegression()\n",
    "model_four.fit(X_train[features2], y_train)\n",
    "print(\"cofficents: \", model_four.coef_)\n",
    "print(\"intercept: \", model_four.intercept_)\n",
    "# calculate r2\n",
    "print(\"RSquared(on training data)\", model_four.score(X_train[features2],y_train))"
   ]
  },
  {
   "cell_type": "code",
   "execution_count": 15,
   "metadata": {},
   "outputs": [
    {
     "name": "stdout",
     "output_type": "stream",
     "text": [
      "                            OLS Regression Results                            \n",
      "==============================================================================\n",
      "Dep. Variable:                  price   R-squared:                       0.609\n",
      "Model:                            OLS   Adj. R-squared:                  0.608\n",
      "Method:                 Least Squares   F-statistic:                     3360.\n",
      "Date:                Sat, 22 Dec 2018   Prob (F-statistic):               0.00\n",
      "Time:                        11:53:43   Log-Likelihood:            -2.3778e+05\n",
      "No. Observations:               17290   AIC:                         4.756e+05\n",
      "Df Residuals:                   17281   BIC:                         4.757e+05\n",
      "Df Model:                           8                                         \n",
      "Covariance Type:            nonrobust                                         \n",
      "====================================================================================\n",
      "                       coef    std err          t      P>|t|      [0.025      0.975]\n",
      "------------------------------------------------------------------------------------\n",
      "sqft_living        514.7614      7.874     65.375      0.000     499.328     530.195\n",
      "bedrooms          4244.1436   6349.148      0.668      0.504   -8200.829    1.67e+04\n",
      "bathrooms         1.094e+05   8907.373     12.285      0.000     9.2e+04    1.27e+05\n",
      "lat               5.263e+05   8897.206     59.156      0.000    5.09e+05    5.44e+05\n",
      "long             -4.007e+05   8978.990    -44.629      0.000   -4.18e+05   -3.83e+05\n",
      "bed_bath_rooms   -2.122e+04   2284.941     -9.288      0.000   -2.57e+04   -1.67e+04\n",
      "bedrooms_squared   833.0845    272.451      3.058      0.002     299.052    1367.117\n",
      "log_sqft_living  -5.244e+05   1.79e+04    -29.325      0.000   -5.59e+05   -4.89e+05\n",
      "lat_plus_long     1.256e+05   6469.110     19.414      0.000    1.13e+05    1.38e+05\n",
      "const             -6.13e+07   1.61e+06    -38.109      0.000   -6.45e+07   -5.81e+07\n",
      "==============================================================================\n",
      "Omnibus:                    10357.266   Durbin-Watson:                   1.994\n",
      "Prob(Omnibus):                  0.000   Jarque-Bera (JB):           299681.416\n",
      "Skew:                           2.375   Prob(JB):                         0.00\n",
      "Kurtosis:                      22.835   Cond. No.                     2.01e+17\n",
      "==============================================================================\n",
      "\n",
      "Warnings:\n",
      "[1] Standard Errors assume that the covariance matrix of the errors is correctly specified.\n",
      "[2] The smallest eigenvalue is 2.22e-24. This might indicate that there are\n",
      "strong multicollinearity problems or that the design matrix is singular.\n",
      "\n",
      " pvalues \n",
      "\n",
      "sqft_living          0.000000e+00\n",
      "bedrooms             5.038497e-01\n",
      "bathrooms            1.524021e-34\n",
      "lat                  0.000000e+00\n",
      "long                 0.000000e+00\n",
      "bed_bath_rooms       1.760887e-20\n",
      "bedrooms_squared     2.233562e-03\n",
      "log_sqft_living     1.588492e-184\n",
      "lat_plus_long        4.480682e-83\n",
      "const               3.382693e-305\n",
      "dtype: float64\n"
     ]
    }
   ],
   "source": [
    "# model_five\n",
    "model_five = smf.OLS(y_train, X_train[features3 + ['const']]).fit()\n",
    "print(model_five.summary())\n",
    "print(\"\\n pvalues \\n\")\n",
    "print(model_five.pvalues)"
   ]
  },
  {
   "cell_type": "code",
   "execution_count": 16,
   "metadata": {},
   "outputs": [
    {
     "name": "stdout",
     "output_type": "stream",
     "text": [
      "cofficents:  [ 5.14761424e+02  4.24414365e+03  1.09425026e+05  5.26320812e+05\n",
      " -4.00727762e+05 -2.12216563e+04  8.33084495e+02 -5.24370453e+05\n",
      "  1.25593050e+05]\n",
      "intercept:  -61298463.39175346\n",
      "RSquared(on training data) 0.6086692576682473\n"
     ]
    }
   ],
   "source": [
    "# scikit_learn\n",
    "model_five = LinearRegression()\n",
    "model_five.fit(X_train[features3], y_train)\n",
    "print(\"cofficents: \", model_five.coef_)\n",
    "print(\"intercept: \", model_five.intercept_)\n",
    "# calculate r2\n",
    "print(\"RSquared(on training data)\", model_five.score(X_train[features3],y_train))"
   ]
  },
  {
   "cell_type": "code",
   "execution_count": 17,
   "metadata": {},
   "outputs": [
    {
     "name": "stdout",
     "output_type": "stream",
     "text": [
      "944075969155936.2\n",
      "940053715228654.5\n",
      "892761889829522.1\n"
     ]
    }
   ],
   "source": [
    "# comparing the models on training data(RSS)\n",
    "rss_model_three = y_train.shape[0] * metrics.mean_squared_error(model_three.predict(X_train[features1]), y_train)\n",
    "rss_model_four = y_train.shape[0] * metrics.mean_squared_error(model_four.predict(X_train[features2]), y_train)\n",
    "rss_model_five = y_train.shape[0] * metrics.mean_squared_error(model_five.predict(X_train[features3]), y_train)\n",
    "\n",
    "print(rss_model_three)\n",
    "print(rss_model_four)\n",
    "print(rss_model_five)\n"
   ]
  },
  {
   "cell_type": "code",
   "execution_count": 18,
   "metadata": {},
   "outputs": [
    {
     "name": "stdout",
     "output_type": "stream",
     "text": [
      "0.5861763880871873\n",
      "0.5879394915900829\n",
      "0.6086692576682473\n"
     ]
    }
   ],
   "source": [
    "# comparing the models on training data(R2)\n",
    "rsquared_model_three = model_three.score(X_train[features1], y_train)\n",
    "rsquared_model_four = model_four.score(X_train[features2], y_train)\n",
    "rsquared_model_five = model_five.score(X_train[features3], y_train)\n",
    "print(rsquared_model_three)\n",
    "print(rsquared_model_four)\n",
    "print(rsquared_model_five)"
   ]
  },
  {
   "cell_type": "code",
   "execution_count": 19,
   "metadata": {},
   "outputs": [
    {
     "name": "stdout",
     "output_type": "stream",
     "text": [
      "249121687561489.2\n",
      "242840827232481.2\n",
      "225783764096783.75\n"
     ]
    }
   ],
   "source": [
    "# comparing the models on test data\n",
    "rss_model_three = y_test.shape[0] * metrics.mean_squared_error(model_three.predict(X_test[features1]), y_test)\n",
    "rss_model_four = y_test.shape[0] * metrics.mean_squared_error(model_four.predict(X_test[features2]), y_test)\n",
    "rss_model_five = y_test.shape[0] * metrics.mean_squared_error(model_five.predict(X_test[features3]), y_test)\n",
    "\n",
    "print(rss_model_three)\n",
    "print(rss_model_four)\n",
    "print(rss_model_five)"
   ]
  },
  {
   "cell_type": "code",
   "execution_count": 20,
   "metadata": {},
   "outputs": [
    {
     "name": "stdout",
     "output_type": "stream",
     "text": [
      "0.6055492151727091\n",
      "0.6154941152350784\n",
      "0.6425016873440456\n"
     ]
    }
   ],
   "source": [
    "# comparing the models on test data(R2)\n",
    "rsquared_model_three = model_three.score(X_test[features1], y_test)\n",
    "rsquared_model_four = model_four.score(X_test[features2], y_test)\n",
    "rsquared_model_five = model_five.score(X_test[features3], y_test)\n",
    "print(rsquared_model_three)\n",
    "print(rsquared_model_four)\n",
    "print(rsquared_model_five)"
   ]
  },
  {
   "cell_type": "markdown",
   "metadata": {},
   "source": [
    "#### Training Data\n",
    "\n",
    "* RSS(lowest to highest): model_five, model_four, model_three\n",
    "* R2(highest to lowest) : model_five, model_four, model_three\n",
    "\n",
    "#### Testing Data   \n",
    "\n",
    "* RSS(lowest to highest): model_five, model_four, model_three\n",
    "* R2(highest to lowest) : model_five, model_four, model_three"
   ]
  }
 ],
 "metadata": {
  "kernelspec": {
   "display_name": "Python 3",
   "language": "python",
   "name": "python3"
  },
  "language_info": {
   "codemirror_mode": {
    "name": "ipython",
    "version": 3
   },
   "file_extension": ".py",
   "mimetype": "text/x-python",
   "name": "python",
   "nbconvert_exporter": "python",
   "pygments_lexer": "ipython3",
   "version": "3.7.0"
  }
 },
 "nbformat": 4,
 "nbformat_minor": 2
}
