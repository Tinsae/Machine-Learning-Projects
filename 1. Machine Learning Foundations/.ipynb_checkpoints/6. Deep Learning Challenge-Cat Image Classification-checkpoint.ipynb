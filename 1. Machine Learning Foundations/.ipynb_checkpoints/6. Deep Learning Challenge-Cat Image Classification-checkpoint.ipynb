{
 "cells": [
  {
   "cell_type": "code",
   "execution_count": null,
   "metadata": {},
   "outputs": [],
   "source": [
    "import graphlab\n",
    "image_train = graphlab.SFrame('image_train_data/')\n",
    "image_test = graphlab.SFrame('image_test_data/')\n",
    "\n",
    "graphlab.canvas.set_target('browser')"
   ]
  },
  {
   "cell_type": "markdown",
   "metadata": {},
   "source": [
    "##### Q1 Computing summary statistics of the data:"
   ]
  },
  {
   "cell_type": "code",
   "execution_count": null,
   "metadata": {},
   "outputs": [],
   "source": [
    "popular=image_train.groupby(key_columns='label', operations={'total_count':graphlab.aggregate.COUNT('label')})\n",
    "popular.topk('total_count',k=5)\n",
    "\n",
    "#dog,cat,automobile 509\n",
    "#bird 478"
   ]
  },
  {
   "cell_type": "code",
   "execution_count": null,
   "metadata": {},
   "outputs": [],
   "source": [
    "#Using sketch summary\n",
    "popular['total_count'].sketch_summary()"
   ]
  },
  {
   "cell_type": "markdown",
   "metadata": {},
   "source": [
    "#### Q2 Creating category-specific image retrieval models"
   ]
  },
  {
   "cell_type": "markdown",
   "metadata": {},
   "source": [
    "##### Classifiying the train SFrame into four\n"
   ]
  },
  {
   "cell_type": "code",
   "execution_count": null,
   "metadata": {},
   "outputs": [],
   "source": [
    "cat=image_train[image_train['label']=='cat']\n",
    "dog=image_train[image_train['label']=='dog']\n",
    "automobile=image_train[image_train['label']=='automobile']\n",
    "bird=image_train[image_train['label']=='bird']"
   ]
  },
  {
   "cell_type": "code",
   "execution_count": null,
   "metadata": {},
   "outputs": [],
   "source": [
    "cat_model=graphlab.nearest_neighbors.create(cat,features=['deep_features'],label='id')\n",
    "dog_model=graphlab.nearest_neighbors.create(dog,features=['deep_features'],label='id')\n",
    "automobile_model=graphlab.nearest_neighbors.create(automobile,features=['deep_features'],label='id')\n",
    "bird_model=graphlab.nearest_neighbors.create(bird,features=['deep_features'],label='id')"
   ]
  },
  {
   "cell_type": "code",
   "execution_count": null,
   "metadata": {
    "collapsed": true
   },
   "outputs": [],
   "source": [
    "def get_images_from_ids(query_result):\n",
    "    return image_train.filter_by(query_result['reference_label'],'id')"
   ]
  },
  {
   "cell_type": "markdown",
   "metadata": {},
   "source": [
    "##### Showing the nearest neighbours of the first cat"
   ]
  },
  {
   "cell_type": "code",
   "execution_count": null,
   "metadata": {},
   "outputs": [],
   "source": [
    "#image_test[0:1]['image'].show()\n",
    "cat_neighbours=cat_model.query(image_test[0:1])\n",
    "get_images_from_ids(cat_neighbours)['image'].show()"
   ]
  },
  {
   "cell_type": "markdown",
   "metadata": {},
   "source": [
    "##### Now showing the nearest neighbours(similar) dogs to that same cat"
   ]
  },
  {
   "cell_type": "code",
   "execution_count": null,
   "metadata": {},
   "outputs": [],
   "source": [
    "#image_test[0:1]['image'].show()\n",
    "dog_neighbours=dog_model.query(image_test[0:1])\n",
    "get_images_from_ids(dog_neighbours)['image'].show()"
   ]
  },
  {
   "cell_type": "markdown",
   "metadata": {},
   "source": [
    "##### Q3: A simple example of nearest-neighbors classification:"
   ]
  },
  {
   "cell_type": "markdown",
   "metadata": {},
   "source": [
    "##### mean distance between five neighbours, cat_model"
   ]
  },
  {
   "cell_type": "code",
   "execution_count": null,
   "metadata": {},
   "outputs": [],
   "source": [
    "cat_neighbours['distance'].sketch_summary()\n",
    "dog_neighbours['distance'].sketch_summary()\n",
    "#cat_neighbours.groupby(key_column=)"
   ]
  },
  {
   "cell_type": "markdown",
   "metadata": {},
   "source": [
    "##### mean distance between neighbours dog_model"
   ]
  },
  {
   "cell_type": "code",
   "execution_count": null,
   "metadata": {},
   "outputs": [],
   "source": [
    "dog_neighbours['distance'].sketch_summary()"
   ]
  },
  {
   "cell_type": "markdown",
   "metadata": {},
   "source": [
    "First Model  |        Mean        | 36.1557307098  |   Yes    |\n",
    "\n",
    "Second Model |        Mean        | 37.7707113618  |   Yes    |"
   ]
  },
  {
   "cell_type": "markdown",
   "metadata": {},
   "source": [
    "##### Q4: Computing nearest neighbors accuracy using SFrame operations"
   ]
  },
  {
   "cell_type": "markdown",
   "metadata": {},
   "source": [
    "##### Splitting the test data according to label"
   ]
  },
  {
   "cell_type": "code",
   "execution_count": null,
   "metadata": {},
   "outputs": [],
   "source": [
    "image_test_cat=image_test[image_test['label']=='cat']\n",
    "image_test_dog=image_test[image_test['label']=='dog']\n",
    "image_test_automobile=image_test[image_test['label']=='automobile']\n",
    "image_test_bird=image_test[image_test['label']=='bird']"
   ]
  },
  {
   "cell_type": "markdown",
   "metadata": {},
   "source": [
    "###### Create an SFrame with the distances from ‘dog’ test examples to the respective nearest neighbors in each class in the training data"
   ]
  },
  {
   "cell_type": "code",
   "execution_count": null,
   "metadata": {},
   "outputs": [],
   "source": [
    "dog_dog=dog_model.query(image_test_dog, k=1)\n",
    "dog_cat=cat_model.query(image_test_dog, k=1) \n",
    "dog_automobile=automobile_model.query(image_test_dog, k=1) \n",
    "dog_bird=bird_model.query(image_test_dog, k=1) \n",
    "dog_dog"
   ]
  },
  {
   "cell_type": "code",
   "execution_count": null,
   "metadata": {
    "collapsed": true
   },
   "outputs": [],
   "source": [
    "dog_distances_one = graphlab.SFrame({'dog_dog': dog_dog['distance'],\n",
    "                                     'dog_cat': dog_cat['distance'],\n",
    "                                     'dog_automobile':dog_automobile['distance'],\n",
    "                                     'dog_bird':dog_bird['distance']})"
   ]
  },
  {
   "cell_type": "code",
   "execution_count": null,
   "metadata": {},
   "outputs": [],
   "source": [
    "dog_distances_one.tail()"
   ]
  },
  {
   "cell_type": "markdown",
   "metadata": {},
   "source": [
    "##### Computing the number of correct predictions using 1-nearest neighbors for the dog class"
   ]
  },
  {
   "cell_type": "code",
   "execution_count": null,
   "metadata": {},
   "outputs": [],
   "source": [
    "def is_dog_correct(row):\n",
    "    if (row['dog_dog']<row['dog_automobile']) & (row['dog_dog']<row['dog_bird']) & (row['dog_dog']<row['dog_cat']): \n",
    "        return 1 \n",
    "    else:\n",
    "        return 0"
   ]
  },
  {
   "cell_type": "code",
   "execution_count": null,
   "metadata": {},
   "outputs": [],
   "source": [
    "#dog_distances_one['status']=dog_distances_one.apply(lambda row:is_dog_correct(row)) \n",
    "dog_distances_one.apply(is_dog_correct).sum()                     "
   ]
  },
  {
   "cell_type": "code",
   "execution_count": null,
   "metadata": {},
   "outputs": [],
   "source": [
    "len(dog_distances_one)"
   ]
  },
  {
   "cell_type": "code",
   "execution_count": null,
   "metadata": {},
   "outputs": [],
   "source": [
    "(678.0/1000.0)*100"
   ]
  }
 ],
 "metadata": {
  "anaconda-cloud": {},
  "kernelspec": {
   "display_name": "Python 3",
   "language": "python",
   "name": "python3"
  },
  "language_info": {
   "codemirror_mode": {
    "name": "ipython",
    "version": 3
   },
   "file_extension": ".py",
   "mimetype": "text/x-python",
   "name": "python",
   "nbconvert_exporter": "python",
   "pygments_lexer": "ipython3",
   "version": "3.6.6"
  }
 },
 "nbformat": 4,
 "nbformat_minor": 1
}
