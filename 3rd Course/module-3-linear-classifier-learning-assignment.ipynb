{
 "cells": [
  {
   "cell_type": "markdown",
   "metadata": {
    "nbpresent": {
     "id": "5e7e3b7e-f243-4ae0-84c2-805ebc975a24"
    }
   },
   "source": [
    "# Implementing logistic regression from scratch\n",
    "\n",
    "The goal of this notebook is to implement your own logistic regression classifier. You will:\n",
    "\n",
    " * Extract features from Amazon product reviews.\n",
    " * Convert an SFrame into a NumPy array.\n",
    " * Implement the link function for logistic regression.\n",
    " * Write a function to compute the derivative of the log likelihood function with respect to a single coefficient.\n",
    " * Implement gradient ascent.\n",
    " * Given a set of coefficients, predict sentiments.\n",
    " * Compute classification accuracy for the logistic regression model.\n",
    " \n",
    "Let's get started!\n",
    "    \n",
    "## Fire up GraphLab Create\n",
    "\n",
    "Make sure you have the latest version of GraphLab Create. Upgrade by\n",
    "```\n",
    "   pip install graphlab-create --upgrade\n",
    "```\n",
    "See [this page](https://dato.com/download/) for detailed instructions on upgrading."
   ]
  },
  {
   "cell_type": "code",
   "execution_count": 1,
   "metadata": {
    "collapsed": false,
    "nbpresent": {
     "id": "102a8ec5-f068-4e59-89cf-bfdc3144fca0"
    }
   },
   "outputs": [],
   "source": [
    "import graphlab"
   ]
  },
  {
   "cell_type": "markdown",
   "metadata": {
    "nbpresent": {
     "id": "89040638-e35f-4507-8e75-40865f7f3db3"
    }
   },
   "source": [
    "## Load review dataset"
   ]
  },
  {
   "cell_type": "markdown",
   "metadata": {
    "nbpresent": {
     "id": "ed0a24d3-9c31-4971-ba0c-2a4b8f8c798b"
    }
   },
   "source": [
    "For this assignment, we will use a subset of the Amazon product review dataset. The subset was chosen to contain similar numbers of positive and negative reviews, as the original dataset consisted primarily of positive reviews."
   ]
  },
  {
   "cell_type": "code",
   "execution_count": 2,
   "metadata": {
    "collapsed": false,
    "nbpresent": {
     "id": "ec0fd031-2eed-4e09-9054-5bf345a311bc"
    },
    "scrolled": true
   },
   "outputs": [
    {
     "name": "stdout",
     "output_type": "stream",
     "text": [
      "This non-commercial license of GraphLab Create for academic use is assigned to tinsae.gizachew@astu.edu.et and will expire on July 29, 2017.\n"
     ]
    },
    {
     "name": "stderr",
     "output_type": "stream",
     "text": [
      "[INFO] graphlab.cython.cy_server: GraphLab Create v2.1 started. Logging: C:\\Users\\tii\\AppData\\Local\\Temp\\graphlab_server_1499950481.log.0\n"
     ]
    }
   ],
   "source": [
    "products = graphlab.SFrame('../../amazon_baby_subset.gl/')"
   ]
  },
  {
   "cell_type": "markdown",
   "metadata": {
    "nbpresent": {
     "id": "256b396d-17e3-4173-ba48-0eaa6d441ca3"
    }
   },
   "source": [
    "One column of this dataset is 'sentiment', corresponding to the class label with +1 indicating a review with positive sentiment and -1 indicating one with negative sentiment."
   ]
  },
  {
   "cell_type": "code",
   "execution_count": 3,
   "metadata": {
    "collapsed": false,
    "nbpresent": {
     "id": "972b38a6-d5ab-400f-911a-2021b4a788a5"
    }
   },
   "outputs": [
    {
     "data": {
      "text/plain": [
       "dtype: int\n",
       "Rows: 53072\n",
       "[1L, 1L, 1L, 1L, 1L, 1L, 1L, 1L, 1L, 1L, 1L, 1L, 1L, 1L, 1L, 1L, 1L, 1L, 1L, 1L, 1L, 1L, 1L, 1L, 1L, 1L, 1L, 1L, 1L, 1L, 1L, 1L, 1L, 1L, 1L, 1L, 1L, 1L, 1L, 1L, 1L, 1L, 1L, 1L, 1L, 1L, 1L, 1L, 1L, 1L, 1L, 1L, 1L, 1L, 1L, 1L, 1L, 1L, 1L, 1L, 1L, 1L, 1L, 1L, 1L, 1L, 1L, 1L, 1L, 1L, 1L, 1L, 1L, 1L, 1L, 1L, 1L, 1L, 1L, 1L, 1L, 1L, 1L, 1L, 1L, 1L, 1L, 1L, 1L, 1L, 1L, 1L, 1L, 1L, 1L, 1L, 1L, 1L, 1L, 1L, ... ]"
      ]
     },
     "execution_count": 3,
     "metadata": {},
     "output_type": "execute_result"
    }
   ],
   "source": [
    "products['sentiment']"
   ]
  },
  {
   "cell_type": "markdown",
   "metadata": {
    "nbpresent": {
     "id": "bd57f86c-1045-4dce-b08a-2ee5d841dd65"
    }
   },
   "source": [
    "Let us quickly explore more of this dataset.  The 'name' column indicates the name of the product.  Here we list the first 10 products in the dataset.  We then count the number of positive and negative reviews."
   ]
  },
  {
   "cell_type": "code",
   "execution_count": 4,
   "metadata": {
    "collapsed": false,
    "nbpresent": {
     "id": "2f0be668-7bb0-4a34-9c94-a00e2fd98a57"
    }
   },
   "outputs": [
    {
     "data": {
      "text/plain": [
       "dtype: str\n",
       "Rows: 10\n",
       "[\"Stop Pacifier Sucking without tears with Thumbuddy To Love's Binky Fairy Puppet and Adorable Book\", \"Nature's Lullabies Second Year Sticker Calendar\", \"Nature's Lullabies Second Year Sticker Calendar\", 'Lamaze Peekaboo, I Love You', \"SoftPlay Peek-A-Boo Where's Elmo A Children's Book\", 'Our Baby Girl Memory Book', 'Hunnt&reg; Falling Flowers and Birds Kids Nursery Home Decor Vinyl Mural Art Wall Paper Stickers', 'Blessed By Pope Benedict XVI Divine Mercy Full Color Medal', 'Cloth Diaper Pins Stainless Steel Traditional Safety Pin (Black)', 'Cloth Diaper Pins Stainless Steel Traditional Safety Pin (Black)']"
      ]
     },
     "execution_count": 4,
     "metadata": {},
     "output_type": "execute_result"
    }
   ],
   "source": [
    "products.head(10)['name']"
   ]
  },
  {
   "cell_type": "code",
   "execution_count": 5,
   "metadata": {
    "collapsed": false,
    "nbpresent": {
     "id": "04b7a506-d3fc-4f3a-87f6-cbe3abd8b618"
    }
   },
   "outputs": [
    {
     "name": "stdout",
     "output_type": "stream",
     "text": [
      "# of positive reviews = 26579\n",
      "# of negative reviews = 26493\n"
     ]
    }
   ],
   "source": [
    "print '# of positive reviews =', len(products[products['sentiment']==1])\n",
    "print '# of negative reviews =', len(products[products['sentiment']==-1])"
   ]
  },
  {
   "cell_type": "markdown",
   "metadata": {
    "nbpresent": {
     "id": "0330bbc1-e95c-4242-9b0e-f5216b3f2d85"
    }
   },
   "source": [
    "**Note:** For this assignment, we eliminated class imbalance by choosing \n",
    "a subset of the data with a similar number of positive and negative reviews. \n",
    "\n",
    "## Apply text cleaning on the review data\n",
    "\n",
    "In this section, we will perform some simple feature cleaning using **SFrames**. The last assignment used all words in building bag-of-words features, but here we limit ourselves to 193 words (for simplicity). We compiled a list of 193 most frequent words into a JSON file. \n",
    "\n",
    "Now, we will load these words from this JSON file:"
   ]
  },
  {
   "cell_type": "code",
   "execution_count": 6,
   "metadata": {
    "collapsed": false,
    "nbpresent": {
     "id": "02cdc4f8-9273-4e19-a539-b38c14f7b575"
    }
   },
   "outputs": [],
   "source": [
    "import json\n",
    "with open('../../important_words.json', 'r') as f: # Reads the list of most frequent words\n",
    "    important_words = json.load(f)\n",
    "important_words = [str(s) for s in important_words]\n",
    "#print type(important_words)"
   ]
  },
  {
   "cell_type": "code",
   "execution_count": 7,
   "metadata": {
    "collapsed": false,
    "nbpresent": {
     "id": "ff83530a-6244-4b79-a64d-cfe736efec3b"
    }
   },
   "outputs": [
    {
     "name": "stdout",
     "output_type": "stream",
     "text": [
      "['baby', 'one', 'great', 'love', 'use', 'would', 'like', 'easy', 'little', 'seat', 'old', 'well', 'get', 'also', 'really', 'son', 'time', 'bought', 'product', 'good', 'daughter', 'much', 'loves', 'stroller', 'put', 'months', 'car', 'still', 'back', 'used', 'recommend', 'first', 'even', 'perfect', 'nice', 'bag', 'two', 'using', 'got', 'fit', 'around', 'diaper', 'enough', 'month', 'price', 'go', 'could', 'soft', 'since', 'buy', 'room', 'works', 'made', 'child', 'keep', 'size', 'small', 'need', 'year', 'big', 'make', 'take', 'easily', 'think', 'crib', 'clean', 'way', 'quality', 'thing', 'better', 'without', 'set', 'new', 'every', 'cute', 'best', 'bottles', 'work', 'purchased', 'right', 'lot', 'side', 'happy', 'comfortable', 'toy', 'able', 'kids', 'bit', 'night', 'long', 'fits', 'see', 'us', 'another', 'play', 'day', 'money', 'monitor', 'tried', 'thought', 'never', 'item', 'hard', 'plastic', 'however', 'disappointed', 'reviews', 'something', 'going', 'pump', 'bottle', 'cup', 'waste', 'return', 'amazon', 'different', 'top', 'want', 'problem', 'know', 'water', 'try', 'received', 'sure', 'times', 'chair', 'find', 'hold', 'gate', 'open', 'bottom', 'away', 'actually', 'cheap', 'worked', 'getting', 'ordered', 'came', 'milk', 'bad', 'part', 'worth', 'found', 'cover', 'many', 'design', 'looking', 'weeks', 'say', 'wanted', 'look', 'place', 'purchase', 'looks', 'second', 'piece', 'box', 'pretty', 'trying', 'difficult', 'together', 'though', 'give', 'started', 'anything', 'last', 'company', 'come', 'returned', 'maybe', 'took', 'broke', 'makes', 'stay', 'instead', 'idea', 'head', 'said', 'less', 'went', 'working', 'high', 'unit', 'seems', 'picture', 'completely', 'wish', 'buying', 'babies', 'won', 'tub', 'almost', 'either']\n"
     ]
    }
   ],
   "source": [
    "print important_words"
   ]
  },
  {
   "cell_type": "markdown",
   "metadata": {
    "nbpresent": {
     "id": "47a1d3f2-002e-4c06-a329-f5d80db80169"
    }
   },
   "source": [
    "Now, we will perform 2 simple data transformations:\n",
    "\n",
    "1. Remove punctuation using [Python's built-in](https://docs.python.org/2/library/string.html) string functionality.\n",
    "2. Compute word counts (only for **important_words**)\n",
    "\n",
    "We start with *Step 1* which can be done as follows:"
   ]
  },
  {
   "cell_type": "code",
   "execution_count": 8,
   "metadata": {
    "collapsed": false,
    "nbpresent": {
     "id": "24cb64ac-6ff8-4ed2-a5f2-84b5384ff27b"
    }
   },
   "outputs": [],
   "source": [
    "def remove_punctuation(text):\n",
    "    import string\n",
    "    return text.translate(None, string.punctuation) \n",
    "\n",
    "products['review_clean'] = products['review'].apply(remove_punctuation)"
   ]
  },
  {
   "cell_type": "markdown",
   "metadata": {
    "nbpresent": {
     "id": "84a94109-3e29-477e-b1a8-076b54c43cff"
    }
   },
   "source": [
    "Now we proceed with *Step 2*. For each word in **important_words**, we compute a count for the number of times the word occurs in the review. We will store this count in a separate column (one for each word). The result of this feature processing is a single column for each word in **important_words** which keeps a count of the number of times the respective word occurs in the review text.\n",
    "\n",
    "\n",
    "**Note:** There are several ways of doing this. In this assignment, we use the built-in *count* function for Python lists. Each review string is first split into individual words and the number of occurances of a given word is counted."
   ]
  },
  {
   "cell_type": "code",
   "execution_count": 9,
   "metadata": {
    "collapsed": false,
    "nbpresent": {
     "id": "7339f8a0-f094-4990-9b3a-de560a300f3b"
    }
   },
   "outputs": [
    {
     "name": "stdout",
     "output_type": "stream",
     "text": [
      "[\"Mr. Cantie can't tie his tie. Why can't I tie my tie, if Mr. Cantie can't his tie\"]\n",
      "['Mr Cantie cant tie his tie Why cant I tie my tie if Mr Cantie cant his tie']\n",
      "[5L]\n"
     ]
    }
   ],
   "source": [
    "###TGA Check\n",
    "\n",
    "##Does split and count functions work?\n",
    "\n",
    "text1=\"Mr. Cantie can't tie his tie. Why can't I tie my tie, if Mr. Cantie can't his tie\"\n",
    "\n",
    "###New TGA Addition on Mar 13, 2017\n",
    "\n",
    "##Convert to list first then convert to SArray\n",
    "sample_text=graphlab.SArray([text1])\n",
    "\n",
    "print sample_text\n",
    "\n",
    "##Remove punctuation\n",
    "sample_text=sample_text.apply(remove_punctuation)\n",
    "\n",
    "print sample_text\n",
    "\n",
    "##Then do the usual split and count\n",
    "print sample_text.apply(lambda s:s.split().count(\"tie\"))"
   ]
  },
  {
   "cell_type": "code",
   "execution_count": 10,
   "metadata": {
    "collapsed": false,
    "nbpresent": {
     "id": "9ea2def4-8f10-45f8-9221-f9efc1d39cbe"
    }
   },
   "outputs": [],
   "source": [
    "for word in important_words:\n",
    "    products[word] = products['review_clean'].apply(lambda s : s.split().count(word))"
   ]
  },
  {
   "cell_type": "markdown",
   "metadata": {
    "nbpresent": {
     "id": "c71e381a-7152-4c1a-a5c7-df90bd76b29f"
    }
   },
   "source": [
    "The SFrame **products** now contains one column for each of the 193 **important_words**. As an example, the column **perfect** contains a count of the number of times the word **perfect** occurs in each of the reviews."
   ]
  },
  {
   "cell_type": "code",
   "execution_count": 11,
   "metadata": {
    "collapsed": false,
    "nbpresent": {
     "id": "e426939b-f0ee-4f77-ae8d-48e8e84ab168"
    }
   },
   "outputs": [
    {
     "data": {
      "text/plain": [
       "dtype: int\n",
       "Rows: 53072\n",
       "[0L, 0L, 0L, 1L, 0L, 0L, 0L, 0L, 0L, 0L, 0L, 1L, 0L, 0L, 0L, 0L, 0L, 0L, 0L, 0L, 0L, 0L, 1L, 0L, 1L, 0L, 0L, 1L, 0L, 0L, 0L, 0L, 0L, 0L, 0L, 0L, 0L, 0L, 0L, 0L, 0L, 0L, 0L, 0L, 0L, 0L, 0L, 0L, 0L, 0L, 0L, 0L, 0L, 0L, 0L, 0L, 0L, 0L, 0L, 0L, 0L, 0L, 0L, 0L, 0L, 0L, 0L, 0L, 0L, 0L, 0L, 0L, 0L, 0L, 0L, 0L, 0L, 0L, 0L, 0L, 0L, 0L, 0L, 0L, 0L, 0L, 0L, 0L, 0L, 0L, 0L, 0L, 0L, 0L, 0L, 0L, 0L, 0L, 0L, 0L, ... ]"
      ]
     },
     "execution_count": 11,
     "metadata": {},
     "output_type": "execute_result"
    }
   ],
   "source": [
    "products['perfect']"
   ]
  },
  {
   "cell_type": "markdown",
   "metadata": {
    "nbpresent": {
     "id": "aca87b78-e740-45f3-bbb4-2d213bf30c14"
    }
   },
   "source": [
    "Now, write some code to compute the number of product reviews that contain the word **perfect**.\n",
    "\n",
    "**Hint**: \n",
    "* First create a column called `contains_perfect` which is set to 1 if the count of the word **perfect** (stored in column **perfect**) is >= 1.\n",
    "* Sum the number of 1s in the column `contains_perfect`."
   ]
  },
  {
   "cell_type": "code",
   "execution_count": 12,
   "metadata": {
    "collapsed": false,
    "nbpresent": {
     "id": "5b740c04-1b03-4ea3-8c47-20c5b596a951"
    }
   },
   "outputs": [
    {
     "name": "stdout",
     "output_type": "stream",
     "text": [
      "2955\n"
     ]
    }
   ],
   "source": [
    "#method 1 TGA\n",
    "\n",
    "#def counter(value):\n",
    "    #if value>=1:\n",
    "        #return 1\n",
    "    #else:\n",
    "        #return 0\n",
    "\n",
    "#products['contains_perfect']=products['perfect'].apply(counter)\n",
    "#print sum(products['contains_perfect'])\n",
    "\n",
    "##method 2 TGA\n",
    "print len(products[products['perfect']>=1])\n",
    "\n",
    "#method 3 Github\n"
   ]
  },
  {
   "cell_type": "markdown",
   "metadata": {
    "nbpresent": {
     "id": "70533e61-62b4-4f76-9f84-f416531f864d"
    }
   },
   "source": [
    "**Quiz Question**. How many reviews contain the word **perfect**?"
   ]
  },
  {
   "cell_type": "code",
   "execution_count": 13,
   "metadata": {
    "collapsed": true,
    "nbpresent": {
     "id": "55e4cf5f-26af-4d64-95d2-2dc24f837dce"
    }
   },
   "outputs": [],
   "source": [
    "#2995"
   ]
  },
  {
   "cell_type": "markdown",
   "metadata": {
    "nbpresent": {
     "id": "41e16fc0-849e-4bb3-958b-e3f78062e892"
    }
   },
   "source": [
    "## Convert SFrame to NumPy array\n",
    "\n",
    "As you have seen previously, NumPy is a powerful library for doing matrix manipulation. Let us convert our data to matrices and then implement our algorithms with matrices.\n",
    "\n",
    "First, make sure you can perform the following import."
   ]
  },
  {
   "cell_type": "code",
   "execution_count": 14,
   "metadata": {
    "collapsed": true,
    "nbpresent": {
     "id": "f7110913-deb3-4a18-a052-87959ad91fe9"
    }
   },
   "outputs": [],
   "source": [
    "import numpy as np"
   ]
  },
  {
   "cell_type": "markdown",
   "metadata": {
    "nbpresent": {
     "id": "6d208b15-7fc2-483c-b90b-b03518e294da"
    }
   },
   "source": [
    "We now provide you with a function that extracts columns from an SFrame and converts them into a NumPy array. Two arrays are returned: one representing features and another representing class labels. Note that the feature matrix includes an additional column 'intercept' to take account of the intercept term."
   ]
  },
  {
   "cell_type": "code",
   "execution_count": 15,
   "metadata": {
    "collapsed": true,
    "nbpresent": {
     "id": "2127856e-6912-46fa-aead-1dff80f2cb72"
    }
   },
   "outputs": [],
   "source": [
    "##################    H                \n",
    "def get_numpy_data(data_sframe, features, label):\n",
    "    \n",
    "    ### TGA Note: Remeber that the Intercept is not part of data_sframe\n",
    "    \n",
    "    data_sframe['intercept'] = 1   ###all ~50000 rows are 1\n",
    "    \n",
    "    features = ['intercept'] + features\n",
    "    \n",
    "    features_sframe = data_sframe[features]\n",
    "    feature_matrix = features_sframe.to_numpy()\n",
    "    \n",
    "    label_sarray = data_sframe[label]\n",
    "    label_array = label_sarray.to_numpy()\n",
    "    \n",
    "    return(feature_matrix, label_array)"
   ]
  },
  {
   "cell_type": "markdown",
   "metadata": {
    "nbpresent": {
     "id": "97dba8f0-9cd9-461a-ad67-390d44243214"
    }
   },
   "source": [
    "Let us convert the data into NumPy arrays."
   ]
  },
  {
   "cell_type": "code",
   "execution_count": 16,
   "metadata": {
    "collapsed": false,
    "nbpresent": {
     "id": "64ff396a-9aff-4d2f-924e-a9db3335f6e3"
    }
   },
   "outputs": [],
   "source": [
    "# Warning: This may take a few minutes...\n",
    "\n",
    "###TGA Notice\n",
    "\n",
    "## The function below takes products SFrame as its first argument\n",
    "## One might ask, why we have separate parameter(3rd) for sentiment\n",
    "## because the label(or sentiment) is already in the SFrame\n",
    "## the answer would be: the second and third arguments are just \n",
    "## passed to show which parts of the sframe are the features\n",
    "## and which part is the class label respectively.\n",
    "\n",
    "feature_matrix, sentiment = get_numpy_data(products, important_words, 'sentiment') "
   ]
  },
  {
   "cell_type": "markdown",
   "metadata": {
    "nbpresent": {
     "id": "f1b2c899-480f-4c57-ac75-4ba7b73b77c9"
    }
   },
   "source": [
    "**Are you running this notebook on an Amazon EC2 t2.micro instance?** (If you are using your own machine, please skip this section)\n",
    "\n",
    "It has been reported that t2.micro instances do not provide sufficient power to complete the conversion in acceptable amount of time. For interest of time, please refrain from running `get_numpy_data` function. Instead, download the [binary file](https://s3.amazonaws.com/static.dato.com/files/coursera/course-3/numpy-arrays/module-3-assignment-numpy-arrays.npz) containing the four NumPy arrays you'll need for the assignment. To load the arrays, run the following commands:\n",
    "```\n",
    "arrays = np.load('module-3-assignment-numpy-arrays.npz')\n",
    "feature_matrix, sentiment = arrays['feature_matrix'], arrays['sentiment']\n",
    "```"
   ]
  },
  {
   "cell_type": "code",
   "execution_count": 17,
   "metadata": {
    "collapsed": false,
    "nbpresent": {
     "id": "15859565-8e1c-4580-82cf-11dab5665389"
    }
   },
   "outputs": [
    {
     "data": {
      "text/plain": [
       "(53072L, 194L)"
      ]
     },
     "execution_count": 17,
     "metadata": {},
     "output_type": "execute_result"
    }
   ],
   "source": [
    "feature_matrix.shape"
   ]
  },
  {
   "cell_type": "markdown",
   "metadata": {
    "nbpresent": {
     "id": "423eb929-65a2-4070-8823-46a7f1770a90"
    }
   },
   "source": [
    "** Quiz Question:** How many features are there in the **feature_matrix**?\n",
    "\n",
    "** Quiz Question:** Assuming that the intercept is present, how does the number of features in **feature_matrix** relate to the number of features in the logistic regression model?"
   ]
  },
  {
   "cell_type": "code",
   "execution_count": 18,
   "metadata": {
    "collapsed": true,
    "nbpresent": {
     "id": "44f841c0-a418-4e30-9b76-feec462424ce"
    }
   },
   "outputs": [],
   "source": [
    "### 194\n",
    "### 121712"
   ]
  },
  {
   "cell_type": "markdown",
   "metadata": {
    "nbpresent": {
     "id": "213d9750-e367-480d-b2d1-af8176e5cc78"
    }
   },
   "source": [
    "Now, let us see what the **sentiment** column looks like:"
   ]
  },
  {
   "cell_type": "code",
   "execution_count": 19,
   "metadata": {
    "collapsed": false,
    "nbpresent": {
     "id": "1005a531-8658-4f7a-8e6c-eb0c68dec0cf"
    }
   },
   "outputs": [
    {
     "data": {
      "text/plain": [
       "array([ 1,  1,  1, ..., -1, -1, -1], dtype=int64)"
      ]
     },
     "execution_count": 19,
     "metadata": {},
     "output_type": "execute_result"
    }
   ],
   "source": [
    "sentiment"
   ]
  },
  {
   "cell_type": "markdown",
   "metadata": {
    "nbpresent": {
     "id": "28545974-4073-4283-8696-ada9f39c12ce"
    }
   },
   "source": [
    "## Estimating conditional probability with link function"
   ]
  },
  {
   "cell_type": "markdown",
   "metadata": {
    "nbpresent": {
     "id": "f19a07cf-95e9-4676-bb35-7b45d9811e40"
    }
   },
   "source": [
    "Recall from lecture that the link function is given by:\n",
    "$$\n",
    "P(y_i = +1 | \\mathbf{x}_i,\\mathbf{w}) = \\frac{1}{1 + \\exp(-\\mathbf{w}^T h(\\mathbf{x}_i))},\n",
    "$$\n",
    "\n",
    "where the feature vector $h(\\mathbf{x}_i)$ represents the word counts of **important_words** in the review  $\\mathbf{x}_i$. Complete the following function that implements the link function:"
   ]
  },
  {
   "cell_type": "code",
   "execution_count": 20,
   "metadata": {
    "collapsed": false,
    "nbpresent": {
     "id": "0cfb37a7-f794-48a2-873e-610d3e667210"
    }
   },
   "outputs": [],
   "source": [
    "'''\n",
    "produces probablistic estimate for P(y_i = +1 | x_i, w).\n",
    "estimate ranges between 0 and 1.\n",
    "'''\n",
    "def predict_probability(feature_matrix, coefficients):\n",
    "    # Take dot product of feature_matrix and coefficients  \n",
    "    # YOUR CODE HERE\n",
    "    scores=np.dot(feature_matrix, coefficients)\n",
    "    # Compute P(y_i = +1 | x_i, w) using the link function\n",
    "    predictions = 1./(1+np.exp(-scores))\n",
    "    # return predictions\n",
    "    return predictions"
   ]
  },
  {
   "cell_type": "markdown",
   "metadata": {
    "nbpresent": {
     "id": "2efba1a6-27ba-4067-8726-8a85e6f58454"
    }
   },
   "source": [
    "**Aside**. How the link function works with matrix algebra\n",
    "\n",
    "Since the word counts are stored as columns in **feature_matrix**, each $i$-th row of the matrix corresponds to the feature vector $h(\\mathbf{x}_i)$:\n",
    "$$\n",
    "[\\text{feature_matrix}] =\n",
    "\\left[\n",
    "\\begin{array}{c}\n",
    "h(\\mathbf{x}_1)^T \\\\\n",
    "h(\\mathbf{x}_2)^T \\\\\n",
    "\\vdots \\\\\n",
    "h(\\mathbf{x}_N)^T\n",
    "\\end{array}\n",
    "\\right] =\n",
    "\\left[\n",
    "\\begin{array}{cccc}\n",
    "h_0(\\mathbf{x}_1) & h_1(\\mathbf{x}_1) & \\cdots & h_D(\\mathbf{x}_1) \\\\\n",
    "h_0(\\mathbf{x}_2) & h_1(\\mathbf{x}_2) & \\cdots & h_D(\\mathbf{x}_2) \\\\\n",
    "\\vdots & \\vdots & \\ddots & \\vdots \\\\\n",
    "h_0(\\mathbf{x}_N) & h_1(\\mathbf{x}_N) & \\cdots & h_D(\\mathbf{x}_N)\n",
    "\\end{array}\n",
    "\\right]\n",
    "$$\n",
    "\n",
    "By the rules of matrix multiplication, the score vector containing elements $\\mathbf{w}^T h(\\mathbf{x}_i)$ is obtained by multiplying **feature_matrix** and the coefficient vector $\\mathbf{w}$.\n",
    "$$\n",
    "[\\text{score}] =\n",
    "[\\text{feature_matrix}]\\mathbf{w} =\n",
    "\\left[\n",
    "\\begin{array}{c}\n",
    "h(\\mathbf{x}_1)^T \\\\\n",
    "h(\\mathbf{x}_2)^T \\\\\n",
    "\\vdots \\\\\n",
    "h(\\mathbf{x}_N)^T\n",
    "\\end{array}\n",
    "\\right]\n",
    "\\mathbf{w}\n",
    "= \\left[\n",
    "\\begin{array}{c}\n",
    "h(\\mathbf{x}_1)^T\\mathbf{w} \\\\\n",
    "h(\\mathbf{x}_2)^T\\mathbf{w} \\\\\n",
    "\\vdots \\\\\n",
    "h(\\mathbf{x}_N)^T\\mathbf{w}\n",
    "\\end{array}\n",
    "\\right]\n",
    "= \\left[\n",
    "\\begin{array}{c}\n",
    "\\mathbf{w}^T h(\\mathbf{x}_1) \\\\\n",
    "\\mathbf{w}^T h(\\mathbf{x}_2) \\\\\n",
    "\\vdots \\\\\n",
    "\\mathbf{w}^T h(\\mathbf{x}_N)\n",
    "\\end{array}\n",
    "\\right]\n",
    "$$"
   ]
  },
  {
   "cell_type": "markdown",
   "metadata": {
    "nbpresent": {
     "id": "df8dea54-8866-4238-951d-2d14c80ff76f"
    }
   },
   "source": [
    "**Checkpoint**\n",
    "\n",
    "Just to make sure you are on the right track, we have provided a few examples. If your `predict_probability` function is implemented correctly, then the outputs will match:"
   ]
  },
  {
   "cell_type": "code",
   "execution_count": 21,
   "metadata": {
    "collapsed": false,
    "nbpresent": {
     "id": "a6e015e4-76dd-45b2-ace6-c6a98bcdace8"
    }
   },
   "outputs": [
    {
     "name": "stdout",
     "output_type": "stream",
     "text": [
      "The following outputs must match \n",
      "------------------------------------------------\n",
      "correct_predictions           = [ 0.98201379  0.26894142]\n",
      "output of predict_probability = [ 0.98201379  0.26894142]\n"
     ]
    }
   ],
   "source": [
    "import numpy as np\n",
    "dummy_feature_matrix = np.array([[1.,2.,3.], [1.,-1.,-1]])\n",
    "dummy_coefficients = np.array([1., 3., -1.])\n",
    "\n",
    "correct_scores      = np.array( [ 1.*1. + 2.*3. + 3.*(-1.),          1.*1. + (-1.)*3. + (-1.)*(-1.) ] )\n",
    "correct_predictions = np.array( [ 1./(1+np.exp(-correct_scores[0])), 1./(1+np.exp(-correct_scores[1])) ] )\n",
    "\n",
    "print 'The following outputs must match '\n",
    "print '------------------------------------------------'\n",
    "print 'correct_predictions           =', correct_predictions\n",
    "print 'output of predict_probability =', predict_probability(dummy_feature_matrix, dummy_coefficients)"
   ]
  },
  {
   "cell_type": "markdown",
   "metadata": {
    "nbpresent": {
     "id": "d4477b3a-d14f-4763-a36b-b560602f670a"
    }
   },
   "source": [
    "## Compute derivative of log likelihood with respect to a single coefficient\n",
    "\n",
    "Recall from lecture:\n",
    "$$\n",
    "\\frac{\\partial\\ell}{\\partial w_j} = \\sum_{i=1}^N h_j(\\mathbf{x}_i)\\left(\\mathbf{1}[y_i = +1] - P(y_i = +1 | \\mathbf{x}_i, \\mathbf{w})\\right)\n",
    "$$\n",
    "\n",
    "We will now write a function that computes the derivative of log likelihood with respect to a single coefficient $w_j$. The function accepts two arguments:\n",
    "* `errors` vector containing $\\mathbf{1}[y_i = +1] - P(y_i = +1 | \\mathbf{x}_i, \\mathbf{w})$ for all $i$.\n",
    "* `feature` vector containing $h_j(\\mathbf{x}_i)$  for all $i$. \n",
    "\n",
    "Complete the following code block:"
   ]
  },
  {
   "cell_type": "code",
   "execution_count": 22,
   "metadata": {
    "collapsed": true,
    "nbpresent": {
     "id": "d313c5c2-4fd5-4d7e-b6cb-a96b52c5b92a"
    }
   },
   "outputs": [],
   "source": [
    "def feature_derivative(errors, feature):     \n",
    "    # Compute the dot product of errors and feature\n",
    "    derivative = np.dot(errors,feature)\n",
    "    # Return the derivative\n",
    "    return derivative"
   ]
  },
  {
   "cell_type": "markdown",
   "metadata": {
    "nbpresent": {
     "id": "be88d922-6fb2-4031-a700-07bb86998c2d"
    }
   },
   "source": [
    "In the main lecture, our focus was on the likelihood.  In the advanced optional video, however, we introduced a transformation of this likelihood---called the log likelihood---that simplifies the derivation of the gradient and is more numerically stable.  Due to its numerical stability, we will use the log likelihood instead of the likelihood to assess the algorithm.\n",
    "\n",
    "The log likelihood is computed using the following formula (see the advanced optional video if you are curious about the derivation of this equation):\n",
    "\n",
    "$$\\ell\\ell(\\mathbf{w}) = \\sum_{i=1}^N \\Big( (\\mathbf{1}[y_i = +1] - 1)\\mathbf{w}^T h(\\mathbf{x}_i) - \\ln\\left(1 + \\exp(-\\mathbf{w}^T h(\\mathbf{x}_i))\\right) \\Big) $$\n",
    "\n",
    "We provide a function to compute the log likelihood for the entire dataset. "
   ]
  },
  {
   "cell_type": "code",
   "execution_count": 23,
   "metadata": {
    "collapsed": false,
    "nbpresent": {
     "id": "1aedafd5-0c41-47c9-a11e-487322edcd1e"
    }
   },
   "outputs": [],
   "source": [
    "def compute_log_likelihood(feature_matrix, sentiment, coefficients):\n",
    "    indicator = (sentiment==+1)\n",
    "    scores = np.dot(feature_matrix, coefficients)\n",
    "    logexp = np.log(1. + np.exp(-scores))\n",
    "    \n",
    "    ##TGA Note: I didn't understand the following 2 lines\n",
    "    # Simple check to prevent overflow\n",
    "    mask = np.isinf(logexp)\n",
    "    logexp[mask] = -scores[mask]\n",
    "    \n",
    "    \n",
    "    \n",
    "    lp = np.sum((indicator-1)*scores - logexp)\n",
    "    return lp"
   ]
  },
  {
   "cell_type": "markdown",
   "metadata": {
    "nbpresent": {
     "id": "3cd9f1b0-49a4-4f75-9179-014f8c66537c"
    }
   },
   "source": [
    "**Checkpoint**\n",
    "\n",
    "Just to make sure we are on the same page, run the following code block and check that the outputs match."
   ]
  },
  {
   "cell_type": "code",
   "execution_count": 24,
   "metadata": {
    "collapsed": false,
    "nbpresent": {
     "id": "a80e9fba-c976-4b87-82dd-587ff1f1766b"
    }
   },
   "outputs": [
    {
     "name": "stdout",
     "output_type": "stream",
     "text": [
      "The following outputs must match \n",
      "------------------------------------------------\n",
      "correct_log_likelihood           = -5.33141161544\n",
      "output of compute_log_likelihood = -5.33141161544\n"
     ]
    }
   ],
   "source": [
    "dummy_feature_matrix = np.array([[1.,2.,3.], [1.,-1.,-1]])\n",
    "dummy_coefficients = np.array([1., 3., -1.])\n",
    "dummy_sentiment = np.array([-1, 1])\n",
    "\n",
    "correct_indicators  = np.array( [ -1==+1,  1==+1 ] )\n",
    "correct_scores      = np.array( [ 1.*1. + 2.*3. + 3.*(-1.),1.*1. + (-1.)*3. + (-1.)*(-1.) ] )\n",
    "correct_first_term  = np.array( [ (correct_indicators[0]-1)*correct_scores[0],  (correct_indicators[1]-1)*correct_scores[1] ] )\n",
    "correct_second_term = np.array( [ np.log(1. + np.exp(-correct_scores[0])),  np.log(1. + np.exp(-correct_scores[1])) ] )\n",
    "\n",
    "correct_ll          =      sum( [ correct_first_term[0]-correct_second_term[0], correct_first_term[1]-correct_second_term[1] ] ) \n",
    "\n",
    "print 'The following outputs must match '\n",
    "print '------------------------------------------------'\n",
    "print 'correct_log_likelihood           =', correct_ll\n",
    "print 'output of compute_log_likelihood =', compute_log_likelihood(dummy_feature_matrix, dummy_sentiment, dummy_coefficients)"
   ]
  },
  {
   "cell_type": "markdown",
   "metadata": {
    "nbpresent": {
     "id": "5cf2af25-38f5-4c46-a156-59df2d1c2943"
    }
   },
   "source": [
    "## Taking gradient steps"
   ]
  },
  {
   "cell_type": "markdown",
   "metadata": {
    "nbpresent": {
     "id": "f8755a07-63c2-4a88-b3b4-f3a602992922"
    }
   },
   "source": [
    "Now we are ready to implement our own logistic regression. All we have to do is to write a gradient ascent function that takes gradient steps towards the optimum. \n",
    "\n",
    "Complete the following function to solve the logistic regression model using gradient ascent:"
   ]
  },
  {
   "cell_type": "code",
   "execution_count": 25,
   "metadata": {
    "collapsed": false,
    "nbpresent": {
     "id": "2f7bc33e-4afa-467b-9ff0-fc6ad7adfda5"
    }
   },
   "outputs": [],
   "source": [
    "from math import sqrt\n",
    "\n",
    "def logistic_regression(feature_matrix, sentiment, initial_coefficients, step_size, max_iter):\n",
    "    coefficients = np.array(initial_coefficients) # make sure it's a numpy array\n",
    "    for itr in xrange(max_iter):\n",
    "\n",
    "        # Predict P(y_i = +1|x_i,w) using your predict_probability() function\n",
    "        # YOUR CODE HERE\n",
    "        predictions = predict_probability(feature_matrix, coefficients) \n",
    "        #(TGA Note):the above function is enough, don't worry about P(y=-1/x) because if you look the feature by feature \n",
    "        #update it is always p(y=+1/x), what changes is the \"indicator\"\n",
    "        \n",
    "        # Compute indicator value for (y_i = +1)\n",
    "        indicator = (sentiment==+1)\n",
    "        \n",
    "        # Compute the errors as indicator - predictions\n",
    "        errors = indicator - predictions\n",
    "        #print \"Length is here\", len(coefficients)\n",
    "        for j in xrange(len(coefficients)): # loop over each coefficient\n",
    "            # Recall that feature_matrix[:,j] is the feature column associated with coefficients[j].\n",
    "            #TGA Note:May 6,2017 I think this is called selecting, in python.\n",
    "            # Compute the derivative for coefficients[j]. Save it in a variable called derivative\n",
    "           \n",
    "            ###TGA Note\n",
    "            ## In the fucntion call below notice that the errors array will never change until the end\n",
    "            ## through out the function, but only the feature under consideration changes as j increases\n",
    "            \n",
    "            derivative = feature_derivative(errors,feature_matrix[:,j])\n",
    "            # add the step size times the derivative to the current coefficient\n",
    "            coefficients[j]+=step_size*derivative\n",
    "        # Checking whether log likelihood is increasing\n",
    "        #TGA Note:May 6, 2017 the code below is used for selective display.\n",
    "        if itr <= 15 or (itr <= 100 and itr % 10 == 0) or (itr <= 1000 and itr % 100 == 0) \\\n",
    "        or (itr <= 10000 and itr % 1000 == 0) or itr % 10000 == 0:\n",
    "            lp = compute_log_likelihood(feature_matrix, sentiment, coefficients)\n",
    "            print 'iteration %*d: log likelihood of observed labels = %.8f' % \\\n",
    "                (int(np.ceil(np.log10(max_iter))), itr, lp)\n",
    "    return coefficients"
   ]
  },
  {
   "cell_type": "markdown",
   "metadata": {
    "nbpresent": {
     "id": "ce641539-92ec-40c3-b8ac-f06e68650a18"
    }
   },
   "source": [
    "Now, let us run the logistic regression solver."
   ]
  },
  {
   "cell_type": "code",
   "execution_count": 26,
   "metadata": {
    "collapsed": false,
    "nbpresent": {
     "id": "61b47686-4118-49c7-bd80-cca9fec9abc8"
    }
   },
   "outputs": [
    {
     "name": "stdout",
     "output_type": "stream",
     "text": [
      "iteration   0: log likelihood of observed labels = -36780.91768478\n",
      "iteration   1: log likelihood of observed labels = -36775.13434712\n",
      "iteration   2: log likelihood of observed labels = -36769.35713564\n",
      "iteration   3: log likelihood of observed labels = -36763.58603240\n",
      "iteration   4: log likelihood of observed labels = -36757.82101962\n",
      "iteration   5: log likelihood of observed labels = -36752.06207964\n",
      "iteration   6: log likelihood of observed labels = -36746.30919497\n",
      "iteration   7: log likelihood of observed labels = -36740.56234821\n",
      "iteration   8: log likelihood of observed labels = -36734.82152213\n",
      "iteration   9: log likelihood of observed labels = -36729.08669961\n",
      "iteration  10: log likelihood of observed labels = -36723.35786366\n",
      "iteration  11: log likelihood of observed labels = -36717.63499744\n",
      "iteration  12: log likelihood of observed labels = -36711.91808422\n",
      "iteration  13: log likelihood of observed labels = -36706.20710739\n",
      "iteration  14: log likelihood of observed labels = -36700.50205049\n",
      "iteration  15: log likelihood of observed labels = -36694.80289716\n",
      "iteration  20: log likelihood of observed labels = -36666.39512033\n",
      "iteration  30: log likelihood of observed labels = -36610.01327118\n",
      "iteration  40: log likelihood of observed labels = -36554.19728365\n",
      "iteration  50: log likelihood of observed labels = -36498.93316099\n",
      "iteration  60: log likelihood of observed labels = -36444.20783914\n",
      "iteration  70: log likelihood of observed labels = -36390.00909449\n",
      "iteration  80: log likelihood of observed labels = -36336.32546144\n",
      "iteration  90: log likelihood of observed labels = -36283.14615871\n",
      "iteration 100: log likelihood of observed labels = -36230.46102347\n",
      "iteration 200: log likelihood of observed labels = -35728.89418769\n",
      "iteration 300: log likelihood of observed labels = -35268.51212683\n"
     ]
    }
   ],
   "source": [
    "coefficients = logistic_regression(feature_matrix, sentiment, initial_coefficients=np.zeros(194),\n",
    "                                   step_size=1e-7, max_iter=301)"
   ]
  },
  {
   "cell_type": "markdown",
   "metadata": {
    "nbpresent": {
     "id": "398900b3-f5bd-4399-9319-6e5291288263"
    }
   },
   "source": [
    "**Quiz Question:** As each iteration of gradient ascent passes, does the log likelihood increase or decrease?"
   ]
  },
  {
   "cell_type": "code",
   "execution_count": 27,
   "metadata": {
    "collapsed": true,
    "nbpresent": {
     "id": "e22bb237-12ab-4b86-acbb-ad670dbd9e0c"
    }
   },
   "outputs": [],
   "source": [
    "### Increases"
   ]
  },
  {
   "cell_type": "markdown",
   "metadata": {
    "nbpresent": {
     "id": "215abdf5-24a0-4321-be3f-66808b590715"
    }
   },
   "source": [
    "## Predicting sentiments"
   ]
  },
  {
   "cell_type": "markdown",
   "metadata": {
    "nbpresent": {
     "id": "7867e673-d484-430d-90da-d9319ddd7d46"
    }
   },
   "source": [
    "Recall from lecture that class predictions for a data point $\\mathbf{x}$ can be computed from the coefficients $\\mathbf{w}$ using the following formula:\n",
    "$$\n",
    "\\hat{y}_i = \n",
    "\\left\\{\n",
    "\\begin{array}{ll}\n",
    "      +1 & \\mathbf{x}_i^T\\mathbf{w} > 0 \\\\\n",
    "      -1 & \\mathbf{x}_i^T\\mathbf{w} \\leq 0 \\\\\n",
    "\\end{array} \n",
    "\\right.\n",
    "$$\n",
    "\n",
    "Now, we will write some code to compute class predictions. We will do this in two steps:\n",
    "* **Step 1**: First compute the **scores** using **feature_matrix** and **coefficients** using a dot product.\n",
    "* **Step 2**: Using the formula above, compute the class predictions from the scores.\n",
    "\n",
    "Step 1 can be implemented as follows:"
   ]
  },
  {
   "cell_type": "code",
   "execution_count": 28,
   "metadata": {
    "collapsed": false,
    "nbpresent": {
     "id": "a2eaf9e0-8093-401a-99be-d6f43e9480fc"
    }
   },
   "outputs": [],
   "source": [
    "# Compute the scores as a dot product between feature_matrix and coefficients.\n",
    "scores = np.dot(feature_matrix, coefficients)"
   ]
  },
  {
   "cell_type": "markdown",
   "metadata": {
    "nbpresent": {
     "id": "d301ac70-ed40-4e19-abea-2657b5a86ee8"
    }
   },
   "source": [
    "Now, complete the following code block for **Step 2** to compute the class predictions using the **scores** obtained above:"
   ]
  },
  {
   "cell_type": "code",
   "execution_count": 29,
   "metadata": {
    "collapsed": false,
    "nbpresent": {
     "id": "1b9963ed-eacb-418e-ac5a-bbf879f8298b"
    }
   },
   "outputs": [],
   "source": [
    "##TGA Note on May 06,2017\n",
    "##This kind of predicition is equivalent to the black box logistic regression function\n",
    "##output_type='probability' is the same as the way I used in the earlier cells\n",
    "\n",
    "predictions=graphlab.SArray([1 if i>0 else -1 for i in scores])  ##TGA's first list comprehsation"
   ]
  },
  {
   "cell_type": "markdown",
   "metadata": {
    "nbpresent": {
     "id": "f0bba09f-84b0-4b91-97d9-8c9369c33bfb"
    }
   },
   "source": [
    "** Quiz Question: ** How many reviews were predicted to have positive sentiment?"
   ]
  },
  {
   "cell_type": "code",
   "execution_count": 30,
   "metadata": {
    "collapsed": false,
    "nbpresent": {
     "id": "096ac7b9-7f8b-408b-92a6-eb17d418b372"
    }
   },
   "outputs": [
    {
     "name": "stdout",
     "output_type": "stream",
     "text": [
      "25126\n"
     ]
    }
   ],
   "source": [
    "print len(predictions[predictions>0])  ###TGA's nice sarray filtering"
   ]
  },
  {
   "cell_type": "markdown",
   "metadata": {
    "nbpresent": {
     "id": "5bd49e75-5a98-4eed-96a6-af1fe5e362e6"
    }
   },
   "source": [
    "## Measuring accuracy\n",
    "\n",
    "We will now measure the classification accuracy of the model. Recall from the lecture that the classification accuracy can be computed as follows:\n",
    "\n",
    "$$\n",
    "\\mbox{accuracy} = \\frac{\\mbox{# correctly classified data points}}{\\mbox{# total data points}}\n",
    "$$\n",
    "\n",
    "Complete the following code block to compute the accuracy of the model."
   ]
  },
  {
   "cell_type": "code",
   "execution_count": 31,
   "metadata": {
    "collapsed": false,
    "nbpresent": {
     "id": "ba033b8f-2013-41ae-ba49-55fba22ca49c"
    }
   },
   "outputs": [
    {
     "name": "stdout",
     "output_type": "stream",
     "text": [
      "-----------------------------------------------------\n",
      "# Reviews   correctly classified = 39903\n",
      "# Reviews incorrectly classified = 13169\n",
      "# Reviews total                  = 53072\n",
      "-----------------------------------------------------\n",
      "Accuracy = 0.75\n"
     ]
    }
   ],
   "source": [
    "num_mistakes = len(products[products['sentiment']!=predictions])\n",
    "accuracy = (len(products)-num_mistakes)*1./len(products)\n",
    "print \"-----------------------------------------------------\"\n",
    "print '# Reviews   correctly classified =', len(products) - num_mistakes\n",
    "print '# Reviews incorrectly classified =', num_mistakes\n",
    "print '# Reviews total                  =', len(products)\n",
    "print \"-----------------------------------------------------\"\n",
    "print 'Accuracy = %.2f' % accuracy"
   ]
  },
  {
   "cell_type": "markdown",
   "metadata": {
    "nbpresent": {
     "id": "ba87c8ce-5e38-4847-b34b-09107e7502a1"
    }
   },
   "source": [
    "**Quiz Question**: What is the accuracy of the model on predictions made above? (round to 2 digits of accuracy)"
   ]
  },
  {
   "cell_type": "code",
   "execution_count": 32,
   "metadata": {
    "collapsed": true,
    "nbpresent": {
     "id": "6d78c443-3e9d-461a-91f8-ab0f43b5e779"
    }
   },
   "outputs": [],
   "source": [
    "##0.75"
   ]
  },
  {
   "cell_type": "markdown",
   "metadata": {
    "nbpresent": {
     "id": "219a88de-2d03-4991-9ea6-8fba8ccc98f6"
    }
   },
   "source": [
    "## Which words contribute most to positive & negative sentiments?"
   ]
  },
  {
   "cell_type": "markdown",
   "metadata": {
    "nbpresent": {
     "id": "2afce18b-f420-46cf-b90e-94408537a995"
    }
   },
   "source": [
    "Recall that in Module 2 assignment, we were able to compute the \"**most positive words**\". These are words that correspond most strongly with positive reviews. In order to do this, we will first do the following:\n",
    "* Treat each coefficient as a tuple, i.e. (**word**, **coefficient_value**).\n",
    "* Sort all the (**word**, **coefficient_value**) tuples by **coefficient_value** in descending order."
   ]
  },
  {
   "cell_type": "code",
   "execution_count": 33,
   "metadata": {
    "collapsed": false,
    "nbpresent": {
     "id": "37c53136-6b37-4e99-91af-4d2b28611160"
    },
    "scrolled": true
   },
   "outputs": [
    {
     "name": "stdout",
     "output_type": "stream",
     "text": [
      "True\n"
     ]
    }
   ],
   "source": [
    "coefficients = list(coefficients[1:]) # exclude intercept\n",
    "\n",
    "###TGA Check March 13 (because it is used in the line after the following line)\n",
    "print len(coefficients)== len(important_words)\n",
    "\n",
    "word_coefficient_tuples = [(word, coefficient) for word, coefficient in zip(important_words, coefficients)]\n",
    "\n",
    "word_coefficient_tuples = sorted(word_coefficient_tuples, key=lambda x:x[1], reverse=True)\n",
    "\n",
    "##TGA Note: I think lambda x:x[1] means sort by coeffients and reverse means from largest-smallest"
   ]
  },
  {
   "cell_type": "markdown",
   "metadata": {
    "nbpresent": {
     "id": "e467ed26-19cd-4b40-8904-fae0c7ec32e8"
    }
   },
   "source": [
    "Now, **word_coefficient_tuples** contains a sorted list of (**word**, **coefficient_value**) tuples. The first 10 elements in this list correspond to the words that are most positive."
   ]
  },
  {
   "cell_type": "markdown",
   "metadata": {
    "nbpresent": {
     "id": "7a230873-4d0f-45f4-b72a-11dc63362226"
    }
   },
   "source": [
    "### Ten \"most positive\" words\n",
    "\n",
    "Now, we compute the 10 words that have the most positive coefficient values. These words are associated with positive sentiment."
   ]
  },
  {
   "cell_type": "code",
   "execution_count": 168,
   "metadata": {
    "collapsed": false,
    "nbpresent": {
     "id": "bd662229-fb58-45ca-a459-c5550f13351f"
    }
   },
   "outputs": [
    {
     "name": "stdout",
     "output_type": "stream",
     "text": [
      "[('great', 0.066546084170457695), ('love', 0.065890762922123258), ('easy', 0.06479458680257838), ('little', 0.045435626308421365), ('loves', 0.044976401394906038), ('well', 0.030135001092107077), ('perfect', 0.029739937104968462), ('old', 0.020077541034775378), ('nice', 0.018408707995268992), ('daughter', 0.017703199905701694)]\n"
     ]
    }
   ],
   "source": [
    "print word_coefficient_tuples[0:10]"
   ]
  },
  {
   "cell_type": "markdown",
   "metadata": {
    "nbpresent": {
     "id": "c8ff7237-fbc7-4508-8b8b-921768c5a368"
    }
   },
   "source": [
    "** Quiz Question:** Which word is **not** present in the top 10 \"most positive\" words?"
   ]
  },
  {
   "cell_type": "code",
   "execution_count": 121,
   "metadata": {
    "collapsed": false,
    "nbpresent": {
     "id": "86375677-7fdd-42a8-af69-0b32fb8b34e6"
    }
   },
   "outputs": [],
   "source": [
    "###Look the choices"
   ]
  },
  {
   "cell_type": "markdown",
   "metadata": {
    "nbpresent": {
     "id": "4a31e52e-364f-4aa0-b53c-a6feb65b75f0"
    }
   },
   "source": [
    "### Ten \"most negative\" words\n",
    "\n",
    "Next, we repeat this exercise on the 10 most negative words.  That is, we compute the 10 words that have the most negative coefficient values. These words are associated with negative sentiment."
   ]
  },
  {
   "cell_type": "code",
   "execution_count": 169,
   "metadata": {
    "collapsed": false,
    "nbpresent": {
     "id": "ecbb3b15-c7ce-4bed-a192-eaa91ae727ab"
    }
   },
   "outputs": [
    {
     "name": "stdout",
     "output_type": "stream",
     "text": [
      "[('monitor', -0.024482100545891724), ('return', -0.026592778462247283), ('back', -0.027742697230661334), ('get', -0.028711552980192574), ('disappointed', -0.028978976142317068), ('even', -0.030051249236035804), ('work', -0.03306951529475273), ('money', -0.038982037286487116), ('product', -0.041511033392108904), ('would', -0.053860148445203142)]\n"
     ]
    }
   ],
   "source": [
    "print word_coefficient_tuples[-10:len(word_coefficient_tuples)]"
   ]
  },
  {
   "cell_type": "markdown",
   "metadata": {
    "nbpresent": {
     "id": "72c4cd49-1b1e-4adc-8e0d-1212ef2d72fe"
    }
   },
   "source": [
    "** Quiz Question:** Which word is **not** present in the top 10 \"most negative\" words?"
   ]
  },
  {
   "cell_type": "code",
   "execution_count": 170,
   "metadata": {
    "collapsed": true,
    "nbpresent": {
     "id": "795daf7f-d1b4-48e3-b6e0-f4005c832e24"
    }
   },
   "outputs": [],
   "source": [
    "###Look the choices"
   ]
  },
  {
   "cell_type": "code",
   "execution_count": null,
   "metadata": {
    "collapsed": true
   },
   "outputs": [],
   "source": []
  }
 ],
 "metadata": {
  "anaconda-cloud": {},
  "kernelspec": {
   "display_name": "Python [gl-env]",
   "language": "python",
   "name": "Python [gl-env]"
  },
  "language_info": {
   "codemirror_mode": {
    "name": "ipython",
    "version": 2
   },
   "file_extension": ".py",
   "mimetype": "text/x-python",
   "name": "python",
   "nbconvert_exporter": "python",
   "pygments_lexer": "ipython2",
   "version": "2.7.12"
  },
  "nbpresent": {
   "slides": {
    "009b2d62-45d3-4b7d-9883-63a4d7268f13": {
     "id": "009b2d62-45d3-4b7d-9883-63a4d7268f13",
     "prev": "31c36b98-e0e1-44c7-a7ad-5b79b10a08bb",
     "regions": {
      "48ed68bb-2da7-4dad-a4db-fbbe8b35c41f": {
       "attrs": {
        "height": 0.8,
        "width": 0.8,
        "x": 0.1,
        "y": 0.1
       },
       "content": {
        "cell": "ba87c8ce-5e38-4847-b34b-09107e7502a1",
        "part": "whole"
       },
       "id": "48ed68bb-2da7-4dad-a4db-fbbe8b35c41f"
      }
     }
    },
    "00a9b6a9-ed92-4ccb-9afc-254b90726175": {
     "id": "00a9b6a9-ed92-4ccb-9afc-254b90726175",
     "prev": "7324f11b-19db-43ad-872e-b016e7634f9f",
     "regions": {
      "e04b27b9-6a76-43bf-8e2e-4b6b01abc13d": {
       "attrs": {
        "height": 0.8,
        "width": 0.8,
        "x": 0.1,
        "y": 0.1
       },
       "content": {
        "cell": "44f841c0-a418-4e30-9b76-feec462424ce",
        "part": "whole"
       },
       "id": "e04b27b9-6a76-43bf-8e2e-4b6b01abc13d"
      }
     }
    },
    "00b18852-d6e6-4561-8e6e-a4ddfa5221a8": {
     "id": "00b18852-d6e6-4561-8e6e-a4ddfa5221a8",
     "prev": "4f50efa6-8737-4987-9caa-d31f6a92843c",
     "regions": {
      "976bc3fe-6921-411a-a4db-52f63c30117d": {
       "attrs": {
        "height": 0.8,
        "width": 0.8,
        "x": 0.1,
        "y": 0.1
       },
       "content": {
        "cell": "86375677-7fdd-42a8-af69-0b32fb8b34e6",
        "part": "whole"
       },
       "id": "976bc3fe-6921-411a-a4db-52f63c30117d"
      }
     }
    },
    "0118a021-5204-463b-a3c6-431aa32eb914": {
     "id": "0118a021-5204-463b-a3c6-431aa32eb914",
     "prev": "6c4e98f0-f35f-4c14-80b6-0ff5b3eeb20d",
     "regions": {
      "f225021d-2ba7-475b-b39e-1f11089e3063": {
       "attrs": {
        "height": 0.8,
        "width": 0.8,
        "x": 0.1,
        "y": 0.1
       },
       "content": {
        "cell": "096ac7b9-7f8b-408b-92a6-eb17d418b372",
        "part": "whole"
       },
       "id": "f225021d-2ba7-475b-b39e-1f11089e3063"
      }
     }
    },
    "02d06e0f-9a1a-4d97-ade7-3f92bf15eab9": {
     "id": "02d06e0f-9a1a-4d97-ade7-3f92bf15eab9",
     "prev": "ba46bf6e-36f4-4d46-8c36-012175aca8f2",
     "regions": {
      "53b7a7ea-df21-4302-95a1-8cb8f69d4481": {
       "attrs": {
        "height": 0.8,
        "width": 0.8,
        "x": 0.1,
        "y": 0.1
       },
       "content": {
        "cell": "24cb64ac-6ff8-4ed2-a5f2-84b5384ff27b",
        "part": "whole"
       },
       "id": "53b7a7ea-df21-4302-95a1-8cb8f69d4481"
      }
     }
    },
    "05e96469-1603-4208-a5f1-8536a5604665": {
     "id": "05e96469-1603-4208-a5f1-8536a5604665",
     "prev": "70fba6cf-df2c-4be9-9fd6-41e0c4ac0813",
     "regions": {
      "eea4572c-c5ae-4663-b164-ea2d753cae5f": {
       "attrs": {
        "height": 0.8,
        "width": 0.8,
        "x": 0.1,
        "y": 0.1
       },
       "content": {
        "cell": "7867e673-d484-430d-90da-d9319ddd7d46",
        "part": "whole"
       },
       "id": "eea4572c-c5ae-4663-b164-ea2d753cae5f"
      }
     }
    },
    "0780b0b7-86a4-43db-87f7-2e9c972647b2": {
     "id": "0780b0b7-86a4-43db-87f7-2e9c972647b2",
     "prev": "28265497-6138-4c4f-b0d3-cc512ab2dca9",
     "regions": {
      "3de483db-eab3-4564-afda-b57bdcd25c0f": {
       "attrs": {
        "height": 0.8,
        "width": 0.8,
        "x": 0.1,
        "y": 0.1
       },
       "content": {
        "cell": "41e16fc0-849e-4bb3-958b-e3f78062e892",
        "part": "whole"
       },
       "id": "3de483db-eab3-4564-afda-b57bdcd25c0f"
      }
     }
    },
    "0ec99562-4612-4648-b8e3-9c1922181442": {
     "id": "0ec99562-4612-4648-b8e3-9c1922181442",
     "prev": "939251ae-dfbc-444c-9f9f-9961e7ca2153",
     "regions": {
      "c459376c-dcd4-45dc-a5d7-09be7ff30de1": {
       "attrs": {
        "height": 0.8,
        "width": 0.8,
        "x": 0.1,
        "y": 0.1
       },
       "content": {
        "cell": "9ea2def4-8f10-45f8-9221-f9efc1d39cbe",
        "part": "whole"
       },
       "id": "c459376c-dcd4-45dc-a5d7-09be7ff30de1"
      }
     }
    },
    "12619c4e-1daf-4aff-beba-13b758b2c493": {
     "id": "12619c4e-1daf-4aff-beba-13b758b2c493",
     "prev": "0780b0b7-86a4-43db-87f7-2e9c972647b2",
     "regions": {
      "a347929b-f9cf-4eef-bed5-e084df6722f2": {
       "attrs": {
        "height": 0.8,
        "width": 0.8,
        "x": 0.1,
        "y": 0.1
       },
       "content": {
        "cell": "f7110913-deb3-4a18-a052-87959ad91fe9",
        "part": "whole"
       },
       "id": "a347929b-f9cf-4eef-bed5-e084df6722f2"
      }
     }
    },
    "143372f7-12cd-43cb-af4c-1deac5dabd3d": {
     "id": "143372f7-12cd-43cb-af4c-1deac5dabd3d",
     "prev": "a0517707-c8f0-4382-b46d-15cf430dd975",
     "regions": {
      "6b4d91b1-4ffb-45e6-b54b-9b9052ef12e6": {
       "attrs": {
        "height": 0.8,
        "width": 0.8,
        "x": 0.1,
        "y": 0.1
       },
       "content": {
        "cell": "97dba8f0-9cd9-461a-ad67-390d44243214",
        "part": "whole"
       },
       "id": "6b4d91b1-4ffb-45e6-b54b-9b9052ef12e6"
      }
     }
    },
    "174f1ce1-6a79-4505-aa36-4f821f55ebbf": {
     "id": "174f1ce1-6a79-4505-aa36-4f821f55ebbf",
     "prev": "00b18852-d6e6-4561-8e6e-a4ddfa5221a8",
     "regions": {
      "0624443d-b702-45d5-ad78-24d682eb6516": {
       "attrs": {
        "height": 0.8,
        "width": 0.8,
        "x": 0.1,
        "y": 0.1
       },
       "content": {
        "cell": "4a31e52e-364f-4aa0-b53c-a6feb65b75f0",
        "part": "whole"
       },
       "id": "0624443d-b702-45d5-ad78-24d682eb6516"
      }
     }
    },
    "1b6fcd58-ea72-4173-bdd5-30a9a655781e": {
     "id": "1b6fcd58-ea72-4173-bdd5-30a9a655781e",
     "prev": "b7b0dfff-63e3-4884-843f-ca19e31314ac",
     "regions": {
      "70238c4b-4aa6-47bf-b8a4-543771a56d6a": {
       "attrs": {
        "height": 0.8,
        "width": 0.8,
        "x": 0.1,
        "y": 0.1
       },
       "content": {
        "cell": "5bd49e75-5a98-4eed-96a6-af1fe5e362e6",
        "part": "whole"
       },
       "id": "70238c4b-4aa6-47bf-b8a4-543771a56d6a"
      }
     }
    },
    "218b1fea-4532-49f4-8cfd-8ac95d85cf28": {
     "id": "218b1fea-4532-49f4-8cfd-8ac95d85cf28",
     "prev": "6e18b1b1-d5fe-482a-8474-b81f4405c5f0",
     "regions": {
      "69aabd36-7697-4b7e-9a35-03ee26589d44": {
       "attrs": {
        "height": 0.8,
        "width": 0.8,
        "x": 0.1,
        "y": 0.1
       },
       "content": {
        "cell": "ec0fd031-2eed-4e09-9054-5bf345a311bc",
        "part": "whole"
       },
       "id": "69aabd36-7697-4b7e-9a35-03ee26589d44"
      }
     }
    },
    "25440fc6-7219-4cca-bc4a-46ebd1af2383": {
     "id": "25440fc6-7219-4cca-bc4a-46ebd1af2383",
     "prev": "75e331d9-d322-449b-8aca-873280443483",
     "regions": {
      "f27178b4-1f0a-4d3b-9494-97d20e28cce7": {
       "attrs": {
        "height": 0.8,
        "width": 0.8,
        "x": 0.1,
        "y": 0.1
       },
       "content": {
        "cell": "e467ed26-19cd-4b40-8904-fae0c7ec32e8",
        "part": "whole"
       },
       "id": "f27178b4-1f0a-4d3b-9494-97d20e28cce7"
      }
     }
    },
    "28265497-6138-4c4f-b0d3-cc512ab2dca9": {
     "id": "28265497-6138-4c4f-b0d3-cc512ab2dca9",
     "prev": "f9d2421d-cdf4-4df1-ae13-feafd884f68c",
     "regions": {
      "c4d1766d-58fe-43c3-9646-93713757c587": {
       "attrs": {
        "height": 0.8,
        "width": 0.8,
        "x": 0.1,
        "y": 0.1
       },
       "content": {
        "cell": "55e4cf5f-26af-4d64-95d2-2dc24f837dce",
        "part": "whole"
       },
       "id": "c4d1766d-58fe-43c3-9646-93713757c587"
      }
     }
    },
    "2a2899fb-0930-4adb-9f17-903745c97d1f": {
     "id": "2a2899fb-0930-4adb-9f17-903745c97d1f",
     "prev": "25440fc6-7219-4cca-bc4a-46ebd1af2383",
     "regions": {
      "973978d8-cbb4-4454-847f-c515cb2d5b2a": {
       "attrs": {
        "height": 0.8,
        "width": 0.8,
        "x": 0.1,
        "y": 0.1
       },
       "content": {
        "cell": "7a230873-4d0f-45f4-b72a-11dc63362226",
        "part": "whole"
       },
       "id": "973978d8-cbb4-4454-847f-c515cb2d5b2a"
      }
     }
    },
    "2cecce71-1bf4-4d32-9f37-f8b99a772488": {
     "id": "2cecce71-1bf4-4d32-9f37-f8b99a772488",
     "prev": "64189f86-a270-40e9-8d67-85421e282d7e",
     "regions": {
      "77335c15-4a81-4b8a-b5ad-b2824d148df2": {
       "attrs": {
        "height": 0.8,
        "width": 0.8,
        "x": 0.1,
        "y": 0.1
       },
       "content": {
        "cell": "ff83530a-6244-4b79-a64d-cfe736efec3b",
        "part": "whole"
       },
       "id": "77335c15-4a81-4b8a-b5ad-b2824d148df2"
      }
     }
    },
    "31c36b98-e0e1-44c7-a7ad-5b79b10a08bb": {
     "id": "31c36b98-e0e1-44c7-a7ad-5b79b10a08bb",
     "prev": "1b6fcd58-ea72-4173-bdd5-30a9a655781e",
     "regions": {
      "33425902-cfb5-4fe3-a419-c02ca0848cba": {
       "attrs": {
        "height": 0.8,
        "width": 0.8,
        "x": 0.1,
        "y": 0.1
       },
       "content": {
        "cell": "ba033b8f-2013-41ae-ba49-55fba22ca49c",
        "part": "whole"
       },
       "id": "33425902-cfb5-4fe3-a419-c02ca0848cba"
      }
     }
    },
    "32890abe-117a-4429-a860-6fc37f408a9e": {
     "id": "32890abe-117a-4429-a860-6fc37f408a9e",
     "prev": "cecc1a15-f175-45a4-bfb7-7a71e2e4992d",
     "regions": {
      "45f586da-e1c1-4c71-b2cb-a530f0ed3955": {
       "attrs": {
        "height": 0.8,
        "width": 0.8,
        "x": 0.1,
        "y": 0.1
       },
       "content": {
        "cell": "d313c5c2-4fd5-4d7e-b6cb-a96b52c5b92a",
        "part": "whole"
       },
       "id": "45f586da-e1c1-4c71-b2cb-a530f0ed3955"
      }
     }
    },
    "3738ba9b-24cd-4a6c-b4de-eefa2e9a9595": {
     "id": "3738ba9b-24cd-4a6c-b4de-eefa2e9a9595",
     "prev": "eac77d69-9015-4254-bd59-d7e128925ac5",
     "regions": {
      "fb047763-6f27-4865-8890-4249f4e58d70": {
       "attrs": {
        "height": 0.8,
        "width": 0.8,
        "x": 0.1,
        "y": 0.1
       },
       "content": {
        "cell": "795daf7f-d1b4-48e3-b6e0-f4005c832e24",
        "part": "whole"
       },
       "id": "fb047763-6f27-4865-8890-4249f4e58d70"
      }
     }
    },
    "37d39880-5b4f-4356-9521-30ae1a49fae4": {
     "id": "37d39880-5b4f-4356-9521-30ae1a49fae4",
     "prev": "570daec6-22b7-4524-967c-c9bd1411eccf",
     "regions": {
      "c944eb03-bcf6-4578-85ce-8e53213246b2": {
       "attrs": {
        "height": 0.8,
        "width": 0.8,
        "x": 0.1,
        "y": 0.1
       },
       "content": {
        "cell": "398900b3-f5bd-4399-9319-6e5291288263",
        "part": "whole"
       },
       "id": "c944eb03-bcf6-4578-85ce-8e53213246b2"
      }
     }
    },
    "3bdfc901-c81e-4322-a264-315da97c5bff": {
     "id": "3bdfc901-c81e-4322-a264-315da97c5bff",
     "prev": "32890abe-117a-4429-a860-6fc37f408a9e",
     "regions": {
      "8e563f6d-7c9e-437d-83ae-f31f345f8b06": {
       "attrs": {
        "height": 0.8,
        "width": 0.8,
        "x": 0.1,
        "y": 0.1
       },
       "content": {
        "cell": "be88d922-6fb2-4031-a700-07bb86998c2d",
        "part": "whole"
       },
       "id": "8e563f6d-7c9e-437d-83ae-f31f345f8b06"
      }
     }
    },
    "467c2f61-5573-42b1-ac9b-952861360329": {
     "id": "467c2f61-5573-42b1-ac9b-952861360329",
     "prev": "bf16d192-26ba-4a21-b16a-0b99e0339d4c",
     "regions": {
      "90cbaabb-a952-460e-b8d9-6741a5abd08e": {
       "attrs": {
        "height": 0.8,
        "width": 0.8,
        "x": 0.1,
        "y": 0.1
       },
       "content": {
        "cell": "e426939b-f0ee-4f77-ae8d-48e8e84ab168",
        "part": "whole"
       },
       "id": "90cbaabb-a952-460e-b8d9-6741a5abd08e"
      }
     }
    },
    "47b2fc57-7a94-4bfb-8d63-03af0d503668": {
     "id": "47b2fc57-7a94-4bfb-8d63-03af0d503668",
     "prev": "86f37ce0-5f37-4fb1-9f66-3a06226dee7f",
     "regions": {
      "663af163-132e-4067-b2b8-ffde636c4c8e": {
       "attrs": {
        "height": 0.8,
        "width": 0.8,
        "x": 0.1,
        "y": 0.1
       },
       "content": {
        "cell": "219a88de-2d03-4991-9ea6-8fba8ccc98f6",
        "part": "whole"
       },
       "id": "663af163-132e-4067-b2b8-ffde636c4c8e"
      }
     }
    },
    "4f50efa6-8737-4987-9caa-d31f6a92843c": {
     "id": "4f50efa6-8737-4987-9caa-d31f6a92843c",
     "prev": "a6ca8a87-8ebd-4364-9e70-9246a63a126f",
     "regions": {
      "579fdab3-dae6-4f2b-97ab-f398f1bf55bf": {
       "attrs": {
        "height": 0.8,
        "width": 0.8,
        "x": 0.1,
        "y": 0.1
       },
       "content": {
        "cell": "c8ff7237-fbc7-4508-8b8b-921768c5a368",
        "part": "whole"
       },
       "id": "579fdab3-dae6-4f2b-97ab-f398f1bf55bf"
      }
     }
    },
    "4f86d990-fc27-489d-9c38-c01c1d3e01dd": {
     "id": "4f86d990-fc27-489d-9c38-c01c1d3e01dd",
     "prev": "9025ecb1-616b-4930-bf7b-87dc83e01f88",
     "regions": {
      "a55c75e1-7f5f-49b6-869b-6a3c4bdd2f7b": {
       "attrs": {
        "height": 0.8,
        "width": 0.8,
        "x": 0.1,
        "y": 0.1
       },
       "content": {
        "cell": "2f0be668-7bb0-4a34-9c94-a00e2fd98a57",
        "part": "whole"
       },
       "id": "a55c75e1-7f5f-49b6-869b-6a3c4bdd2f7b"
      }
     }
    },
    "570daec6-22b7-4524-967c-c9bd1411eccf": {
     "id": "570daec6-22b7-4524-967c-c9bd1411eccf",
     "prev": "e70ba572-cdac-4f1a-8935-0511a021819b",
     "regions": {
      "561ef456-3ab3-4113-9dcd-f27cc7408a93": {
       "attrs": {
        "height": 0.8,
        "width": 0.8,
        "x": 0.1,
        "y": 0.1
       },
       "content": {
        "cell": "61b47686-4118-49c7-bd80-cca9fec9abc8",
        "part": "whole"
       },
       "id": "561ef456-3ab3-4113-9dcd-f27cc7408a93"
      }
     }
    },
    "59b38419-6106-4fb5-988f-f6885dabe509": {
     "id": "59b38419-6106-4fb5-988f-f6885dabe509",
     "prev": "a03d31ca-21d5-4c4b-8f6f-fc2161fa3582",
     "regions": {
      "ce06db03-ae89-415c-9c9d-8896a67aa1c1": {
       "attrs": {
        "height": 0.8,
        "width": 0.8,
        "x": 0.1,
        "y": 0.1
       },
       "content": {
        "cell": "5cf2af25-38f5-4c46-a156-59df2d1c2943",
        "part": "whole"
       },
       "id": "ce06db03-ae89-415c-9c9d-8896a67aa1c1"
      }
     }
    },
    "5c1cba24-a816-4fa2-b6dd-8a841dcc1886": {
     "id": "5c1cba24-a816-4fa2-b6dd-8a841dcc1886",
     "prev": "174f1ce1-6a79-4505-aa36-4f821f55ebbf",
     "regions": {
      "185349fd-5f71-4389-a97e-13e3612aec55": {
       "attrs": {
        "height": 0.8,
        "width": 0.8,
        "x": 0.1,
        "y": 0.1
       },
       "content": {
        "cell": "ecbb3b15-c7ce-4bed-a192-eaa91ae727ab",
        "part": "whole"
       },
       "id": "185349fd-5f71-4389-a97e-13e3612aec55"
      }
     }
    },
    "5ffcfa27-f125-4d72-a12e-1d5ef48ff195": {
     "id": "5ffcfa27-f125-4d72-a12e-1d5ef48ff195",
     "prev": "88a318d8-188a-4686-bf61-e86d15bf9aeb",
     "regions": {
      "d2fc6a2c-56ce-4da3-b060-733f9445d594": {
       "attrs": {
        "height": 0.8,
        "width": 0.8,
        "x": 0.1,
        "y": 0.1
       },
       "content": {
        "cell": "2f7bc33e-4afa-467b-9ff0-fc6ad7adfda5",
        "part": "whole"
       },
       "id": "d2fc6a2c-56ce-4da3-b060-733f9445d594"
      }
     }
    },
    "6132895e-f948-4fad-9841-1b0e81fb35fd": {
     "id": "6132895e-f948-4fad-9841-1b0e81fb35fd",
     "prev": "3bdfc901-c81e-4322-a264-315da97c5bff",
     "regions": {
      "1d992570-f18a-4c49-96b3-6aa9353d1fac": {
       "attrs": {
        "height": 0.8,
        "width": 0.8,
        "x": 0.1,
        "y": 0.1
       },
       "content": {
        "cell": "1aedafd5-0c41-47c9-a11e-487322edcd1e",
        "part": "whole"
       },
       "id": "1d992570-f18a-4c49-96b3-6aa9353d1fac"
      }
     }
    },
    "64189f86-a270-40e9-8d67-85421e282d7e": {
     "id": "64189f86-a270-40e9-8d67-85421e282d7e",
     "prev": "ed980d31-14d0-484a-87db-e679fc715f54",
     "regions": {
      "916ef0b2-2c16-4d23-b970-b3c4fad6533e": {
       "attrs": {
        "height": 0.8,
        "width": 0.8,
        "x": 0.1,
        "y": 0.1
       },
       "content": {
        "cell": "02cdc4f8-9273-4e19-a539-b38c14f7b575",
        "part": "whole"
       },
       "id": "916ef0b2-2c16-4d23-b970-b3c4fad6533e"
      }
     }
    },
    "648ea32a-0ee6-42ec-8d0a-cf03f0ca4d7c": {
     "id": "648ea32a-0ee6-42ec-8d0a-cf03f0ca4d7c",
     "prev": "d831c71a-8dca-45b4-a147-d7835e884505",
     "regions": {
      "de32db37-b322-4730-9a3e-870bf6fefcd2": {
       "attrs": {
        "height": 0.8,
        "width": 0.8,
        "x": 0.1,
        "y": 0.1
       },
       "content": {
        "cell": "f19a07cf-95e9-4676-bb35-7b45d9811e40",
        "part": "whole"
       },
       "id": "de32db37-b322-4730-9a3e-870bf6fefcd2"
      }
     }
    },
    "6b7be191-992a-426b-b97e-f63f74d989c4": {
     "id": "6b7be191-992a-426b-b97e-f63f74d989c4",
     "prev": "7ba7fba5-bc19-477d-828b-b59dfe5e4418",
     "regions": {
      "9b6c554e-5ea9-4c81-a0cf-23b5aac3fab1": {
       "attrs": {
        "height": 0.8,
        "width": 0.8,
        "x": 0.1,
        "y": 0.1
       },
       "content": {
        "cell": "df8dea54-8866-4238-951d-2d14c80ff76f",
        "part": "whole"
       },
       "id": "9b6c554e-5ea9-4c81-a0cf-23b5aac3fab1"
      }
     }
    },
    "6b86b9ca-3cde-4e65-8349-6ce6411ebc26": {
     "id": "6b86b9ca-3cde-4e65-8349-6ce6411ebc26",
     "prev": "37d39880-5b4f-4356-9521-30ae1a49fae4",
     "regions": {
      "65786096-34a6-4374-b225-ae67ad3871e4": {
       "attrs": {
        "height": 0.8,
        "width": 0.8,
        "x": 0.1,
        "y": 0.1
       },
       "content": {
        "cell": "e22bb237-12ab-4b86-acbb-ad670dbd9e0c",
        "part": "whole"
       },
       "id": "65786096-34a6-4374-b225-ae67ad3871e4"
      }
     }
    },
    "6c4e98f0-f35f-4c14-80b6-0ff5b3eeb20d": {
     "id": "6c4e98f0-f35f-4c14-80b6-0ff5b3eeb20d",
     "prev": "bc44ea24-3b8e-4bc4-95e8-37355437727d",
     "regions": {
      "e729f8fd-8b7b-4391-a9ab-36fee9d79b97": {
       "attrs": {
        "height": 0.8,
        "width": 0.8,
        "x": 0.1,
        "y": 0.1
       },
       "content": {
        "cell": "f0bba09f-84b0-4b91-97d9-8c9369c33bfb",
        "part": "whole"
       },
       "id": "e729f8fd-8b7b-4391-a9ab-36fee9d79b97"
      }
     }
    },
    "6dccf7c6-0ec4-408c-a4e9-07950ccdb618": {
     "id": "6dccf7c6-0ec4-408c-a4e9-07950ccdb618",
     "prev": "6b7be191-992a-426b-b97e-f63f74d989c4",
     "regions": {
      "578d6291-a32a-4d15-a407-44a5447636c2": {
       "attrs": {
        "height": 0.8,
        "width": 0.8,
        "x": 0.1,
        "y": 0.1
       },
       "content": {
        "cell": "a6e015e4-76dd-45b2-ace6-c6a98bcdace8",
        "part": "whole"
       },
       "id": "578d6291-a32a-4d15-a407-44a5447636c2"
      }
     }
    },
    "6e18b1b1-d5fe-482a-8474-b81f4405c5f0": {
     "id": "6e18b1b1-d5fe-482a-8474-b81f4405c5f0",
     "prev": "c2cb71ed-8b82-4506-8db3-e0aa073df128",
     "regions": {
      "bf0c5498-841a-47c6-9f63-e457127a1c68": {
       "attrs": {
        "height": 0.8,
        "width": 0.8,
        "x": 0.1,
        "y": 0.1
       },
       "content": {
        "cell": "ed0a24d3-9c31-4971-ba0c-2a4b8f8c798b",
        "part": "whole"
       },
       "id": "bf0c5498-841a-47c6-9f63-e457127a1c68"
      }
     }
    },
    "70fba6cf-df2c-4be9-9fd6-41e0c4ac0813": {
     "id": "70fba6cf-df2c-4be9-9fd6-41e0c4ac0813",
     "prev": "6b86b9ca-3cde-4e65-8349-6ce6411ebc26",
     "regions": {
      "0b8b367c-4105-49f3-878b-164aecd7664c": {
       "attrs": {
        "height": 0.8,
        "width": 0.8,
        "x": 0.1,
        "y": 0.1
       },
       "content": {
        "cell": "215abdf5-24a0-4321-be3f-66808b590715",
        "part": "whole"
       },
       "id": "0b8b367c-4105-49f3-878b-164aecd7664c"
      }
     }
    },
    "7324f11b-19db-43ad-872e-b016e7634f9f": {
     "id": "7324f11b-19db-43ad-872e-b016e7634f9f",
     "prev": "78657193-39af-4d55-9894-ff808a106e1e",
     "regions": {
      "651ebb2a-ac4b-4e5f-b5b6-223331804ce7": {
       "attrs": {
        "height": 0.8,
        "width": 0.8,
        "x": 0.1,
        "y": 0.1
       },
       "content": {
        "cell": "423eb929-65a2-4070-8823-46a7f1770a90",
        "part": "whole"
       },
       "id": "651ebb2a-ac4b-4e5f-b5b6-223331804ce7"
      }
     }
    },
    "75e331d9-d322-449b-8aca-873280443483": {
     "id": "75e331d9-d322-449b-8aca-873280443483",
     "prev": "d1ad2ec8-388c-4bd2-9685-1ceec3c31a4a",
     "regions": {
      "394bf083-4fb6-4608-80e3-0f927934e6dc": {
       "attrs": {
        "height": 0.8,
        "width": 0.8,
        "x": 0.1,
        "y": 0.1
       },
       "content": {
        "cell": "37c53136-6b37-4e99-91af-4d2b28611160",
        "part": "whole"
       },
       "id": "394bf083-4fb6-4608-80e3-0f927934e6dc"
      }
     }
    },
    "78657193-39af-4d55-9894-ff808a106e1e": {
     "id": "78657193-39af-4d55-9894-ff808a106e1e",
     "prev": "f2b0712c-b25f-41bf-a6bb-06b5881b835a",
     "regions": {
      "6a62fdab-181d-44f5-ab69-a09791b51a9f": {
       "attrs": {
        "height": 0.8,
        "width": 0.8,
        "x": 0.1,
        "y": 0.1
       },
       "content": {
        "cell": "15859565-8e1c-4580-82cf-11dab5665389",
        "part": "whole"
       },
       "id": "6a62fdab-181d-44f5-ab69-a09791b51a9f"
      }
     }
    },
    "7ba7fba5-bc19-477d-828b-b59dfe5e4418": {
     "id": "7ba7fba5-bc19-477d-828b-b59dfe5e4418",
     "prev": "b6122787-ed69-4534-881b-7a4dad827ea1",
     "regions": {
      "260df4ab-d849-4505-8657-8f2b5acf145b": {
       "attrs": {
        "height": 0.8,
        "width": 0.8,
        "x": 0.1,
        "y": 0.1
       },
       "content": {
        "cell": "2efba1a6-27ba-4067-8726-8a85e6f58454",
        "part": "whole"
       },
       "id": "260df4ab-d849-4505-8657-8f2b5acf145b"
      }
     }
    },
    "7de42a73-cee9-4ad4-8cc8-1ddcd55997ac": {
     "id": "7de42a73-cee9-4ad4-8cc8-1ddcd55997ac",
     "prev": "12619c4e-1daf-4aff-beba-13b758b2c493",
     "regions": {
      "06553ceb-ad8a-4d94-9ab1-cc5174308551": {
       "attrs": {
        "height": 0.8,
        "width": 0.8,
        "x": 0.1,
        "y": 0.1
       },
       "content": {
        "cell": "6d208b15-7fc2-483c-b90b-b03518e294da",
        "part": "whole"
       },
       "id": "06553ceb-ad8a-4d94-9ab1-cc5174308551"
      }
     }
    },
    "86f37ce0-5f37-4fb1-9f66-3a06226dee7f": {
     "id": "86f37ce0-5f37-4fb1-9f66-3a06226dee7f",
     "prev": "009b2d62-45d3-4b7d-9883-63a4d7268f13",
     "regions": {
      "baca6108-7521-496d-935c-2bd1982b729c": {
       "attrs": {
        "height": 0.8,
        "width": 0.8,
        "x": 0.1,
        "y": 0.1
       },
       "content": {
        "cell": "6d78c443-3e9d-461a-91f8-ab0f43b5e779",
        "part": "whole"
       },
       "id": "baca6108-7521-496d-935c-2bd1982b729c"
      }
     }
    },
    "88a318d8-188a-4686-bf61-e86d15bf9aeb": {
     "id": "88a318d8-188a-4686-bf61-e86d15bf9aeb",
     "prev": "59b38419-6106-4fb5-988f-f6885dabe509",
     "regions": {
      "168b99a3-3179-4f52-bc10-8ff5bab17486": {
       "attrs": {
        "height": 0.8,
        "width": 0.8,
        "x": 0.1,
        "y": 0.1
       },
       "content": {
        "cell": "f8755a07-63c2-4a88-b3b4-f3a602992922",
        "part": "whole"
       },
       "id": "168b99a3-3179-4f52-bc10-8ff5bab17486"
      }
     }
    },
    "9025ecb1-616b-4930-bf7b-87dc83e01f88": {
     "id": "9025ecb1-616b-4930-bf7b-87dc83e01f88",
     "prev": "dc707061-8afe-453c-8a04-164fcf72d500",
     "regions": {
      "fffbdd2b-f348-4fd7-b656-ed9451f210a8": {
       "attrs": {
        "height": 0.8,
        "width": 0.8,
        "x": 0.1,
        "y": 0.1
       },
       "content": {
        "cell": "bd57f86c-1045-4dce-b08a-2ee5d841dd65",
        "part": "whole"
       },
       "id": "fffbdd2b-f348-4fd7-b656-ed9451f210a8"
      }
     }
    },
    "937ba873-91d1-44f5-8112-a2e7aba14d75": {
     "id": "937ba873-91d1-44f5-8112-a2e7aba14d75",
     "prev": "05e96469-1603-4208-a5f1-8536a5604665",
     "regions": {
      "5f4ce911-97f2-492b-835f-85fd6046ac7a": {
       "attrs": {
        "height": 0.8,
        "width": 0.8,
        "x": 0.1,
        "y": 0.1
       },
       "content": {
        "cell": "a2eaf9e0-8093-401a-99be-d6f43e9480fc",
        "part": "whole"
       },
       "id": "5f4ce911-97f2-492b-835f-85fd6046ac7a"
      }
     }
    },
    "939251ae-dfbc-444c-9f9f-9961e7ca2153": {
     "id": "939251ae-dfbc-444c-9f9f-9961e7ca2153",
     "prev": "f6a69907-8c92-4e61-bc1b-bc9a424d1b0b",
     "regions": {
      "5103da3c-fe18-407b-a962-4238fb89904e": {
       "attrs": {
        "height": 0.8,
        "width": 0.8,
        "x": 0.1,
        "y": 0.1
       },
       "content": {
        "cell": "7339f8a0-f094-4990-9b3a-de560a300f3b",
        "part": "whole"
       },
       "id": "5103da3c-fe18-407b-a962-4238fb89904e"
      }
     }
    },
    "a03d31ca-21d5-4c4b-8f6f-fc2161fa3582": {
     "id": "a03d31ca-21d5-4c4b-8f6f-fc2161fa3582",
     "prev": "efdaaa17-4b50-470c-9fa7-32bba9639cdc",
     "regions": {
      "11040bae-c60b-4008-8201-e7dcceda3c91": {
       "attrs": {
        "height": 0.8,
        "width": 0.8,
        "x": 0.1,
        "y": 0.1
       },
       "content": {
        "cell": "a80e9fba-c976-4b87-82dd-587ff1f1766b",
        "part": "whole"
       },
       "id": "11040bae-c60b-4008-8201-e7dcceda3c91"
      }
     }
    },
    "a0517707-c8f0-4382-b46d-15cf430dd975": {
     "id": "a0517707-c8f0-4382-b46d-15cf430dd975",
     "prev": "7de42a73-cee9-4ad4-8cc8-1ddcd55997ac",
     "regions": {
      "8c006c0e-069e-4f8c-bb2e-d835a08ebe7a": {
       "attrs": {
        "height": 0.8,
        "width": 0.8,
        "x": 0.1,
        "y": 0.1
       },
       "content": {
        "cell": "2127856e-6912-46fa-aead-1dff80f2cb72",
        "part": "whole"
       },
       "id": "8c006c0e-069e-4f8c-bb2e-d835a08ebe7a"
      }
     }
    },
    "a6ca8a87-8ebd-4364-9e70-9246a63a126f": {
     "id": "a6ca8a87-8ebd-4364-9e70-9246a63a126f",
     "prev": "2a2899fb-0930-4adb-9f17-903745c97d1f",
     "regions": {
      "40573859-c984-408b-8f1c-2ece72e1ffd9": {
       "attrs": {
        "height": 0.8,
        "width": 0.8,
        "x": 0.1,
        "y": 0.1
       },
       "content": {
        "cell": "bd662229-fb58-45ca-a459-c5550f13351f",
        "part": "whole"
       },
       "id": "40573859-c984-408b-8f1c-2ece72e1ffd9"
      }
     }
    },
    "b120fe84-e89e-4260-ba3e-abca9dc81f36": {
     "id": "b120fe84-e89e-4260-ba3e-abca9dc81f36",
     "prev": "f5d3f9f3-1cec-43f6-91aa-9eb13b8edae7",
     "regions": {
      "51ccfe5a-c12c-4355-b6e3-da4912fbc1e6": {
       "attrs": {
        "height": 0.8,
        "width": 0.8,
        "x": 0.1,
        "y": 0.1
       },
       "content": {
        "cell": "5b740c04-1b03-4ea3-8c47-20c5b596a951",
        "part": "whole"
       },
       "id": "51ccfe5a-c12c-4355-b6e3-da4912fbc1e6"
      }
     }
    },
    "b6122787-ed69-4534-881b-7a4dad827ea1": {
     "id": "b6122787-ed69-4534-881b-7a4dad827ea1",
     "prev": "648ea32a-0ee6-42ec-8d0a-cf03f0ca4d7c",
     "regions": {
      "3d8f2193-7660-4ed4-8990-6a6e5e14f4b9": {
       "attrs": {
        "height": 0.8,
        "width": 0.8,
        "x": 0.1,
        "y": 0.1
       },
       "content": {
        "cell": "0cfb37a7-f794-48a2-873e-610d3e667210",
        "part": "whole"
       },
       "id": "3d8f2193-7660-4ed4-8990-6a6e5e14f4b9"
      }
     }
    },
    "b7b0dfff-63e3-4884-843f-ca19e31314ac": {
     "id": "b7b0dfff-63e3-4884-843f-ca19e31314ac",
     "prev": "0118a021-5204-463b-a3c6-431aa32eb914",
     "regions": {
      "dbef0656-dbc0-447b-b77b-74e321eb8336": {
       "attrs": {
        "height": 0.8,
        "width": 0.8,
        "x": 0.1,
        "y": 0.1
       },
       "content": {
        "cell": "ff4a905d-f08b-44d8-b345-e5b079228bf1",
        "part": "whole"
       },
       "id": "dbef0656-dbc0-447b-b77b-74e321eb8336"
      }
     }
    },
    "ba46bf6e-36f4-4d46-8c36-012175aca8f2": {
     "id": "ba46bf6e-36f4-4d46-8c36-012175aca8f2",
     "prev": "2cecce71-1bf4-4d32-9f37-f8b99a772488",
     "regions": {
      "e0cfa627-5e9b-40ee-9f7b-95ffc12bc78b": {
       "attrs": {
        "height": 0.8,
        "width": 0.8,
        "x": 0.1,
        "y": 0.1
       },
       "content": {
        "cell": "47a1d3f2-002e-4c06-a329-f5d80db80169",
        "part": "whole"
       },
       "id": "e0cfa627-5e9b-40ee-9f7b-95ffc12bc78b"
      }
     }
    },
    "bc44ea24-3b8e-4bc4-95e8-37355437727d": {
     "id": "bc44ea24-3b8e-4bc4-95e8-37355437727d",
     "prev": "ffdf93a5-a810-44aa-a098-60d93d053be5",
     "regions": {
      "60b23066-4454-4fa9-b171-98ca06254776": {
       "attrs": {
        "height": 0.8,
        "width": 0.8,
        "x": 0.1,
        "y": 0.1
       },
       "content": {
        "cell": "1b9963ed-eacb-418e-ac5a-bbf879f8298b",
        "part": "whole"
       },
       "id": "60b23066-4454-4fa9-b171-98ca06254776"
      }
     }
    },
    "bf16d192-26ba-4a21-b16a-0b99e0339d4c": {
     "id": "bf16d192-26ba-4a21-b16a-0b99e0339d4c",
     "prev": "0ec99562-4612-4648-b8e3-9c1922181442",
     "regions": {
      "b9186132-4e65-484a-a482-72774d6f3e93": {
       "attrs": {
        "height": 0.8,
        "width": 0.8,
        "x": 0.1,
        "y": 0.1
       },
       "content": {
        "cell": "c71e381a-7152-4c1a-a5c7-df90bd76b29f",
        "part": "whole"
       },
       "id": "b9186132-4e65-484a-a482-72774d6f3e93"
      }
     }
    },
    "c060b9e5-17bc-44bc-a009-97d199cd36ce": {
     "id": "c060b9e5-17bc-44bc-a009-97d199cd36ce",
     "prev": "218b1fea-4532-49f4-8cfd-8ac95d85cf28",
     "regions": {
      "929bfaac-17a4-491c-9ca0-99392bddb287": {
       "attrs": {
        "height": 0.8,
        "width": 0.8,
        "x": 0.1,
        "y": 0.1
       },
       "content": {
        "cell": "256b396d-17e3-4173-ba48-0eaa6d441ca3",
        "part": "whole"
       },
       "id": "929bfaac-17a4-491c-9ca0-99392bddb287"
      }
     }
    },
    "c1004d65-5434-4129-87f8-257c80a1a653": {
     "id": "c1004d65-5434-4129-87f8-257c80a1a653",
     "prev": "dff19a82-f8ca-4f12-b983-8dbcc3ea068e",
     "regions": {
      "dcacf039-d5d4-4c75-a680-565b0f531394": {
       "attrs": {
        "height": 0.8,
        "width": 0.8,
        "x": 0.1,
        "y": 0.1
       },
       "content": {
        "cell": "102a8ec5-f068-4e59-89cf-bfdc3144fca0",
        "part": "whole"
       },
       "id": "dcacf039-d5d4-4c75-a680-565b0f531394"
      }
     }
    },
    "c2cb71ed-8b82-4506-8db3-e0aa073df128": {
     "id": "c2cb71ed-8b82-4506-8db3-e0aa073df128",
     "prev": "c1004d65-5434-4129-87f8-257c80a1a653",
     "regions": {
      "33e14b6e-7051-47bf-9720-f95c0a563639": {
       "attrs": {
        "height": 0.8,
        "width": 0.8,
        "x": 0.1,
        "y": 0.1
       },
       "content": {
        "cell": "89040638-e35f-4507-8e75-40865f7f3db3",
        "part": "whole"
       },
       "id": "33e14b6e-7051-47bf-9720-f95c0a563639"
      }
     }
    },
    "c79bb49b-be61-4435-ab25-76fb622857f1": {
     "id": "c79bb49b-be61-4435-ab25-76fb622857f1",
     "prev": "00a9b6a9-ed92-4ccb-9afc-254b90726175",
     "regions": {
      "3732b40e-f62e-49c0-86fd-5a2b6ea8324e": {
       "attrs": {
        "height": 0.8,
        "width": 0.8,
        "x": 0.1,
        "y": 0.1
       },
       "content": {
        "cell": "213d9750-e367-480d-b2d1-af8176e5cc78",
        "part": "whole"
       },
       "id": "3732b40e-f62e-49c0-86fd-5a2b6ea8324e"
      }
     }
    },
    "cd004b6c-b2f0-4b9f-b0a8-6b7bb1195fe1": {
     "id": "cd004b6c-b2f0-4b9f-b0a8-6b7bb1195fe1",
     "prev": "c79bb49b-be61-4435-ab25-76fb622857f1",
     "regions": {
      "d05d64da-cf70-468a-88b3-422133c871d5": {
       "attrs": {
        "height": 0.8,
        "width": 0.8,
        "x": 0.1,
        "y": 0.1
       },
       "content": {
        "cell": "1005a531-8658-4f7a-8e6c-eb0c68dec0cf",
        "part": "whole"
       },
       "id": "d05d64da-cf70-468a-88b3-422133c871d5"
      }
     }
    },
    "cecc1a15-f175-45a4-bfb7-7a71e2e4992d": {
     "id": "cecc1a15-f175-45a4-bfb7-7a71e2e4992d",
     "prev": "6dccf7c6-0ec4-408c-a4e9-07950ccdb618",
     "regions": {
      "7f023c2c-1d77-4a88-ab81-22485c326760": {
       "attrs": {
        "height": 0.8,
        "width": 0.8,
        "x": 0.1,
        "y": 0.1
       },
       "content": {
        "cell": "d4477b3a-d14f-4763-a36b-b560602f670a",
        "part": "whole"
       },
       "id": "7f023c2c-1d77-4a88-ab81-22485c326760"
      }
     }
    },
    "d1ad2ec8-388c-4bd2-9685-1ceec3c31a4a": {
     "id": "d1ad2ec8-388c-4bd2-9685-1ceec3c31a4a",
     "prev": "47b2fc57-7a94-4bfb-8d63-03af0d503668",
     "regions": {
      "8784e707-d2d9-4bcf-9987-e3170b2c1588": {
       "attrs": {
        "height": 0.8,
        "width": 0.8,
        "x": 0.1,
        "y": 0.1
       },
       "content": {
        "cell": "2afce18b-f420-46cf-b90e-94408537a995",
        "part": "whole"
       },
       "id": "8784e707-d2d9-4bcf-9987-e3170b2c1588"
      }
     }
    },
    "d831c71a-8dca-45b4-a147-d7835e884505": {
     "id": "d831c71a-8dca-45b4-a147-d7835e884505",
     "prev": "cd004b6c-b2f0-4b9f-b0a8-6b7bb1195fe1",
     "regions": {
      "2971b4a4-19f0-46ec-aa1c-3940a8b6d8ac": {
       "attrs": {
        "height": 0.8,
        "width": 0.8,
        "x": 0.1,
        "y": 0.1
       },
       "content": {
        "cell": "28545974-4073-4283-8696-ada9f39c12ce",
        "part": "whole"
       },
       "id": "2971b4a4-19f0-46ec-aa1c-3940a8b6d8ac"
      }
     }
    },
    "dc707061-8afe-453c-8a04-164fcf72d500": {
     "id": "dc707061-8afe-453c-8a04-164fcf72d500",
     "prev": "c060b9e5-17bc-44bc-a009-97d199cd36ce",
     "regions": {
      "81d4f7bb-7b59-4273-b678-cb681e22213e": {
       "attrs": {
        "height": 0.8,
        "width": 0.8,
        "x": 0.1,
        "y": 0.1
       },
       "content": {
        "cell": "972b38a6-d5ab-400f-911a-2021b4a788a5",
        "part": "whole"
       },
       "id": "81d4f7bb-7b59-4273-b678-cb681e22213e"
      }
     }
    },
    "dff19a82-f8ca-4f12-b983-8dbcc3ea068e": {
     "id": "dff19a82-f8ca-4f12-b983-8dbcc3ea068e",
     "prev": null,
     "regions": {
      "c130a8e8-a708-497c-be5c-989ae57eb641": {
       "attrs": {
        "height": 0.8,
        "width": 0.8,
        "x": 0.1,
        "y": 0.1
       },
       "content": {
        "cell": "5e7e3b7e-f243-4ae0-84c2-805ebc975a24",
        "part": "whole"
       },
       "id": "c130a8e8-a708-497c-be5c-989ae57eb641"
      }
     }
    },
    "e70ba572-cdac-4f1a-8935-0511a021819b": {
     "id": "e70ba572-cdac-4f1a-8935-0511a021819b",
     "prev": "5ffcfa27-f125-4d72-a12e-1d5ef48ff195",
     "regions": {
      "0971bb34-2362-49fd-a3b9-359aacc211d7": {
       "attrs": {
        "height": 0.8,
        "width": 0.8,
        "x": 0.1,
        "y": 0.1
       },
       "content": {
        "cell": "ce641539-92ec-40c3-b8ac-f06e68650a18",
        "part": "whole"
       },
       "id": "0971bb34-2362-49fd-a3b9-359aacc211d7"
      }
     }
    },
    "e716a05b-d0d5-440c-a1d5-d21f4f07dde5": {
     "id": "e716a05b-d0d5-440c-a1d5-d21f4f07dde5",
     "prev": "4f86d990-fc27-489d-9c38-c01c1d3e01dd",
     "regions": {
      "6f3e6deb-c40f-4c1e-ab5f-a43497f5c761": {
       "attrs": {
        "height": 0.8,
        "width": 0.8,
        "x": 0.1,
        "y": 0.1
       },
       "content": {
        "cell": "04b7a506-d3fc-4f3a-87f6-cbe3abd8b618",
        "part": "whole"
       },
       "id": "6f3e6deb-c40f-4c1e-ab5f-a43497f5c761"
      }
     }
    },
    "e7232677-978f-49ab-8815-8a61b8c38247": {
     "id": "e7232677-978f-49ab-8815-8a61b8c38247",
     "prev": "143372f7-12cd-43cb-af4c-1deac5dabd3d",
     "regions": {
      "89b72a89-38e5-467f-ab63-38f164d04b92": {
       "attrs": {
        "height": 0.8,
        "width": 0.8,
        "x": 0.1,
        "y": 0.1
       },
       "content": {
        "cell": "64ff396a-9aff-4d2f-924e-a9db3335f6e3",
        "part": "whole"
       },
       "id": "89b72a89-38e5-467f-ab63-38f164d04b92"
      }
     }
    },
    "eac77d69-9015-4254-bd59-d7e128925ac5": {
     "id": "eac77d69-9015-4254-bd59-d7e128925ac5",
     "prev": "5c1cba24-a816-4fa2-b6dd-8a841dcc1886",
     "regions": {
      "ed1b638e-c42a-433d-a431-b284f83a1dc0": {
       "attrs": {
        "height": 0.8,
        "width": 0.8,
        "x": 0.1,
        "y": 0.1
       },
       "content": {
        "cell": "72c4cd49-1b1e-4adc-8e0d-1212ef2d72fe",
        "part": "whole"
       },
       "id": "ed1b638e-c42a-433d-a431-b284f83a1dc0"
      }
     }
    },
    "ed980d31-14d0-484a-87db-e679fc715f54": {
     "id": "ed980d31-14d0-484a-87db-e679fc715f54",
     "prev": "e716a05b-d0d5-440c-a1d5-d21f4f07dde5",
     "regions": {
      "90058b53-cccf-4e78-80a4-84a7ec83323e": {
       "attrs": {
        "height": 0.8,
        "width": 0.8,
        "x": 0.1,
        "y": 0.1
       },
       "content": {
        "cell": "0330bbc1-e95c-4242-9b0e-f5216b3f2d85",
        "part": "whole"
       },
       "id": "90058b53-cccf-4e78-80a4-84a7ec83323e"
      }
     }
    },
    "efdaaa17-4b50-470c-9fa7-32bba9639cdc": {
     "id": "efdaaa17-4b50-470c-9fa7-32bba9639cdc",
     "prev": "6132895e-f948-4fad-9841-1b0e81fb35fd",
     "regions": {
      "f2aa62e5-8fb1-43c9-80e9-15748e65a2c4": {
       "attrs": {
        "height": 0.8,
        "width": 0.8,
        "x": 0.1,
        "y": 0.1
       },
       "content": {
        "cell": "3cd9f1b0-49a4-4f75-9179-014f8c66537c",
        "part": "whole"
       },
       "id": "f2aa62e5-8fb1-43c9-80e9-15748e65a2c4"
      }
     }
    },
    "f2b0712c-b25f-41bf-a6bb-06b5881b835a": {
     "id": "f2b0712c-b25f-41bf-a6bb-06b5881b835a",
     "prev": "e7232677-978f-49ab-8815-8a61b8c38247",
     "regions": {
      "aa9f11ec-5832-476e-8a79-e5c0434e5e1a": {
       "attrs": {
        "height": 0.8,
        "width": 0.8,
        "x": 0.1,
        "y": 0.1
       },
       "content": {
        "cell": "f1b2c899-480f-4c57-ac75-4ba7b73b77c9",
        "part": "whole"
       },
       "id": "aa9f11ec-5832-476e-8a79-e5c0434e5e1a"
      }
     }
    },
    "f5d3f9f3-1cec-43f6-91aa-9eb13b8edae7": {
     "id": "f5d3f9f3-1cec-43f6-91aa-9eb13b8edae7",
     "prev": "467c2f61-5573-42b1-ac9b-952861360329",
     "regions": {
      "a55ec434-ae63-42b6-9e5b-fb232a43a699": {
       "attrs": {
        "height": 0.8,
        "width": 0.8,
        "x": 0.1,
        "y": 0.1
       },
       "content": {
        "cell": "aca87b78-e740-45f3-bbb4-2d213bf30c14",
        "part": "whole"
       },
       "id": "a55ec434-ae63-42b6-9e5b-fb232a43a699"
      }
     }
    },
    "f6a69907-8c92-4e61-bc1b-bc9a424d1b0b": {
     "id": "f6a69907-8c92-4e61-bc1b-bc9a424d1b0b",
     "prev": "02d06e0f-9a1a-4d97-ade7-3f92bf15eab9",
     "regions": {
      "8c0c8b95-df45-46ab-b464-47a4f196f58d": {
       "attrs": {
        "height": 0.8,
        "width": 0.8,
        "x": 0.1,
        "y": 0.1
       },
       "content": {
        "cell": "84a94109-3e29-477e-b1a8-076b54c43cff",
        "part": "whole"
       },
       "id": "8c0c8b95-df45-46ab-b464-47a4f196f58d"
      }
     }
    },
    "f9d2421d-cdf4-4df1-ae13-feafd884f68c": {
     "id": "f9d2421d-cdf4-4df1-ae13-feafd884f68c",
     "prev": "b120fe84-e89e-4260-ba3e-abca9dc81f36",
     "regions": {
      "e32f203f-e274-4f50-bfa8-766af70c35a1": {
       "attrs": {
        "height": 0.8,
        "width": 0.8,
        "x": 0.1,
        "y": 0.1
       },
       "content": {
        "cell": "70533e61-62b4-4f76-9f84-f416531f864d",
        "part": "whole"
       },
       "id": "e32f203f-e274-4f50-bfa8-766af70c35a1"
      }
     }
    },
    "ffdf93a5-a810-44aa-a098-60d93d053be5": {
     "id": "ffdf93a5-a810-44aa-a098-60d93d053be5",
     "prev": "937ba873-91d1-44f5-8112-a2e7aba14d75",
     "regions": {
      "97d5f92a-4ad8-4a07-85ed-6418e32b6e3b": {
       "attrs": {
        "height": 0.8,
        "width": 0.8,
        "x": 0.1,
        "y": 0.1
       },
       "content": {
        "cell": "d301ac70-ed40-4e19-abea-2657b5a86ee8",
        "part": "whole"
       },
       "id": "97d5f92a-4ad8-4a07-85ed-6418e32b6e3b"
      }
     }
    }
   },
   "themes": {}
  }
 },
 "nbformat": 4,
 "nbformat_minor": 0
}
